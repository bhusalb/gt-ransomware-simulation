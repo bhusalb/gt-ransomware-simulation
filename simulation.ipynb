{
 "cells": [
  {
   "cell_type": "code",
   "execution_count": 43,
   "metadata": {
    "id": "baa6zkaJtqmZ"
   },
   "outputs": [],
   "source": [
    "import numpy as np\n",
    "import math\n",
    "import copy\n",
    "\n",
    "def calculate_C_H(n_ht, C_ht, C_hp, n_hf, C_hf):\n",
    "  return (n_ht * C_ht) + C_hp + (n_hf * C_hf)\n",
    "\n",
    "\n",
    "def calculate_rho(C_ht, n_ht, C_D):\n",
    "  return 1 - math.exp((-C_ht * n_ht) / C_D)\n",
    "\n",
    "\n",
    "def calculate_gamma(C_hf, n_hf, C_D):\n",
    "  return 1 - math.exp((-C_hf * n_hf) / C_D)\n",
    "\n",
    "def calculate_tau(C_hp, C_D):\n",
    "  return 1 - math.exp((-C_hp) / C_D)\n",
    "\n",
    "def calculate_zeta(C_nh, C_D):\n",
    "  return 1 - math.exp((-C_nh) / C_D)\n",
    "\n",
    "class Parameters:\n",
    "    def __init__(self, B=None, C_ht=None, n_ht=None, C_hp=None, C_hf=None, n_hf=None,\n",
    "                 C_nh=None, C_D=None, C_x=None,\n",
    "                  V_i=None, V_i_prime=None, V_p=None, R_i=None, b_i=None,\n",
    "                 d_i=None, c_i=None, e_i=None, x_i=None, p_0=None, p_1=None, p_2=None,\n",
    "                 p_3=None, T=None, F=None, k=None, h_i=None):\n",
    "        self.B = B\n",
    "        self.C_ht = C_ht\n",
    "        self.n_ht = n_ht\n",
    "        self.C_hp = C_hp\n",
    "        self.C_hf = C_hf\n",
    "        self.n_hf = n_hf\n",
    "        self.C_nh = C_nh\n",
    "        self.C_H = calculate_C_H(n_ht=n_ht, C_ht=C_ht, C_hp=C_hp, n_hf=n_hf, C_hf=C_hf)\n",
    "        self.C_D = C_D\n",
    "        self.C_x = C_x\n",
    "        self.rho = calculate_rho(C_ht, n_ht, C_D)\n",
    "        self.tau = calculate_tau(C_hp, C_D)\n",
    "        self.gamma = calculate_gamma(C_hf, n_hf, C_D)\n",
    "        self.zeta = calculate_zeta(C_nh, C_D)\n",
    "        self.V_i = V_i\n",
    "        self.V_i_prime = V_i_prime\n",
    "        self.V_p = V_p\n",
    "        self.R_i = R_i\n",
    "        self.b_i = b_i\n",
    "        self.d_i = d_i\n",
    "        self.c_i = c_i\n",
    "        self.e_i = e_i\n",
    "        self.x_i = x_i\n",
    "        self.p_0 = p_0\n",
    "        self.p_1 = p_1\n",
    "        self.p_2 = p_2\n",
    "        self.p_3 = p_3\n",
    "        self.T = T\n",
    "        self.F = F\n",
    "        self.k = k\n",
    "        self.h_i = h_i\n",
    "    # def __copy__(self):\n",
    "    #   my_dict = vars(self)\n",
    "    #   print(my_dict)\n",
    "    #   del my_dict['rho']\n",
    "    #   del my_dict['tau']\n",
    "    #   del my_dict['gamma']\n",
    "    #   del my_dict['zeta']\n",
    "    #   del my_dict['C_H']\n",
    "    #   return Parameters(**my_dict)\n",
    "\n",
    "# U_leaf0\n",
    "def U_leaf0(p: Parameters):\n",
    "\n",
    "\n",
    "\n",
    "    if p.k == 0:\n",
    "        defender_utility = 0\n",
    "    else:\n",
    "        defender_utility = - p.C_H\n",
    "\n",
    "\n",
    "\n",
    "    attacker_utility = p.T - p.C_D - p.F\n",
    "\n",
    "\n",
    "\n",
    "    return defender_utility, attacker_utility\n",
    "\n",
    "\n",
    "\n",
    "# U_leaf1\n",
    "def U_leaf1(p: Parameters):\n",
    "\n",
    "\n",
    "\n",
    "    if p.k == 0:\n",
    "        defender_utility = 0\n",
    "    else:\n",
    "        defender_utility = -p.C_H\n",
    "\n",
    "\n",
    "\n",
    "    attacker_utility = p.T - p.C_D\n",
    "\n",
    "\n",
    "\n",
    "    return defender_utility, attacker_utility\n",
    "\n",
    "\n",
    "\n",
    "# U_leaf2\n",
    "def U_leaf2(p: Parameters):\n",
    "\n",
    "\n",
    "\n",
    "    if p.k == 0:\n",
    "        defender_utility = 0\n",
    "    else:\n",
    "        defender_utility = -p.C_H\n",
    "\n",
    "\n",
    "\n",
    "    attacker_utility = p.T - p.C_D - p.F - p.C_x\n",
    "\n",
    "\n",
    "\n",
    "    return defender_utility, attacker_utility\n",
    "\n",
    "\n",
    "\n",
    "# U_leaf3\n",
    "def U_leaf3(p: Parameters):\n",
    "    if p.k == 0:\n",
    "        defender_utility = 0\n",
    "    else:\n",
    "        defender_utility = - p.C_H\n",
    "\n",
    "\n",
    "\n",
    "    attacker_utility = p.T - p.C_D + p.C_x\n",
    "\n",
    "\n",
    "\n",
    "    return defender_utility, attacker_utility\n",
    "\n",
    "\n",
    "\n",
    "# U_leaf4\n",
    "def U_leaf4(p: Parameters):\n",
    "\n",
    "\n",
    "\n",
    "    if p.k == 0:\n",
    "        defender_utility = - p.V_p\n",
    "    else:\n",
    "        defender_utility = - p.V_p - p.C_H\n",
    "\n",
    "\n",
    "\n",
    "    attacker_utility = p.T - p.C_D +p.V_i_prime - p.F - p.C_x\n",
    "\n",
    "\n",
    "\n",
    "    return defender_utility, attacker_utility\n",
    "\n",
    "\n",
    "\n",
    "# U_leaf5\n",
    "def U_leaf5(p: Parameters):\n",
    "\n",
    "\n",
    "\n",
    "    if p.k == 0:\n",
    "        defender_utility = -p.V_p\n",
    "    else:\n",
    "        defender_utility = -p.V_p - p.C_H\n",
    "\n",
    "\n",
    "\n",
    "    attacker_utility = p.T - p.C_D + p.V_i_prime - p.C_x\n",
    "\n",
    "\n",
    "\n",
    "    return defender_utility, attacker_utility\n",
    "\n",
    "\n",
    "\n",
    "# U_leaf6\n",
    "def U_leaf6(p: Parameters):\n",
    "\n",
    "\n",
    "\n",
    "    if p.k == 0:\n",
    "        defender_utility = p.V_i\n",
    "    else:\n",
    "        defender_utility = p.V_i - p.C_H\n",
    "\n",
    "\n",
    "\n",
    "    attacker_utility = -p.C_D - p.F\n",
    "\n",
    "\n",
    "\n",
    "    return defender_utility, attacker_utility\n",
    "\n",
    "\n",
    "\n",
    "# U_leaf7\n",
    "def U_leaf7(p: Parameters):\n",
    "    if p.k == 0:\n",
    "        defender_utility = p.V_i\n",
    "    else:\n",
    "        defender_utility = p.V_i - p.C_H\n",
    "\n",
    "\n",
    "\n",
    "    attacker_utility = -p.C_D\n",
    "\n",
    "\n",
    "\n",
    "    return defender_utility, attacker_utility\n",
    "\n",
    "\n",
    "\n",
    "# U_leaf8\n",
    "def U_leaf8(p: Parameters):\n",
    "\n",
    "\n",
    "\n",
    "    if p.k == 0:\n",
    "        defender_utility = p.V_i\n",
    "    else:\n",
    "        defender_utility = p.V_i - p.C_H\n",
    "\n",
    "\n",
    "\n",
    "    attacker_utility = -p.C_D - p.F - p.C_x\n",
    "\n",
    "\n",
    "\n",
    "    return defender_utility, attacker_utility\n",
    "\n",
    "\n",
    "\n",
    "# U_leaf9\n",
    "def U_leaf9(p: Parameters):\n",
    "    if p.k == 0:\n",
    "        defender_utility = p.V_i\n",
    "    else:\n",
    "        defender_utility = p.V_i - p.C_H\n",
    "\n",
    "\n",
    "\n",
    "    attacker_utility = - p.C_D - p.C_x\n",
    "\n",
    "\n",
    "\n",
    "    return defender_utility, attacker_utility\n",
    "\n",
    "\n",
    "\n",
    "# U_leaf10\n",
    "def U_leaf10(p: Parameters):\n",
    "    if p.k == 0:\n",
    "        defender_utility = p.V_i - p.V_p\n",
    "    else:\n",
    "        defender_utility = p.V_i - p.V_p - p.C_H\n",
    "\n",
    "\n",
    "\n",
    "    attacker_utility = - p.C_D + p.V_i_prime - p.F - p.C_x\n",
    "\n",
    "\n",
    "\n",
    "    return defender_utility, attacker_utility\n",
    "\n",
    "\n",
    "\n",
    "# U_leaf11\n",
    "def U_leaf11(p: Parameters):\n",
    "    if p.k == 0:\n",
    "        defender_utility = p.V_i - p.V_p\n",
    "    else:\n",
    "        defender_utility = p.V_i - p.V_p - p.C_H\n",
    "\n",
    "\n",
    "\n",
    "    attacker_utility = -p.C_D + p.V_i_prime - p.C_x\n",
    "\n",
    "\n",
    "\n",
    "    return defender_utility, attacker_utility\n",
    "\n",
    "\n",
    "\n",
    "# U_leaf12\n",
    "def U_leaf12(p: Parameters):\n",
    "    if p.k == 0:\n",
    "        defender_utility = - p.R_i\n",
    "    else:\n",
    "        defender_utility = - p.R_i - p.C_H\n",
    "\n",
    "\n",
    "\n",
    "    attacker_utility = p.R_i - p.C_D - p.F\n",
    "\n",
    "\n",
    "\n",
    "    return defender_utility, attacker_utility\n",
    "\n",
    "\n",
    "\n",
    "# U_leaf13\n",
    "def U_leaf13(p: Parameters):\n",
    "\n",
    "\n",
    "\n",
    "    if p.k == 0:\n",
    "        defender_utility = - p.R_i\n",
    "    else:\n",
    "        defender_utility =  - p.R_i - p.C_H\n",
    "\n",
    "\n",
    "\n",
    "    attacker_utility = p.R_i - p.C_D\n",
    "\n",
    "\n",
    "\n",
    "    return defender_utility, attacker_utility\n",
    "\n",
    "\n",
    "\n",
    "# U_leaf14\n",
    "def U_leaf14(p: Parameters):\n",
    "    if p.k == 0:\n",
    "        defender_utility = - p.R_i\n",
    "    else:\n",
    "        defender_utility = - p.R_i - p.C_H\n",
    "\n",
    "\n",
    "\n",
    "    attacker_utility = p.R_i - p.C_D - p.F - p.C_x\n",
    "\n",
    "\n",
    "\n",
    "    return defender_utility, attacker_utility\n",
    "\n",
    "\n",
    "\n",
    "# U_leaf15\n",
    "def U_leaf15(p: Parameters):\n",
    "    if p.k == 0:\n",
    "        defender_utility = - p.R_i\n",
    "    else:\n",
    "        defender_utility = - p.R_i - p.C_H\n",
    "\n",
    "\n",
    "\n",
    "    attacker_utility = p.R_i - p.C_D - p.C_x\n",
    "\n",
    "\n",
    "\n",
    "    return defender_utility, attacker_utility\n",
    "\n",
    "\n",
    "\n",
    "# U_leaf16\n",
    "def U_leaf16(p: Parameters):\n",
    "    if p.k == 0:\n",
    "        defender_utility = - p.R_i - p.V_p\n",
    "    else:\n",
    "        defender_utility = - p.R_i - p.V_p - p.C_H\n",
    "\n",
    "\n",
    "\n",
    "    attacker_utility = p.R_i - p.C_D + p.V_i_prime - p.F - p.C_x\n",
    "\n",
    "\n",
    "\n",
    "    return defender_utility, attacker_utility\n",
    "\n",
    "\n",
    "\n",
    "# U_leaf17\n",
    "def U_leaf17(p: Parameters):\n",
    "    if p.k == 0:\n",
    "        defender_utility = - p.R_i - p.V_p\n",
    "    else:\n",
    "        defender_utility = - p.R_i - p.V_p - p.C_H\n",
    "\n",
    "\n",
    "\n",
    "    attacker_utility = p.R_i - p.C_D + p.V_i_prime - p.C_x\n",
    "\n",
    "\n",
    "\n",
    "    return defender_utility, attacker_utility\n",
    "\n",
    "\n",
    "\n",
    "# U_leaf18\n",
    "def U_leaf18(p: Parameters):\n",
    "    if p.k == 0:\n",
    "        defender_utility = - p.R_i + p.V_i\n",
    "    else:\n",
    "        defender_utility = p.V_i - p.R_i - p.C_H\n",
    "\n",
    "\n",
    "\n",
    "    attacker_utility = p.R_i + p.T - p.C_D - p.F\n",
    "\n",
    "\n",
    "\n",
    "    return defender_utility, attacker_utility\n",
    "\n",
    "\n",
    "\n",
    "# U_leaf19\n",
    "def U_leaf19(p: Parameters):\n",
    "    if p.k == 0:\n",
    "        defender_utility = p.V_i - p.R_i\n",
    "    else:\n",
    "        defender_utility = p.V_i - p.R_i - p.C_H\n",
    "\n",
    "\n",
    "\n",
    "    attacker_utility = p.R_i + p.T - p.C_D\n",
    "\n",
    "\n",
    "\n",
    "    return defender_utility, attacker_utility\n",
    "\n",
    "\n",
    "\n",
    "\n",
    "\n",
    "# U_leaf20\n",
    "def U_leaf20(p: Parameters):\n",
    "    if p.k == 0:\n",
    "        defender_utility = p.V_i - p.R_i\n",
    "    else:\n",
    "        defender_utility = p.V_i - p.R_i - p.C_H\n",
    "\n",
    "\n",
    "\n",
    "    attacker_utility = p.R_i + p.T - p.C_D - p.F - p.C_x\n",
    "\n",
    "\n",
    "\n",
    "    return defender_utility, attacker_utility\n",
    "\n",
    "\n",
    "\n",
    "# U_leaf21\n",
    "def U_leaf21(p: Parameters):\n",
    "    if p.k == 0:\n",
    "        defender_utility = p.V_i - p.R_i\n",
    "    else:\n",
    "        defender_utility = p.V_i - p.R_i - p.C_H\n",
    "\n",
    "    attacker_utility = p.T + p.R_i - p.C_D - p.C_x\n",
    "\n",
    "\n",
    "\n",
    "    return defender_utility, attacker_utility\n",
    "\n",
    "\n",
    "\n",
    "# U_leaf22\n",
    "def U_leaf22(p: Parameters):\n",
    "    if p.k == 0:\n",
    "        defender_utility = p.V_i - p.R_i - p.V_p\n",
    "    else:\n",
    "        defender_utility = p.V_i - p.R_i - p.V_p - p.C_H\n",
    "\n",
    "\n",
    "\n",
    "    attacker_utility = p.R_i + p.T - p.C_D + p.V_i_prime - p.F - p.C_x\n",
    "\n",
    "\n",
    "\n",
    "    return defender_utility, attacker_utility\n",
    "\n",
    "\n",
    "\n",
    "# U_leaf23\n",
    "def U_leaf23(p: Parameters):\n",
    "\n",
    "\n",
    "\n",
    "    if p.k == 0:\n",
    "        defender_utility = p.V_i - p.R_i - p.V_p\n",
    "    else:\n",
    "        defender_utility = p.V_i - p.R_i - p.V_p - p.C_H\n",
    "\n",
    "\n",
    "\n",
    "    attacker_utility = p.R_i + p.T - p.C_D + p.V_i_prime - p.C_x\n",
    "\n",
    "\n",
    "\n",
    "    return defender_utility, attacker_utility"
   ]
  },
  {
   "cell_type": "code",
   "execution_count": 2,
   "metadata": {
    "id": "pyvry4tDTJCh"
   },
   "outputs": [],
   "source": [
    "def t_u_10_k_11(p: Parameters):\n",
    "  return p.p_3 * U_leaf22(p)[1] + (1-p.p_3) * U_leaf23(p)[1]\n",
    "\n",
    "def t_u_10_k_10(p: Parameters):\n",
    "  return p.p_3 * U_leaf20(p)[1] + (1-p.p_3) * U_leaf21(p)[1]\n",
    "\n",
    "def t_u_10_k_9(p: Parameters):\n",
    "  return p.p_2 * U_leaf18(p)[1] + (1-p.p_2) * U_leaf19(p)[1]\n",
    "\n",
    "def t_u_10_k_8(p: Parameters):\n",
    "  return p.p_1 * U_leaf16(p)[1] + (1-p.p_1) * U_leaf17(p)[1]\n",
    "\n",
    "def t_u_10_k_7(p: Parameters):\n",
    "  return p.p_1 * U_leaf14(p)[1] + (1-p.p_1) * U_leaf15(p)[1]\n",
    "\n",
    "def t_u_10_k_6(p: Parameters):\n",
    "  return p.p_0 * U_leaf12(p)[1] + (1-p.p_0) * U_leaf13(p)[1]\n",
    "\n",
    "\n",
    "def t_u_10_k_5(p: Parameters):\n",
    "  return p.p_3 * U_leaf10(p)[1] + (1-p.p_3) * U_leaf11(p)[1]\n",
    "\n",
    "def t_u_10_k_4(p: Parameters):\n",
    "  return p.p_3 * U_leaf8(p)[1] + (1-p.p_3) * U_leaf9(p)[1]\n",
    "\n",
    "def t_u_10_k_3(p: Parameters):\n",
    "  return p.p_2 * U_leaf6(p)[1] + (1-p.p_2) * U_leaf7(p)[1]\n",
    "\n",
    "def t_u_10_k_2(p: Parameters):\n",
    "  return p.p_1 * U_leaf4(p)[1] + (1-p.p_1) * U_leaf5(p)[1]\n",
    "\n",
    "def t_u_10_k_1(p: Parameters):\n",
    "  return p.p_1 * U_leaf2(p)[1] + (1-p.p_1) * U_leaf3(p)[1]\n",
    "\n",
    "def t_u_10_k_0(p: Parameters):\n",
    "  return p.p_0 * U_leaf0(p)[1] + (1-p.p_0) * U_leaf1(p)[1]"
   ]
  },
  {
   "cell_type": "code",
   "execution_count": 3,
   "metadata": {
    "id": "dPz2Bmc6VCNd"
   },
   "outputs": [],
   "source": [
    "def t_u_9_k_7(p: Parameters):\n",
    "  return p.zeta * t_u_10_k_10(p) + (1- p.zeta) * t_u_10_k_11(p)\n",
    "\n",
    "def t_u_9_k_6(p: Parameters):\n",
    "  return 1 * t_u_10_k_9(p)\n",
    "\n",
    "def t_u_9_k_5(p: Parameters):\n",
    "  return p.zeta * t_u_10_k_7(p) + (1 - p.zeta) * t_u_10_k_8(p)\n",
    "\n",
    "def t_u_9_k_4(p: Parameters):\n",
    "  return 1 * t_u_10_k_6(p)\n",
    "def t_u_9_k_3(p: Parameters):\n",
    "  return p.zeta * t_u_10_k_4(p) + (1 - p.zeta) * t_u_10_k_5(p)\n",
    "\n",
    "def t_u_9_k_2(p: Parameters):\n",
    "  return 1 * t_u_10_k_3(p)\n",
    "def t_u_9_k_1(p: Parameters):\n",
    "  return p.zeta * t_u_10_k_1(p) + (1- p.zeta) * t_u_10_k_2(p)\n",
    "def t_u_9_k_0(p: Parameters):\n",
    "  return 1 * t_u_10_k_0(p)"
   ]
  },
  {
   "cell_type": "code",
   "execution_count": 4,
   "metadata": {
    "id": "8bgO5LMIXxJ5"
   },
   "outputs": [],
   "source": [
    "#IV-A\n",
    "\n",
    "def zeta_8_k_2(param:Parameters):\n",
    "    t1 = param.p_0 *U_leaf12(param)[1] +(1-param.p_0)*U_leaf13(param)[1]\n",
    "    t2 = param.p_1 *U_leaf16(param)[1] +(1-param.p_1)*U_leaf17(param)[1]\n",
    "    t3 = param.p_1 *U_leaf14(param)[1] +(1-param.p_1)*U_leaf15(param)[1]\n",
    "    t4 = param.p_1 *U_leaf16(param)[1] +(1-param.p_1)*U_leaf17(param)[1]\n",
    "\n",
    "    return (t1-t2)/(t3-t4)\n",
    "\n",
    "\n",
    "def x_8_k_2(param:Parameters):\n",
    "    return param.zeta >= zeta_8_k_2(param)\n",
    "\n",
    "def zeta_8_k_3(param:Parameters):\n",
    "    t1 = param.p_2 *U_leaf18(param)[1] +(1-param.p_2)*U_leaf19(param)[1]\n",
    "    t2 = param.p_3 *U_leaf22(param)[1] +(1-param.p_3)*U_leaf23(param)[1]\n",
    "    t3 = param.p_3 *U_leaf20(param)[1] +(1-param.p_3)*U_leaf21(param)[1]\n",
    "    t4 = param.p_3 *U_leaf22(param)[1] +(1-param.p_3)*U_leaf23(param)[1]\n",
    "\n",
    "    return (t1-t2)/(t3-t4)\n",
    "\n",
    "def x_8_k_3(param:Parameters):\n",
    "    return param.zeta >= zeta_8_k_3(param)\n",
    "\n",
    "\n",
    "def zeta_8_k_1(param:Parameters):\n",
    "    t1 = param.p_2 *U_leaf6(param)[1] +(1-param.p_2)*U_leaf7(param)[1]\n",
    "    t2 = param.p_3 *U_leaf10(param)[1] +(1-param.p_3)*U_leaf11(param)[1]\n",
    "    t3 = param.p_3 *U_leaf8(param)[1] +(1-param.p_3)*U_leaf9(param)[1]\n",
    "    t4 = param.p_3 *U_leaf10(param)[1] +(1-param.p_3)*U_leaf11(param)[1]\n",
    "\n",
    "    return (t1-t2)/(t3-t4)\n",
    "\n",
    "\n",
    "\n",
    "def x_8_k_1(param:Parameters):\n",
    "    return param.zeta >= zeta_8_k_1(param)\n",
    "\n",
    "\n",
    "def zeta_8_k_0(param:Parameters):\n",
    "    t1 = param.p_0 *U_leaf0(param)[1] +(1-param.p_0)*U_leaf1(param)[1]\n",
    "    t2 = param.p_1 *U_leaf4(param)[1] +(1-param.p_1)*U_leaf5(param)[1]\n",
    "    t3 = param.p_1 *U_leaf2(param)[1] +(1-param.p_1)*U_leaf3(param)[1]\n",
    "    t4 = param.p_1 *U_leaf4(param)[1] +(1-param.p_1)*U_leaf5(param)[1]\n",
    "\n",
    "    return (t1-t2)/(t3-t4)\n",
    "\n",
    "def x_8_k_0(param:Parameters):\n",
    "    return param.zeta >= zeta_8_k_0(param)"
   ]
  },
  {
   "cell_type": "code",
   "execution_count": 5,
   "metadata": {
    "id": "qxTLjWmwYZEw"
   },
   "outputs": [],
   "source": [
    "def t_u_8_k_3(p:Parameters):\n",
    "  return x_8_k_3(p) * t_u_9_k_6(p) + (1-x_8_k_3(p)) * t_u_9_k_7(p)\n",
    "def t_u_8_k_2(p:Parameters):\n",
    "  return x_8_k_2(p) * t_u_9_k_4(p) + (1- x_8_k_2(p)) * t_u_9_k_5(p)\n",
    "def t_u_8_k_1(p:Parameters):\n",
    "  return x_8_k_1(p) * t_u_9_k_2(p) + (1 - x_8_k_1(p)) * t_u_9_k_3(p)\n",
    "def t_u_8_k_0(p:Parameters):\n",
    "  return x_8_k_0(p) * t_u_9_k_0(p) + (1 - x_8_k_0(p)) * t_u_9_k_1(p)\n"
   ]
  },
  {
   "cell_type": "code",
   "execution_count": 6,
   "metadata": {
    "id": "vmlvS-nUa1_V"
   },
   "outputs": [],
   "source": [
    "#preyea\n",
    "\n",
    "#IV-B 1\n",
    "\n",
    "def lambda_7_k_1(param:Parameters):\n",
    "   return  t_u_8_k_3(p)-t_u_8_k_2(p)\n",
    "\n",
    "def e_7_k_1(param:Parameters):\n",
    "    return lambda_7_k_1(param)>=0\n",
    "\n",
    "#IV-B 2\n",
    "\n",
    "def lambda_7_k_0(param:Parameters):\n",
    "    return t_u_8_k_1(p) - t_u_8_k_0(p)\n",
    "\n",
    "\n",
    "def e_7_k_0(param:Parameters):\n",
    "    return lambda_7_k_0(param)>=0"
   ]
  },
  {
   "cell_type": "markdown",
   "metadata": {
    "id": "st5xjQEBdxO3"
   },
   "source": []
  },
  {
   "cell_type": "code",
   "execution_count": 7,
   "metadata": {
    "id": "0E-wnnOMczT6"
   },
   "outputs": [],
   "source": [
    "def t_u_7_k_1(p:Parameters):\n",
    "  return e_7_k_1(p) * t_u_8_k_2(p) + (1 - e_7_k_1(p)) * t_u_8_k_3(p)\n",
    "def t_u_7_k_0(p:Parameters):\n",
    "  return e_7_k_0(p) * t_u_8_k_0(p) + (1 - e_7_k_0(p)) * t_u_8_k_1(p)"
   ]
  },
  {
   "cell_type": "code",
   "execution_count": 8,
   "metadata": {
    "id": "fZyuVGMPfl4R"
   },
   "outputs": [],
   "source": [
    "def u_10_k_11(p: Parameters):\n",
    "  return p.p_3 * U_leaf22(p)[0] + (1-p.p_3) * U_leaf23(p)[0]\n",
    "\n",
    "def u_10_k_10(p: Parameters):\n",
    "  return p.p_3 * U_leaf20(p)[0] + (1-p.p_3) * U_leaf21(p)[0]\n",
    "\n",
    "def u_10_k_9(p: Parameters):\n",
    "  return p.p_2 * U_leaf18(p)[0] + (1-p.p_2) * U_leaf19(p)[0]\n",
    "\n",
    "def u_10_k_8(p: Parameters):\n",
    "  return p.p_1 * U_leaf16(p)[0] + (1-p.p_1) * U_leaf17(p)[0]\n",
    "\n",
    "def u_10_k_7(p: Parameters):\n",
    "  return p.p_1 * U_leaf14(p)[0] + (1-p.p_1) * U_leaf15(p)[0]\n",
    "\n",
    "def u_10_k_6(p: Parameters):\n",
    "  return p.p_0 * U_leaf12(p)[0] + (1-p.p_0) * U_leaf13(p)[0]\n",
    "\n",
    "\n",
    "def u_10_k_5(p: Parameters):\n",
    "  return p.p_3 * U_leaf10(p)[0] + (1-p.p_3) * U_leaf11(p)[0]\n",
    "\n",
    "def u_10_k_4(p: Parameters):\n",
    "  return p.p_3 * U_leaf8(p)[0] + (1-p.p_3) * U_leaf9(p)[0]\n",
    "\n",
    "def u_10_k_3(p: Parameters):\n",
    "  return p.p_2 * U_leaf6(p)[0] + (1-p.p_2) * U_leaf7(p)[0]\n",
    "\n",
    "def u_10_k_2(p: Parameters):\n",
    "  return p.p_1 * U_leaf4(p)[0] + (1-p.p_1) * U_leaf5(p)[0]\n",
    "\n",
    "def u_10_k_1(p: Parameters):\n",
    "  return p.p_1 * U_leaf2(p)[0] + (1-p.p_1) * U_leaf3(p)[0]\n",
    "\n",
    "def u_10_k_0(p: Parameters):\n",
    "  return p.p_0 * U_leaf0(p)[0] + (1-p.p_0) * U_leaf1(p)[0]"
   ]
  },
  {
   "cell_type": "code",
   "execution_count": 9,
   "metadata": {
    "id": "yjOoj6vAgkT8"
   },
   "outputs": [],
   "source": [
    "def u_9_k_7(p: Parameters):\n",
    "  return p.zeta * u_10_k_10(p) + (1- p.zeta) * u_10_k_11(p)\n",
    "\n",
    "def u_9_k_6(p: Parameters):\n",
    "  return 1 * u_10_k_9(p)\n",
    "\n",
    "def u_9_k_5(p: Parameters):\n",
    "  return p.zeta * u_10_k_7(p) + (1 - p.zeta) * u_10_k_8(p)\n",
    "\n",
    "def u_9_k_4(p: Parameters):\n",
    "  return 1 * u_10_k_6(p)\n",
    "def u_9_k_3(p: Parameters):\n",
    "  return p.zeta * u_10_k_4(p) + (1 - p.zeta) * u_10_k_5(p)\n",
    "\n",
    "def u_9_k_2(p: Parameters):\n",
    "  return 1 * u_10_k_3(p)\n",
    "def u_9_k_1(p: Parameters):\n",
    "  return p.zeta * u_10_k_1(p) + (1- p.zeta) * u_10_k_2(p)\n",
    "def u_9_k_0(p: Parameters):\n",
    "  return 1 * u_10_k_0(p)"
   ]
  },
  {
   "cell_type": "code",
   "execution_count": 10,
   "metadata": {
    "id": "olNvDilihtp7"
   },
   "outputs": [],
   "source": [
    "def u_8_k_3(p:Parameters):\n",
    "  return x_8_k_3(p) * u_9_k_6(p) + (1-x_8_k_3(p)) * u_9_k_7(p)\n",
    "def u_8_k_2(p:Parameters):\n",
    "  return x_8_k_2(p) * u_9_k_4(p) + (1- x_8_k_2(p)) * u_9_k_5(p)\n",
    "def u_8_k_1(p:Parameters):\n",
    "  return x_8_k_1(p) * u_9_k_2(p) + (1 - x_8_k_1(p)) * u_9_k_3(p)\n",
    "def u_8_k_0(p:Parameters):\n",
    "  return x_8_k_0(p) * u_9_k_0(p) + (1 - x_8_k_0(p)) * u_9_k_1(p)\n"
   ]
  },
  {
   "cell_type": "code",
   "execution_count": 11,
   "metadata": {
    "id": "acK87zbmh7_P"
   },
   "outputs": [],
   "source": [
    "def u_7_k_1(p:Parameters):\n",
    "  return e_7_k_1(p) * u_8_k_2(p) + (1 - e_7_k_1(p)) * u_8_k_3(p)\n",
    "def u_7_k_0(p:Parameters):\n",
    "  return e_7_k_0(p) * u_8_k_0(p) + (1 - e_7_k_0(p)) * u_8_k_1(p)"
   ]
  },
  {
   "cell_type": "code",
   "execution_count": 12,
   "metadata": {
    "id": "CkvX0jeieA1Z"
   },
   "outputs": [],
   "source": [
    "#IV-C 1\n",
    "def beta_e_x(param:Parameters):\n",
    "   return e_7_k_1(param)*(x_8_k_3(param)*\n",
    "                          u_9_k_7(param)+(1-x_8_k_3(param))*u_9_k_6(param)) \\\n",
    "                          + (1-e_7_k_1(param))*(x_8_k_2(param)*u_9_k_5(param) \\\n",
    "                          +(1-x_8_k_2(param))*u_9_k_4(param))- e_7_k_0(param)* \\\n",
    "                           (x_8_k_1(param)*u_9_k_3(param)+(1-x_8_k_1(param))*u_9_k_2(param)) \\\n",
    "                           -(1-e_7_k_0(param))*(x_8_k_0(param)*u_9_k_1(param)+(1-x_8_k_0(param))*u_9_k_0(param))\n",
    "\n",
    "\n",
    "def c_6_k(param:Parameters):\n",
    "    return beta_e_x(param)>0"
   ]
  },
  {
   "cell_type": "code",
   "execution_count": 13,
   "metadata": {
    "id": "bWYAAiQDjVgx"
   },
   "outputs": [],
   "source": [
    "def t_u_7_k_0_with_k(p: Parameters, k):\n",
    "  cloned_p = copy.copy(p)\n",
    "  cloned_p.k = k\n",
    "  return t_u_7_k_0(cloned_p)\n",
    "\n",
    "\n",
    "def t_u_7_k_1_with_k(p: Parameters, k):\n",
    "  cloned_p = copy.copy(p)\n",
    "  cloned_p.k = k\n",
    "  return t_u_7_k_1(cloned_p)\n"
   ]
  },
  {
   "cell_type": "code",
   "execution_count": 14,
   "metadata": {
    "id": "mrb9rsUCmbSG"
   },
   "outputs": [],
   "source": [
    "def c_6(p: Parameters, k):\n",
    "  cloned_p = copy.copy(p)\n",
    "  cloned_p.k = k\n",
    "  return c_6_k(p)"
   ]
  },
  {
   "cell_type": "code",
   "execution_count": 60,
   "metadata": {
    "id": "m1U_r-W3iRBS"
   },
   "outputs": [],
   "source": [
    "#IV-D 3\n",
    "\n",
    "\n",
    "\n",
    "# def alpha(param:Parameters):\n",
    "#    return param.rho*param.tau*[param.gamma*{c_6(param,1)*t_u_7_k_0_with_k(param,1)+(1-c_6(param,1)*t_u_7_k_1_with_k(param,1))}\n",
    "#                                +(1-param.gamma)*{c_6(param,2)*t_u_7_k_0_with_k(param,2)+(1-c_6(param,2))*t_u_7_k_1_with_k(param,2)}]\n",
    "#    +param.rho(1-param.tau)*[param.gamma*{c_6(param,3)*t_u_7_k_0_with_k(param,3)+(1-c_6(param,3))*t_u_7_k_1_with_k(param,3)} +(1-param.gamma)*{c_6(param,4)*t_u_7_k_0_with_k(param,4)+(1-c_6_4)*t_u_7_k_1_with_k(param,4)}]\n",
    "#    +(1-param.rho)*param.tau*[param.gamma*{c_6(param,5)*t_u_7_k_0_with_k(param,5)+(1-c_6(param,5))*t_u_7_k_1_with_k(param,5)}\n",
    "#                              +(1-param.gamma)*{c_6(param,6)*t_u_7_k_0_with_k(param,6)+(1-c_6(param,6))*t_u_7_k_1_with_k(param,6)}]\n",
    "#    +(1-param.rho)*(1-param.tau)[param.gamma*{c_6(param,7)*t_u_7_k_0_with_k(param,7)+(1-c_6(param,7))*t_u_7_k_1_with_k(param,7)}\n",
    "#                                 +(1-param.gamma)*{c_6(param,8)*t_u_7_k_0_with_k(param,8)+(1-c_6(param,8))*t_u_7_k_1_with_k(param,8)}]\n",
    "\n",
    "def alpha(param: Parameters):\n",
    "    return param.rho * param.tau * (\n",
    "        param.gamma * (c_6(param, 1) * t_u_7_k_0_with_k(param, 1) + (1 - c_6(param, 1) * t_u_7_k_1_with_k(param, 1))) +\n",
    "        (1 - param.gamma) * (c_6(param, 2) * t_u_7_k_0_with_k(param, 2) + (1 - c_6(param, 2)) * t_u_7_k_1_with_k(param, 2))\n",
    "    ) + param.rho * (1 - param.tau) * (\n",
    "        param.gamma * (c_6(param, 3) * t_u_7_k_0_with_k(param, 3) + (1 - c_6(param, 3)) * t_u_7_k_1_with_k(param, 3)) +\n",
    "        (1 - param.gamma) * (c_6(param, 4) * t_u_7_k_0_with_k(param, 4) + (1 - c_6(param, 4)) * t_u_7_k_1_with_k(param, 4))\n",
    "    ) + (1 - param.rho) * param.tau * (\n",
    "        param.gamma * (c_6(param, 5) * t_u_7_k_0_with_k(param, 5) + (1 - c_6(param, 5)) * t_u_7_k_1_with_k(param, 5)) +\n",
    "        (1 - param.gamma) * (c_6(param, 6) * t_u_7_k_0_with_k(param, 6) + (1 - c_6(param, 6)) * t_u_7_k_1_with_k(param, 6))\n",
    "    ) + (1 - param.rho) * (1 - param.tau) * (\n",
    "        param.gamma * (c_6(param, 7) * t_u_7_k_0_with_k(param, 7) + (1 - c_6(param, 7)) * t_u_7_k_1_with_k(param, 7)) +\n",
    "        (1 - param.gamma) * (c_6(param, 8) * t_u_7_k_0_with_k(param, 8) + (1 - c_6(param, 8)) * t_u_7_k_1_with_k(param, 8))\n",
    "    )\n",
    "\n",
    "\n",
    "\n",
    "def d_2_1(param:Parameters):\n",
    "   return 1 if alpha(param)>0 else 0"
   ]
  },
  {
   "cell_type": "code",
   "execution_count": 61,
   "metadata": {
    "id": "ddqh39pKqIGD"
   },
   "outputs": [],
   "source": [
    "def t_u_6_k(p: Parameters, k):\n",
    "  cloned_p = copy.copy(p)\n",
    "  cloned_p.k = k\n",
    "  return c_6(cloned_p,k) * t_u_7_k_0_with_k(cloned_p, k) + (1-c_6(cloned_p,k)) * t_u_7_k_1_with_k(cloned_p, k)\n"
   ]
  },
  {
   "cell_type": "code",
   "execution_count": 62,
   "metadata": {
    "id": "6gFYytdhrqbe"
   },
   "outputs": [],
   "source": [
    "def u_6_k(p: Parameters, k):\n",
    "  cloned_p = copy.copy(p)\n",
    "  cloned_p.k = k\n",
    "  return c_6(p, k) * u_7_k_0(cloned_p) + (1-c_6(cloned_p, k)) * u_7_k_1(cloned_p)\n"
   ]
  },
  {
   "cell_type": "code",
   "execution_count": 63,
   "metadata": {
    "id": "PLrIBeXviSFq"
   },
   "outputs": [],
   "source": [
    "#IV-D 4\n",
    "\n",
    "def t_u_6_0(p:Parameters):\n",
    "    return t_u_6_k(p, 0)\n",
    "\n",
    "def d_2_0(param:Parameters):\n",
    "    return 1 if t_u_6_0(param) > 0 else 0\n"
   ]
  },
  {
   "cell_type": "code",
   "execution_count": 64,
   "metadata": {},
   "outputs": [],
   "source": [
    "# IV-D 2\n",
    "def d_2_2(p:Parameters):\n",
    "    return 0\n"
   ]
  },
  {
   "cell_type": "code",
   "execution_count": 65,
   "metadata": {},
   "outputs": [],
   "source": [
    "# IV-D 1\n",
    "def d_2_3(p:Parameters):\n",
    "    return 0\n"
   ]
  },
  {
   "cell_type": "code",
   "execution_count": 66,
   "metadata": {
    "id": "Jl_P3Rugq-0k"
   },
   "outputs": [],
   "source": [
    "def t_u_3_1(p: Parameters):\n",
    "  return p.rho * (p.tau * (p.gamma * t_u_6_k(p, 1) + (1-p.gamma) * t_u_6_k(p,2) \\\n",
    "                           + (1-p.tau) * (p.gamma * t_u_6_k(p, 3) + (1-p.gamma) * t_u_6_k(p,4))))  \\\n",
    "                           +  (1 - p.rho) * (p.tau * (p.gamma * t_u_6_k(p, 5) + (1-p.gamma) * t_u_6_k(p,6) \\\n",
    "                           + (1-p.tau) * (p.gamma * t_u_6_k(p, 7) + (1-p.gamma) * t_u_6_k(p,8))))\n"
   ]
  },
  {
   "cell_type": "code",
   "execution_count": 67,
   "metadata": {
    "id": "-vVKDaeM66Se"
   },
   "outputs": [],
   "source": [
    "def u_3_1(p: Parameters):\n",
    "  return p.rho * (p.tau * (p.gamma * u_6_k(p, 1) + (1-p.gamma) * u_6_k(p,2) \\\n",
    "                           + (1-p.tau) * (p.gamma * u_6_k(p, 3) + (1-p.gamma) * u_6_k(p,4))))  \\\n",
    "                           +  (1 - p.rho) * (p.tau * (p.gamma * u_6_k(p, 5) + (1-p.gamma) * u_6_k(p,6) \\\n",
    "                           + (1-p.tau) * (p.gamma * u_6_k(p, 7) + (1-p.gamma) * u_6_k(p,8))))\n"
   ]
  },
  {
   "cell_type": "code",
   "execution_count": 68,
   "metadata": {},
   "outputs": [],
   "source": [
    "def u_2_0(p: Parameters):\n",
    "    return ((1 - d_2_0(p)) * p.V_i) + (d_2_0(p) * u_6_k(p, 0))"
   ]
  },
  {
   "cell_type": "code",
   "execution_count": 74,
   "metadata": {
    "id": "hw9gVb7duH1X"
   },
   "outputs": [],
   "source": [
    "def u_2_1(p: Parameters):\n",
    "    return  ((1 - d_2_1(p)) * (p.V_i -p.C_H)) + (d_2_1(p) * u_3_1(p))"
   ]
  },
  {
   "cell_type": "code",
   "execution_count": 70,
   "metadata": {},
   "outputs": [],
   "source": [
    "def u_2_2(p: Parameters):\n",
    "    return ((1 - d_2_2(p)) * (p.V_i -p.B)) + (d_2_2(p) * (p.V_i -p.B))"
   ]
  },
  {
   "cell_type": "code",
   "execution_count": 71,
   "metadata": {},
   "outputs": [],
   "source": [
    "def u_2_3(p: Parameters):\n",
    "    return ((1 - d_2_3(p)) * (p.V_i -p.B - p.C_H)) + (d_2_3(p) * (p.V_i -p.B- p.C_H))"
   ]
  },
  {
   "cell_type": "code",
   "execution_count": 21,
   "metadata": {
    "id": "CpSRwowFuSRe"
   },
   "outputs": [],
   "source": [
    "p = Parameters(B=100, C_ht=10, n_ht=5, C_hp=10, C_hf=10, n_hf=5,\n",
    "                        C_nh=10,  C_D=50, C_x=5,\n",
    "                        V_i=50, V_i_prime=60, V_p=70, R_i=80, b_i=5,\n",
    "                        d_i=5, c_i=5, e_i=5, x_i=5, p_0=0.1, p_1=0.2, p_2=0.3, p_3=0.4,\n",
    "                        T=10, F=5, k=0)"
   ]
  },
  {
   "cell_type": "code",
   "execution_count": 22,
   "metadata": {
    "colab": {
     "base_uri": "https://localhost:8080/"
    },
    "id": "4ErFcKnpqRjN",
    "outputId": "85555d54-4128-411e-aaf7-32f42177a275"
   },
   "outputs": [
    {
     "data": {
      "text/plain": [
       "-81.53352944210543"
      ]
     },
     "execution_count": 22,
     "metadata": {},
     "output_type": "execute_result"
    }
   ],
   "source": [
    "u_3_1(p)"
   ]
  },
  {
   "cell_type": "code",
   "execution_count": 23,
   "metadata": {
    "colab": {
     "base_uri": "https://localhost:8080/"
    },
    "id": "guh7rWNBq5rC",
    "outputId": "0a2e9fef-e23d-4da7-8a8b-209a2cf16f23"
   },
   "outputs": [
    {
     "data": {
      "text/plain": [
       "{'B': 100,\n",
       " 'C_ht': 10,\n",
       " 'n_ht': 5,\n",
       " 'C_hp': 10,\n",
       " 'C_hf': 10,\n",
       " 'n_hf': 5,\n",
       " 'C_nh': 10,\n",
       " 'C_H': 110,\n",
       " 'C_D': 50,\n",
       " 'C_x': 5,\n",
       " 'rho': 0.6321205588285577,\n",
       " 'tau': 0.18126924692201818,\n",
       " 'gamma': 0.6321205588285577,\n",
       " 'zeta': 0.18126924692201818,\n",
       " 'V_i': 50,\n",
       " 'V_i_prime': 60,\n",
       " 'V_p': 70,\n",
       " 'R_i': 80,\n",
       " 'b_i': 5,\n",
       " 'd_i': 5,\n",
       " 'c_i': 5,\n",
       " 'e_i': 5,\n",
       " 'x_i': 5,\n",
       " 'p_0': 0.1,\n",
       " 'p_1': 0.2,\n",
       " 'p_2': 0.3,\n",
       " 'p_3': 0.4,\n",
       " 'T': 10,\n",
       " 'F': 5,\n",
       " 'k': 0}"
      ]
     },
     "execution_count": 23,
     "metadata": {},
     "output_type": "execute_result"
    }
   ],
   "source": [
    "vars(p)"
   ]
  },
  {
   "cell_type": "code",
   "execution_count": 24,
   "metadata": {},
   "outputs": [
    {
     "name": "stdout",
     "output_type": "stream",
     "text": [
      "Requirement already satisfied: seaborn in /Users/bhusalb/opt/anaconda3/lib/python3.8/site-packages (0.11.0)\r\n",
      "Requirement already satisfied: scipy>=1.0 in /Users/bhusalb/opt/anaconda3/lib/python3.8/site-packages (from seaborn) (1.5.2)\r\n",
      "Requirement already satisfied: pandas>=0.23 in /Users/bhusalb/opt/anaconda3/lib/python3.8/site-packages (from seaborn) (1.1.3)\r\n",
      "Requirement already satisfied: matplotlib>=2.2 in /Users/bhusalb/opt/anaconda3/lib/python3.8/site-packages (from seaborn) (3.3.2)\r\n",
      "Requirement already satisfied: numpy>=1.15 in /Users/bhusalb/opt/anaconda3/lib/python3.8/site-packages (from seaborn) (1.19.2)\r\n",
      "Requirement already satisfied: python-dateutil>=2.7.3 in /Users/bhusalb/opt/anaconda3/lib/python3.8/site-packages (from pandas>=0.23->seaborn) (2.8.1)\r\n",
      "Requirement already satisfied: pytz>=2017.2 in /Users/bhusalb/opt/anaconda3/lib/python3.8/site-packages (from pandas>=0.23->seaborn) (2020.1)\r\n",
      "Requirement already satisfied: pyparsing!=2.0.4,!=2.1.2,!=2.1.6,>=2.0.3 in /Users/bhusalb/opt/anaconda3/lib/python3.8/site-packages (from matplotlib>=2.2->seaborn) (2.4.7)\r\n",
      "Requirement already satisfied: cycler>=0.10 in /Users/bhusalb/opt/anaconda3/lib/python3.8/site-packages (from matplotlib>=2.2->seaborn) (0.10.0)\r\n",
      "Requirement already satisfied: certifi>=2020.06.20 in /Users/bhusalb/opt/anaconda3/lib/python3.8/site-packages (from matplotlib>=2.2->seaborn) (2020.6.20)\r\n",
      "Requirement already satisfied: pillow>=6.2.0 in /Users/bhusalb/opt/anaconda3/lib/python3.8/site-packages (from matplotlib>=2.2->seaborn) (8.0.1)\r\n",
      "Requirement already satisfied: kiwisolver>=1.0.1 in /Users/bhusalb/opt/anaconda3/lib/python3.8/site-packages (from matplotlib>=2.2->seaborn) (1.3.0)\r\n",
      "Requirement already satisfied: six>=1.5 in /Users/bhusalb/opt/anaconda3/lib/python3.8/site-packages (from python-dateutil>=2.7.3->pandas>=0.23->seaborn) (1.15.0)\r\n"
     ]
    }
   ],
   "source": [
    "!pip3 install seaborn"
   ]
  },
  {
   "cell_type": "code",
   "execution_count": 25,
   "metadata": {
    "colab": {
     "base_uri": "https://localhost:8080/",
     "height": 570
    },
    "id": "Qb0Tu17svLks",
    "outputId": "61e36265-7e8b-4790-cf00-e3362f3c1cfe"
   },
   "outputs": [
    {
     "name": "stdout",
     "output_type": "stream",
     "text": [
      "[-17.293294335267746, 0.0, 17.293294335267746, 34.58658867053549, 51.87988300580323, 69.17317734107098, 86.46647167633873, 103.75976601160647, 121.05306034687422, 138.34635468214196]\n",
      "[-43.233235838169364, -25.93994150290162, -8.646647167633873, 8.646647167633873, 25.939941502901615, 43.233235838169364, 60.52653017343711, 77.81982450870485, 95.11311884397259, 112.40641317924035]\n",
      "[-69.17317734107098, -51.87988300580324, -34.58658867053549, -17.293294335267746, -6.143812333642894e-15, 17.293294335267746, 34.58658867053549, 51.87988300580324, 69.17317734107097, 86.46647167633873]\n",
      "[-95.1131188439726, -77.81982450870485, -60.52653017343711, -43.233235838169364, -25.939941502901622, -8.646647167633873, 8.646647167633873, 25.93994150290162, 43.23323583816936, 60.52653017343711]\n",
      "[-121.05306034687422, -103.75976601160647, -86.46647167633873, -69.17317734107098, -51.879883005803244, -34.58658867053549, -17.293294335267746, 0.0, 17.293294335267735, 34.58658867053549]\n"
     ]
    },
    {
     "data": {
      "image/png": "[encoded data removed]",
      "text/plain": [
       "<Figure size 576x360 with 1 Axes>"
      ]
     },
     "metadata": {},
     "output_type": "display_data"
    }
   ],
   "source": [
    "from collections import defaultdict\n",
    "import matplotlib.pyplot as plt\n",
    "import seaborn as sns\n",
    "# plt.rcParams['text.usetex'] = True\n",
    "\n",
    "sns.set(rc={'figure.figsize':(8,5)})\n",
    "sns.set(style = 'white')\n",
    "plt.rcParams['font.family'] = 'Arial'\n",
    "plt.rcParams['font.weight'] = 'bold'\n",
    "# plt.rcParams['font.sans-serif'] = 'Arial'\n",
    "plt.rcParams['font.size'] = 16\n",
    "plt.rcParams['axes.labelsize'] = 16\n",
    "plt.rcParams['axes.labelweight'] = 'bold'\n",
    "plt.rcParams['axes.titlesize'] = 16\n",
    "plt.rcParams['xtick.labelsize'] = 16\n",
    "plt.rcParams['ytick.labelsize'] = 16\n",
    "# plt.rcParams['xtick.labelweight'] = 'bold'\n",
    "# plt.rcParams['ytick.labelweight'] = 'bold'\n",
    "plt.rcParams['legend.fontsize'] = 16\n",
    "plt.rcParams['figure.titlesize'] = 16\n",
    "plt.rcParams[\"figure.autolayout\"] = True\n",
    "plt.rcParams['xtick.bottom'] = True\n",
    "plt.rcParams['ytick.left'] = True\n",
    "\n",
    "\n",
    "Ri = defaultdict(list)\n",
    "Ei = defaultdict(list)\n",
    "Edi = defaultdict(list)\n",
    "for F in range(100, 501, 100):\n",
    "  for R in range(20, 201, 20):\n",
    "    p = Parameters(B=100, C_ht=1, n_ht=50, C_hp=20, C_hf=5, n_hf=10,\n",
    "                        C_nh=50,  C_D=20, C_x=5,\n",
    "                        V_i=50, V_i_prime=60, V_p=40, R_i=R, b_i=5,\n",
    "                        d_i=5, c_i=5, e_i=5, x_i=5, p_0=0.1, p_1=0.2, p_2=0.3, p_3=0.4,\n",
    "                        T=10, F=F, k=0)\n",
    "\n",
    "    e_a_b_1 = t_u_3_1(p)\n",
    "    e_d_b_1 = u_3_1(p)\n",
    "\n",
    "\n",
    "    Ri[F].append( R )\n",
    "    Ei[F].append( e_a_b_1 )\n",
    "    Edi[F].append(e_d_b_1)\n",
    "\n",
    "\n",
    "for F in range(100, 501, 100):\n",
    "  print(Ei[F])\n",
    "\n",
    "\n",
    "\n",
    "# Generate multiple lines on the same plot\n",
    "  plt.plot(Ri[F], Ei[F], label=f'F={F}')\n",
    "  plt.plot(Ri[F], Edi[F], '--', label=f'DF={F}')\n",
    "\n",
    "\n",
    "\n",
    "# Adding title and labels\n",
    "# plt.title(\"R vs U\")\n",
    "plt.xlabel(\"R\")\n",
    "plt.ylabel('U (xi = 1|8i,k,0)')\n",
    "\n",
    "# Adding a legend\n",
    "plt.legend()\n",
    "\n",
    "# Displaying the plot\n",
    "plt.show()"
   ]
  },
  {
   "cell_type": "code",
   "execution_count": 25,
   "metadata": {
    "id": "iWzE5rLI9RPc"
   },
   "outputs": [],
   "source": []
  },
  {
   "cell_type": "code",
   "execution_count": 26,
   "metadata": {
    "colab": {
     "base_uri": "https://localhost:8080/",
     "height": 561
    },
    "id": "bx-CNJ6K4FZi",
    "outputId": "dc0f2102-f5b0-4cfb-bf74-be949db6462f"
   },
   "outputs": [
    {
     "data": {
      "image/png": "[encoded data removed]",
      "text/plain": [
       "<Figure size 576x360 with 1 Axes>"
      ]
     },
     "metadata": {},
     "output_type": "display_data"
    }
   ],
   "source": [
    "from collections import defaultdict\n",
    "import matplotlib.pyplot as plt\n",
    "\n",
    "Ri = defaultdict(list)\n",
    "Ei = defaultdict(list)\n",
    "for F in range(50, 100, 10):\n",
    "  for R in np.arange(0, 0.7, 0.1):\n",
    "    p = Parameters(B=100, C_ht=10, n_ht=5, C_hp=10, C_hf=10, n_hf=5,\n",
    "                        C_nh=10,  C_D=50, C_x=5,\n",
    "                        V_i=50, V_i_prime=60, V_p=70, R_i=100, b_i=5,\n",
    "                        d_i=5, c_i=5, e_i=5, x_i=5, p_0=0.1, p_1=R, p_2=0.3, p_3=0.4,\n",
    "                        T=10, F=F, k=0)\n",
    "\n",
    "    e_a_b_1 = t_u_3_1(p)\n",
    "\n",
    "    Ri[F].append( R )\n",
    "    Ei[F].append( e_a_b_1 )\n",
    "\n",
    "\n",
    "for F in range(50, 100, 10):\n",
    "# Generate multiple lines on the same plot\n",
    "  plt.plot(Ri[F], Ei[F], label=f'F={F}')\n",
    "\n",
    "\n",
    "# Adding title and labels\n",
    "plt.xlabel(r\"$p_1$\")\n",
    "plt.ylabel(r\"$\\tilde{U}$\")\n",
    "\n",
    "# Adding a legend\n",
    "plt.legend()\n",
    "\n",
    "# Displaying the plot\n",
    "plt.show()"
   ]
  },
  {
   "cell_type": "markdown",
   "metadata": {
    "id": "x6FL7SqdZa4Z"
   },
   "source": []
  },
  {
   "cell_type": "code",
   "execution_count": null,
   "metadata": {
    "colab": {
     "base_uri": "https://localhost:8080/",
     "height": 581
    },
    "id": "1oDknfDT9jDf",
    "outputId": "37e48e55-5f7e-464d-ca4b-ba8f782d0067",
    "pycharm": {
     "is_executing": true
    }
   },
   "outputs": [],
   "source": [
    "from collections import defaultdict\n",
    "import matplotlib.pyplot as plt\n",
    "\n",
    "Ri = defaultdict(list)\n",
    "Ei = defaultdict(list)\n",
    "for F in range(100, 150, 10):\n",
    "  for R in np.arange(200, 400, 5):\n",
    "    p = Parameters(B=100, C_ht=10, n_ht=5, C_hp=10, C_hf=10, n_hf=5,\n",
    "                        C_nh=10,  C_D=50, C_x=5,\n",
    "                        V_i=F, V_i_prime=60, V_p=70, R_i=R, b_i=5,\n",
    "                        d_i=5, c_i=5, e_i=5, x_i=5, p_0=0.1, p_1=0.3, p_2=0.3, p_3=0.4,\n",
    "                        T=10, F=5, k=0)\n",
    "\n",
    "    e_d_b_1 = u_3_1(p)\n",
    "\n",
    "    Ri[F].append( R )\n",
    "    Ei[F].append( e_a_b_1 )\n",
    "\n",
    "\n",
    "for F in range(100, 150, 10):\n",
    "#   print(Ei[F])\n",
    "\n",
    "\n",
    "\n",
    "# Generate multiple lines on the same plot\n",
    "  plt.plot(Ri[F], Ei[F], label=f'F={F}')\n",
    "\n",
    "\n",
    "# Adding title and labels\n",
    "plt.title(\"Multiple Line Plots\")\n",
    "plt.xlabel(\"X-axis Label\")\n",
    "plt.ylabel(\"Y-axis Label\")\n",
    "\n",
    "# Adding a legend\n",
    "plt.legend()\n",
    "\n",
    "# Displaying the plot\n",
    "plt.show()"
   ]
  },
  {
   "cell_type": "code",
   "execution_count": null,
   "metadata": {
    "colab": {
     "base_uri": "https://localhost:8080/",
     "height": 581
    },
    "id": "BhpgjTck9pBK",
    "outputId": "6072998b-c938-4cd9-a9fc-8b7910d54f47",
    "pycharm": {
     "is_executing": true
    }
   },
   "outputs": [],
   "source": [
    "from collections import defaultdict\n",
    "import matplotlib.pyplot as plt\n",
    "\n",
    "Ri = defaultdict(list)\n",
    "Ei = defaultdict(list)\n",
    "for F in range(100, 501, 100):\n",
    "  for R in np.arange(200, 400, 5):\n",
    "    p = Parameters(B=100, C_ht=0.1, n_ht=F, C_hp=10, C_hf=0.05, n_hf=R,\n",
    "                        C_nh=10,  C_D=50, C_x=5,\n",
    "                        V_i=F, V_i_prime=60, V_p=70, R_i=R, b_i=5,\n",
    "                        d_i=5, c_i=5, e_i=5, x_i=5, p_0=0.1, p_1=0.3, p_2=0.3, p_3=0.4,\n",
    "                        T=10, F=5, k=0)\n",
    "\n",
    "    e_d_b_1 = u_3_1(p)\n",
    "\n",
    "    Ri[F].append( R )\n",
    "    Ei[F].append( e_a_b_1 )\n",
    "\n",
    "\n",
    "for F in range(100, 501, 100):\n",
    "#   print(Ei[F])\n",
    "\n",
    "\n",
    "\n",
    "# Generate multiple lines on the same plot\n",
    "  plt.plot(Ri[F], Ei[F], label=f'F={F}')\n",
    "\n",
    "\n",
    "# Adding title and labels\n",
    "plt.title(\"Multiple Line Plots\")\n",
    "plt.xlabel(\"X-axis Label\")\n",
    "plt.ylabel(\"Y-axis Label\")\n",
    "\n",
    "# Adding a legend\n",
    "plt.legend()\n",
    "\n",
    "# Displaying the plot\n",
    "plt.show()"
   ]
  },
  {
   "cell_type": "code",
   "execution_count": null,
   "metadata": {
    "id": "TR6O4JrO_4ud",
    "pycharm": {
     "is_executing": true
    }
   },
   "outputs": [],
   "source": [
    "from collections import defaultdict\n",
    "import matplotlib.pyplot as plt\n",
    "# plt.rcParams['text.usetex'] = True\n",
    "\n",
    "Ri = defaultdict(list)\n",
    "Ei = []\n",
    "Edi = []\n",
    "Ni = []\n",
    "for n_ht in range(20, 50, 3):\n",
    "    p = Parameters(B=100, C_ht=1, n_ht=n_ht, C_hp=20, C_hf=5, n_hf=10,\n",
    "                        C_nh=50,  C_D=20, C_x=5,\n",
    "                        V_i=50, V_i_prime=60, V_p=40, R_i=30, b_i=5,\n",
    "                        d_i=5, c_i=5, e_i=5, x_i=5, p_0=0.1, p_1=0.2, p_2=0.3, p_3=0.4,\n",
    "                        T=10, F=500, k=0)\n",
    "    \n",
    "    print(vars(p))\n",
    "    break\n",
    "    C_H = p.C_H\n",
    "    e_d_b_1 = u_3_1(p)\n",
    "    e_a_b_1 = t_u_3_1(p)\n",
    "    Edi.append(e_d_b_1)\n",
    "    Ei.append(e_a_b_1)\n",
    "    Ni.append(n_ht)\n",
    "\n",
    "\n",
    "\n",
    "\n",
    "# Generate multiple lines on the same plot\n",
    "plt.plot(Ni, Edi, label=f'U')\n",
    "plt.plot(Ni, Ei, '--', label=f'Ũ')\n",
    "\n",
    "\n",
    "\n",
    "# Adding title and labels\n",
    "# plt.title(\"R vs U\")\n",
    "plt.xlabel(\"n_ht\")\n",
    "plt.ylabel(r\"$\\tilde{U}(x_i = 0 | 8_{i,k,1})$\")\n",
    "\n",
    "# Adding a legend\n",
    "plt.legend()\n",
    "\n",
    "# Displaying the plot\n",
    "plt.show()"
   ]
  },
  {
   "cell_type": "code",
   "execution_count": null,
   "metadata": {
    "pycharm": {
     "is_executing": true
    }
   },
   "outputs": [],
   "source": [
    "from collections import defaultdict\n",
    "import matplotlib.pyplot as plt\n",
    "# plt.rcParams['text.usetex'] = True\n",
    "\n",
    "Ri = defaultdict(list)\n",
    "Ei = defaultdict(list)\n",
    "Edi = defaultdict(list)\n",
    "for F in range(100, 501, 100):\n",
    "  for R in range(20, 201, 20):\n",
    "    p = Parameters(B=100, C_ht=1, n_ht=50, C_hp=20, C_hf=5, n_hf=10,\n",
    "                        C_nh=50,  C_D=20, C_x=5,\n",
    "                        V_i=50, V_i_prime=60, V_p=40, R_i=R, b_i=5,\n",
    "                        d_i=5, c_i=5, e_i=5, x_i=5, p_0=0.1, p_1=0.2, p_2=0.3, p_3=0.4,\n",
    "                        T=10, F=F, k=0)\n",
    "\n",
    "    e_a_b_1 = t_u_3_1(p)\n",
    "    e_d_b_1 = u_3_1(p)\n",
    "\n",
    "\n",
    "    Ri[F].append( R )\n",
    "    Ei[F].append( e_a_b_1 )\n",
    "    Edi[F].append(e_d_b_1)\n",
    "\n",
    "\n",
    "markers = ['o', 's', 'd', 'v', '^']\n",
    "i = 0\n",
    "for F in range(100, 501, 100):\n",
    "  print(Ei[F])\n",
    "\n",
    "\n",
    "\n",
    "# Generate multiple lines on the same plot\n",
    "  plt.plot(Ri[F], Ei[F], color='blue', label=f'F={F}', marker=markers[i])\n",
    "  plt.plot(Ri[F], Edi[F], '--', color='blue',  marker=markers[i])\n",
    "  i = i + 1\n",
    "\n",
    "\n",
    "\n",
    "# Adding title and labels\n",
    "# plt.title(\"R vs U\")\n",
    "plt.xlabel(\"R\", fontsize=16)\n",
    "plt.ylabel(r\"Utility\", fontsize=16)\n",
    "\n",
    "# Adding a legend\n",
    "plt.legend()\n",
    "\n",
    "# Displaying the plot\n",
    "\n",
    "plt.savefig(\"Utility.pdf\", format=\"pdf\", bbox_inches=\"tight\")\n",
    "plt.show()\n"
   ]
  },
  {
   "cell_type": "code",
   "execution_count": null,
   "metadata": {
    "pycharm": {
     "is_executing": true
    }
   },
   "outputs": [],
   "source": [
    "from collections import defaultdict\n",
    "import matplotlib.pyplot as plt\n",
    "# plt.rcParams['text.usetex'] = True\n",
    "\n",
    "Ri = defaultdict(list)\n",
    "Ei = []\n",
    "Edi = []\n",
    "Ni = []\n",
    "for n_ht in range(10, 100, 3):\n",
    "    p = Parameters(B=100, C_ht=1, n_ht=n_ht, C_hp=20, C_hf=5, n_hf=10,\n",
    "                        C_nh=50,  C_D=20, C_x=5,\n",
    "                        V_i=50, V_i_prime=60, V_p=40, R_i=30, b_i=5,\n",
    "                        d_i=5, c_i=5, e_i=5, x_i=5, p_0=0.1, p_1=0.2, p_2=0.3, p_3=0.4,\n",
    "                        T=10, F=500, k=0)\n",
    "    \n",
    "    print(p.rho)\n",
    "#     break\n",
    "    C_H = p.C_H\n",
    "    e_d_b_1 = u_3_1(p)\n",
    "    e_a_b_1 = t_u_3_1(p)\n",
    "    Edi.append(e_d_b_1)\n",
    "    Ei.append(e_a_b_1)\n",
    "    Ni.append(n_ht)\n",
    "\n",
    "\n",
    "\n",
    "\n",
    "# Generate multiple lines on the same plot\n",
    "plt.plot(Ni, Edi, label=f'U')\n",
    "# plt.plot(Ni, Ei, '--', label=f'Ũ')\n",
    "\n",
    "\n",
    "\n",
    "# Adding title and labels\n",
    "# plt.title(\"R vs U\")\n",
    "plt.xlabel(r\"$n_{ht}$\")\n",
    "plt.ylabel(r\"$U$\")\n",
    "\n",
    "# Adding a legend\n",
    "plt.legend()\n",
    "\n",
    "# Displaying the plot\n",
    "plt.show()"
   ]
  },
  {
   "cell_type": "code",
   "execution_count": null,
   "metadata": {
    "pycharm": {
     "is_executing": true
    }
   },
   "outputs": [],
   "source": [
    "from collections import defaultdict\n",
    "import matplotlib.pyplot as plt\n",
    "# plt.rcParams['text.usetex'] = True\n",
    "\n",
    "Ri = defaultdict(list)\n",
    "Ei = []\n",
    "Edi = []\n",
    "Ni = []\n",
    "for n_ht in range(10, 100, 3):\n",
    "    p = Parameters(B=100, C_ht=1, n_ht=10, C_hp=20, C_hf=5, n_hf=n_ht,\n",
    "                        C_nh=50,  C_D=20, C_x=5,\n",
    "                        V_i=50, V_i_prime=60, V_p=40, R_i=30, b_i=5,\n",
    "                        d_i=5, c_i=5, e_i=5, x_i=5, p_0=0.1, p_1=0.2, p_2=0.3, p_3=0.4,\n",
    "                        T=10, F=500, k=0)\n",
    "    \n",
    "#     break\n",
    "    C_H = p.C_H\n",
    "    e_d_b_1 = u_3_1(p)\n",
    "    e_a_b_1 = t_u_3_1(p)\n",
    "    Edi.append(e_d_b_1)\n",
    "    Ei.append(e_a_b_1)\n",
    "    Ni.append(n_ht)\n",
    "\n",
    "\n",
    "\n",
    "\n",
    "# Generate multiple lines on the same plot\n",
    "plt.plot(Ni, Edi)\n",
    "# plt.plot(Ni, Ei, '--', label=f'Ũ')\n",
    "\n",
    "\n",
    "\n",
    "# Adding title and labels\n",
    "# plt.title(\"R vs U\")\n",
    "plt.xlabel(r\"$n_{hf}$\")\n",
    "plt.ylabel(r\"$U$\")\n",
    "\n",
    "# Adding a legend\n",
    "# plt.legend()\n",
    "plt.savefig(\"n_hf.pdf\", format=\"pdf\", bbox_inches=\"tight\")\n",
    "\n",
    "# Displaying the plot\n",
    "plt.show()"
   ]
  },
  {
   "cell_type": "code",
   "execution_count": 37,
   "metadata": {
    "pycharm": {
     "is_executing": true
    }
   },
   "outputs": [
    {
     "name": "stdout",
     "output_type": "stream",
     "text": [
      "Collecting cvxpy\n",
      "  Downloading cvxpy-1.4.1-cp38-cp38-macosx_10_9_x86_64.whl (1.1 MB)\n",
      "\u001b[K     |████████████████████████████████| 1.1 MB 2.1 MB/s eta 0:00:01\n",
      "\u001b[?25hCollecting clarabel>=0.5.0\n",
      "  Downloading clarabel-0.6.0-cp37-abi3-macosx_10_9_x86_64.macosx_11_0_arm64.macosx_10_9_universal2.whl (987 kB)\n",
      "\u001b[K     |████████████████████████████████| 987 kB 21.9 MB/s eta 0:00:01\n",
      "\u001b[?25hCollecting pybind11\n",
      "  Downloading pybind11-2.11.1-py3-none-any.whl (227 kB)\n",
      "\u001b[K     |████████████████████████████████| 227 kB 19.7 MB/s eta 0:00:01\n",
      "\u001b[?25hRequirement already satisfied: numpy>=1.15 in /Users/bhusalb/opt/anaconda3/lib/python3.8/site-packages (from cvxpy) (1.19.2)\n",
      "Requirement already satisfied: scipy>=1.1.0 in /Users/bhusalb/opt/anaconda3/lib/python3.8/site-packages (from cvxpy) (1.5.2)\n",
      "Collecting osqp>=0.6.2\n",
      "  Downloading osqp-0.6.3-cp38-cp38-macosx_10_9_x86_64.whl (252 kB)\n",
      "\u001b[K     |████████████████████████████████| 252 kB 27.9 MB/s eta 0:00:01\n",
      "\u001b[?25hCollecting ecos>=2\n",
      "  Downloading ecos-2.0.12-cp38-cp38-macosx_10_9_x86_64.whl (90 kB)\n",
      "\u001b[K     |████████████████████████████████| 90 kB 9.3 MB/s  eta 0:00:01\n",
      "\u001b[?25hCollecting scs>=3.0\n",
      "  Downloading scs-3.2.3-cp38-cp38-macosx_10_9_x86_64.whl (11.6 MB)\n",
      "\u001b[K     |████████████████████████████████| 11.6 MB 30.3 MB/s eta 0:00:01\n",
      "\u001b[?25hCollecting qdldl\n",
      "  Downloading qdldl-0.1.7.post0-cp38-cp38-macosx_10_9_x86_64.whl (105 kB)\n",
      "\u001b[K     |████████████████████████████████| 105 kB 18.2 MB/s eta 0:00:01\n",
      "\u001b[?25hInstalling collected packages: clarabel, pybind11, qdldl, osqp, ecos, scs, cvxpy\n",
      "Successfully installed clarabel-0.6.0 cvxpy-1.4.1 ecos-2.0.12 osqp-0.6.3 pybind11-2.11.1 qdldl-0.1.7.post0 scs-3.2.3\n",
      "Note: you may need to restart the kernel to use updated packages.\n",
      "Collecting gurobipy\n",
      "  Downloading gurobipy-10.0.3-cp38-cp38-macosx_10_9_x86_64.whl (8.7 MB)\n",
      "\u001b[K     |████████████████████████████████| 8.7 MB 2.3 MB/s eta 0:00:01\n",
      "\u001b[?25hInstalling collected packages: gurobipy\n",
      "Successfully installed gurobipy-10.0.3\n",
      "Note: you may need to restart the kernel to use updated packages.\n"
     ]
    }
   ],
   "source": [
    "%pip install cvxpy\n",
    "%pip install gurobipy"
   ]
  },
  {
   "cell_type": "code",
   "execution_count": 38,
   "metadata": {},
   "outputs": [],
   "source": [
    "import gurobipy as gp\n",
    "from gurobipy import GRB"
   ]
  },
  {
   "cell_type": "code",
   "execution_count": 41,
   "metadata": {},
   "outputs": [
    {
     "name": "stdout",
     "output_type": "stream",
     "text": [
      "Restricted license - for non-production use only - expires 2024-10-28\n"
     ]
    }
   ],
   "source": [
    "m = gp.Model()"
   ]
  },
  {
   "cell_type": "code",
   "execution_count": 134,
   "metadata": {},
   "outputs": [],
   "source": [
    "h1 = m.addVar(vtype=GRB.BINARY, name=\"h1\")\n",
    "h2 = m.addVar(vtype=GRB.BINARY, name=\"h2\")\n",
    "b1 = m.addVar(vtype=GRB.BINARY, name=\"b1\")\n",
    "b2 = m.addVar(vtype=GRB.BINARY, name=\"b2\")"
   ]
  },
  {
   "cell_type": "code",
   "execution_count": 135,
   "metadata": {},
   "outputs": [],
   "source": [
    "systems = []"
   ]
  },
  {
   "cell_type": "code",
   "execution_count": 136,
   "metadata": {},
   "outputs": [],
   "source": [
    "systems.append(Parameters(B=100, C_ht=1, n_ht=10, C_hp=20, C_hf=5, n_hf=n_ht,\n",
    "                        C_nh=50,  C_D=20, C_x=5,\n",
    "                        V_i=50, V_i_prime=60, V_p=40, R_i=30, b_i=b1,\n",
    "                        d_i=5, c_i=5, e_i=5, x_i=5, p_0=0.1, p_1=0.2, p_2=0.3, p_3=0.4,\n",
    "                        T=10, F=500, k=0, h_i=h1))"
   ]
  },
  {
   "cell_type": "code",
   "execution_count": 137,
   "metadata": {},
   "outputs": [],
   "source": [
    "systems.append(Parameters(B=100000, C_ht=10, n_ht=100, C_hp=20, C_hf=5, n_hf=n_ht,\n",
    "                        C_nh=50,  C_D=20, C_x=5,\n",
    "                        V_i=50, V_i_prime=60, V_p=40, R_i=440, b_i=b2,\n",
    "                        d_i=5, c_i=5, e_i=5, x_i=5, p_0=0.1, p_1=0.2, p_2=0.3, p_3=0.4,\n",
    "                        T=10, F=500, k=0, h_i=h2))"
   ]
  },
  {
   "cell_type": "code",
   "execution_count": 138,
   "metadata": {},
   "outputs": [],
   "source": [
    "def get_tetha(p: Parameters):\n",
    "    return np.array([[0, 0], [u_2_0(p) - u_2_1(p) - u_2_2(p) + u_2_3(p), 0]])"
   ]
  },
  {
   "cell_type": "code",
   "execution_count": 139,
   "metadata": {},
   "outputs": [],
   "source": [
    "n = len(systems)\n",
    "THETA = np.empty((n, n), dtype=object)\n",
    "\n",
    "# Fill the matrix with individual matrices\n",
    "for i in range(n):\n",
    "    for j in range(n):\n",
    "        THETA[i, j] = np.zeros((n,n))"
   ]
  },
  {
   "cell_type": "code",
   "execution_count": 140,
   "metadata": {},
   "outputs": [],
   "source": [
    "diagonal_values = [get_tetha(p) for p in systems]\n",
    "#THETA = np.full((len(systems), len(systems)), np.zeros((2,2)))\n",
    "\n",
    "for i, d_value in enumerate(diagonal_values):\n",
    "    THETA[i,i] = d_value\n",
    "    "
   ]
  },
  {
   "cell_type": "code",
   "execution_count": 141,
   "metadata": {},
   "outputs": [
    {
     "data": {
      "text/plain": [
       "array([[array([[0., 0.],\n",
       "       [0., 0.]]),\n",
       "        array([[0., 0.],\n",
       "       [0., 0.]])],\n",
       "       [array([[0., 0.],\n",
       "       [0., 0.]]),\n",
       "        array([[   0.        ,    0.        ],\n",
       "       [-256.46036173,    0.        ]])]], dtype=object)"
      ]
     },
     "execution_count": 141,
     "metadata": {},
     "output_type": "execute_result"
    }
   ],
   "source": [
    "THETA"
   ]
  },
  {
   "cell_type": "code",
   "execution_count": 142,
   "metadata": {},
   "outputs": [],
   "source": [
    "Y = np.empty((n, 2), dtype=object)\n",
    "B = np.zeros(n)\n",
    "delta = 0"
   ]
  },
  {
   "cell_type": "code",
   "execution_count": 143,
   "metadata": {},
   "outputs": [],
   "source": [
    "for i, system in enumerate(systems):\n",
    "    Y[i] = np.array([system.b_i, system.h_i])\n",
    "    B[i] = u_2_2(system) - u_2_0(system)\n",
    "    delta = delta + u_2_0(system)"
   ]
  },
  {
   "cell_type": "code",
   "execution_count": null,
   "metadata": {},
   "outputs": [
    {
     "ename": "TypeError",
     "evalue": "must be real number, not Var",
     "output_type": "error",
     "traceback": [
      "\u001b[0;31m---------------------------------------------------------------------------\u001b[0m",
      "\u001b[0;31mTypeError\u001b[0m                                 Traceback (most recent call last)",
      "\u001b[0;32m<ipython-input-146-652bd7a4da9b>\u001b[0m in \u001b[0;36m<module>\u001b[0;34m\u001b[0m\n\u001b[0;32m----> 1\u001b[0;31m \u001b[0mY_expr\u001b[0m \u001b[0;34m=\u001b[0m \u001b[0mgp\u001b[0m\u001b[0;34m.\u001b[0m\u001b[0mLinExpr\u001b[0m\u001b[0;34m(\u001b[0m\u001b[0mY\u001b[0m\u001b[0;34m)\u001b[0m\u001b[0;34m\u001b[0m\u001b[0;34m\u001b[0m\u001b[0m\n\u001b[0m\u001b[1;32m      2\u001b[0m \u001b[0mB_expr\u001b[0m \u001b[0;34m=\u001b[0m \u001b[0mgp\u001b[0m\u001b[0;34m.\u001b[0m\u001b[0mLinExpr\u001b[0m\u001b[0;34m(\u001b[0m\u001b[0mB\u001b[0m\u001b[0;34m)\u001b[0m\u001b[0;34m\u001b[0m\u001b[0;34m\u001b[0m\u001b[0m\n\u001b[1;32m      3\u001b[0m \u001b[0;34m\u001b[0m\u001b[0m\n\u001b[1;32m      4\u001b[0m \u001b[0;31m# Set the objective function\u001b[0m\u001b[0;34m\u001b[0m\u001b[0;34m\u001b[0m\u001b[0;34m\u001b[0m\u001b[0m\n\u001b[1;32m      5\u001b[0m \u001b[0mobjective_expr\u001b[0m \u001b[0;34m=\u001b[0m \u001b[0mY_expr\u001b[0m \u001b[0;34m@\u001b[0m \u001b[0mTHETA\u001b[0m \u001b[0;34m@\u001b[0m \u001b[0mY_expr\u001b[0m \u001b[0;34m+\u001b[0m \u001b[0mB_expr\u001b[0m \u001b[0;34m@\u001b[0m \u001b[0mY_expr\u001b[0m \u001b[0;34m+\u001b[0m \u001b[0mdelta\u001b[0m\u001b[0;34m\u001b[0m\u001b[0;34m\u001b[0m\u001b[0m\n",
      "\u001b[0;32msrc/gurobipy/linexpr.pxi\u001b[0m in \u001b[0;36mgurobipy.LinExpr.__init__\u001b[0;34m()\u001b[0m\n",
      "\u001b[0;31mTypeError\u001b[0m: must be real number, not Var"
     ]
    }
   ],
   "source": [
    "# Directly adding term from numpy to linear expression is not supported\n",
    "#Y_expr = gp.LinExpr(Y)\n",
    "#B_expr = gp.LinExpr(B)\n",
    "\n",
    "Y_expr = gp.LinExpr()\n",
    "B_expr = gp.LinExpr()\n",
    "\n",
    "# Manually add terms to linear expression\n",
    "for i in range(n):\n",
    "    Y_expr += Y[i, 0] * h1 + Y[i, 1] * b1\n",
    "    B_expr += B[i] * h1\n",
    "    \n",
    "# Set the objective function\n",
    "objective_expr = Y_expr @ THETA @ Y_expr + B_expr @ Y_expr + delta"
   ]
  },
  {
   "cell_type": "code",
   "execution_count": 145,
   "metadata": {},
   "outputs": [
    {
     "ename": "GurobiError",
     "evalue": "Unable to convert argument to an expression",
     "output_type": "error",
     "traceback": [
      "\u001b[0;31m---------------------------------------------------------------------------\u001b[0m",
      "\u001b[0;31mGurobiError\u001b[0m                               Traceback (most recent call last)",
      "\u001b[0;32m<ipython-input-145-f181ddea1bf6>\u001b[0m in \u001b[0;36m<module>\u001b[0;34m\u001b[0m\n\u001b[0;32m----> 1\u001b[0;31m \u001b[0mm\u001b[0m\u001b[0;34m.\u001b[0m\u001b[0msetObjective\u001b[0m\u001b[0;34m(\u001b[0m\u001b[0mobjective_expr\u001b[0m\u001b[0;34m,\u001b[0m \u001b[0mgp\u001b[0m\u001b[0;34m.\u001b[0m\u001b[0mGRB\u001b[0m\u001b[0;34m.\u001b[0m\u001b[0mMAXIMIZE\u001b[0m\u001b[0;34m)\u001b[0m\u001b[0;34m\u001b[0m\u001b[0;34m\u001b[0m\u001b[0m\n\u001b[0m",
      "\u001b[0;32msrc/gurobipy/model.pxi\u001b[0m in \u001b[0;36mgurobipy.Model.setObjective\u001b[0;34m()\u001b[0m\n",
      "\u001b[0;32msrc/gurobipy/util.pxi\u001b[0m in \u001b[0;36mgurobipy.__simpleexpr\u001b[0;34m()\u001b[0m\n",
      "\u001b[0;31mGurobiError\u001b[0m: Unable to convert argument to an expression"
     ]
    }
   ],
   "source": [
    "m.setObjective(objective_expr, gp.GRB.MAXIMIZE)\n"
   ]
  },
  {
   "cell_type": "code",
   "execution_count": null,
   "metadata": {},
   "outputs": [],
   "source": []
  }
 ],
 "metadata": {
  "colab": {
   "provenance": []
  },
  "kernelspec": {
   "display_name": "Python 3",
   "language": "python",
   "name": "python3"
  },
  "language_info": {
   "codemirror_mode": {
    "name": "ipython",
    "version": 3
   },
   "file_extension": ".py",
   "mimetype": "text/x-python",
   "name": "python",
   "nbconvert_exporter": "python",
   "pygments_lexer": "ipython3",
   "version": "3.8.5"
  }
 },
 "nbformat": 4,
 "nbformat_minor": 1
}
