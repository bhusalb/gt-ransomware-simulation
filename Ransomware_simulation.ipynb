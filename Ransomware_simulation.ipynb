{
 "cells": [
  {
   "cell_type": "code",
   "execution_count": 1,
   "metadata": {
    "id": "2bYxZl5GLMoF"
   },
   "outputs": [],
   "source": [
    "import numpy as np\n",
    "\n",
    "def generate_log_range(start, end, num_points):\n",
    "    \"\"\"\n",
    "    Generate a logarithmic range between start and end with a specified number of points.\n",
    "\n",
    "    Parameters:\n",
    "    - start: The start value of the range.\n",
    "    - end: The end value of the range.\n",
    "    - num_points: The number of points in the range.\n",
    "\n",
    "    Returns:\n",
    "    - log_range: A numpy array representing the logarithmic range.\n",
    "    \"\"\"\n",
    "    # log_range = np.linspace(start, end, num=num_points)\n",
    "    log_range = np.logspace(np.log10(start), np.log10(end), num=num_points)\n",
    "\n",
    "    return log_range\n",
    "\n",
    "\n"
   ]
  },
  {
   "cell_type": "code",
   "execution_count": 91,
   "metadata": {
    "id": "baa6zkaJtqmZ",
    "pycharm": {
     "is_executing": true
    }
   },
   "outputs": [],
   "source": [
    "import numpy as np\n",
    "import math\n",
    "import copy\n",
    "\n",
    "def calculate_C_H(n_ht, C_ht, C_hp, n_hf, C_hf):\n",
    "  return (n_ht * C_ht) + C_hp + (n_hf * C_hf)\n",
    "\n",
    "\n",
    "def calculate_rho(C_ht, n_ht, C_D):\n",
    "    return 1 - math.exp((-C_ht * n_ht) / C_D)\n",
    "\n",
    "\n",
    "def calculate_gamma(C_hf, n_hf, C_D):\n",
    "    return 1 - math.exp((-C_hf * n_hf) / C_D)\n",
    "\n",
    "def calculate_tau(C_hp, C_D):\n",
    "    return 1 - math.exp((-C_hp) / C_D)\n",
    "\n",
    "def calculate_zeta(C_nh, C_D):\n",
    "    return 1 - math.exp((-C_nh) / C_D)\n",
    "\n",
    "class Parameters:\n",
    "    def __init__(self, B=None, C_ht=None, n_ht=None, C_hp=None, C_hf=None, n_hf=None,\n",
    "                 C_nh=None, C_D=None, C_x=None,\n",
    "                 V_i=None, V_i_prime=None, V_p=None, R_i=None, b_i=None,\n",
    "                 d_i=None, c_i=None, e_i=None, x_i=None, p_0=None, p_1=None, p_2=None,\n",
    "                 p_3=None, T=None, F=None, k=None, h_i=None):\n",
    "\n",
    "        for k, v in locals().items():\n",
    "            if k != 'self':\n",
    "                self.__dict__[k] = v\n",
    "\n",
    "        self.__dict__['C_H'] = calculate_C_H(n_ht=n_ht, C_ht=C_ht, C_hp=C_hp, n_hf=n_hf, C_hf=C_hf)\n",
    "        self.__dict__['rho'] = calculate_rho(C_ht, n_ht, C_D)\n",
    "        self.__dict__['tau'] = calculate_tau(C_hp, C_D)\n",
    "        self.__dict__['gamma'] = calculate_gamma(C_hf, n_hf, C_D)\n",
    "        self.__dict__['zeta'] = calculate_zeta(C_nh, C_D)\n",
    "\n",
    "    def __setattr__(self, attr, value):\n",
    "        self.__dict__[attr] = value\n",
    "        self.__dict__['C_H']= calculate_C_H(n_ht=self.n_ht, C_ht=self.C_ht, C_hp=self.C_hp, n_hf=self.n_hf, C_hf=self.C_hf)\n",
    "        self.__dict__['rho'] = calculate_rho(self.C_ht, self.n_ht, self.C_D)\n",
    "        self.__dict__['tau'] = calculate_tau(self.C_hp, self.C_D)\n",
    "        self.__dict__['gamma'] = calculate_gamma(self.C_hf, self.n_hf, self.C_D)\n",
    "        self.__dict__['zeta'] = calculate_zeta(self.C_nh, self.C_D)\n",
    "\n",
    "    @staticmethod\n",
    "    def from_dict(sampled_params):\n",
    "        return Parameters(\n",
    "            B=sampled_params['B'],\n",
    "            C_ht=sampled_params['C_ht'],\n",
    "            n_ht=sampled_params['n_ht'],\n",
    "            C_hp=sampled_params['C_hp'],\n",
    "            C_hf=sampled_params['C_hf'],\n",
    "            n_hf=sampled_params['n_hf'],\n",
    "            C_nh=sampled_params['C_nh'],\n",
    "            C_D=sampled_params['C_D'],\n",
    "            C_x=sampled_params['C_x'],\n",
    "            V_i=sampled_params['V_i'],\n",
    "            V_i_prime=sampled_params['V_i_prime'],\n",
    "            V_p=sampled_params['V_p'],\n",
    "            R_i=sampled_params['R_i'],\n",
    "            b_i=sampled_params['b_i'],\n",
    "            d_i=sampled_params['d_i'],\n",
    "            c_i=sampled_params['c_i'],\n",
    "            e_i=sampled_params['e_i'],\n",
    "            x_i=sampled_params['x_i'],\n",
    "            p_0=sampled_params['p_0'],\n",
    "            p_1=sampled_params['p_1'],\n",
    "            p_2=sampled_params['p_2'],\n",
    "            p_3=sampled_params['p_3'],\n",
    "            T=sampled_params['T'],\n",
    "            F=sampled_params['F'],\n",
    "            k=sampled_params['k'],\n",
    "            h_i=sampled_params['h_i']\n",
    "        )\n",
    "\n",
    "    def __str__(self):\n",
    "        return (\n",
    "            f\"B: {self.B}, C_ht: {self.C_ht}, n_ht: {self.n_ht}, C_hp: {self.C_hp}, C_hf: {self.C_hf}, n_hf: {self.n_hf}, \"\n",
    "            f\"C_nh: {self.C_nh}, C_D: {self.C_D}, C_x: {self.C_x}, V_i: {self.V_i}, V_i_prime: {self.V_i_prime}, \"\n",
    "            f\"V_p: {self.V_p}, R_i: {self.R_i}, b_i: {self.b_i}, d_i: {self.d_i}, c_i: {self.c_i}, e_i: {self.e_i}, \"\n",
    "            f\"x_i: {self.x_i}, p_0: {self.p_0}, p_1: {self.p_1}, p_2: {self.p_2}, p_3: {self.p_3}, T: {self.T}, \"\n",
    "            f\"F: {self.F}, k: {self.k}, h_i: {self.h_i}\")\n",
    "\n",
    "    def clone(self):\n",
    "        init_attributes = set(Parameters.__init__.__code__.co_varnames[1:])\n",
    "\n",
    "        cloned_params = self.__dict__.copy()\n",
    "\n",
    "        excluded_attributes = set(['C_H', 'rho', 'tau', 'gamma', 'zeta']) - init_attributes\n",
    "        for attr in excluded_attributes:\n",
    "            cloned_params.pop(attr, None)\n",
    "\n",
    "        return Parameters(**cloned_params)\n",
    "\n",
    "    def check(self, other):\n",
    "        init_attributes = set(Parameters.__init__.__code__.co_varnames[1:])\n",
    "        current_attributes = set(self.__dict__.keys())\n",
    "        other_attributes = set(other.__dict__.keys())\n",
    "\n",
    "        common_attributes = current_attributes.intersection(other_attributes)\n",
    "\n",
    "        for attr in common_attributes:\n",
    "            if getattr(self, attr) != getattr(other, attr):\n",
    "                print(f\"this.{attr}={getattr(self, attr)} and p.{attr}={getattr(other, attr)}\")\n",
    "\n",
    "\n",
    "# U_leaf0\n",
    "def U_leaf0(p: Parameters):\n",
    "\n",
    "\n",
    "\n",
    "    if p.k == 0:\n",
    "        defender_utility = 0\n",
    "    else:\n",
    "        defender_utility = - p.C_H\n",
    "\n",
    "\n",
    "\n",
    "    attacker_utility = p.T - p.C_D - p.F\n",
    "\n",
    "\n",
    "\n",
    "    return defender_utility, attacker_utility\n",
    "\n",
    "\n",
    "\n",
    "# U_leaf1\n",
    "def U_leaf1(p: Parameters):\n",
    "\n",
    "\n",
    "\n",
    "    if p.k == 0:\n",
    "        defender_utility = 0\n",
    "    else:\n",
    "        defender_utility = -p.C_H\n",
    "\n",
    "\n",
    "\n",
    "    attacker_utility = p.T - p.C_D\n",
    "\n",
    "\n",
    "\n",
    "    return defender_utility, attacker_utility\n",
    "\n",
    "\n",
    "\n",
    "# U_leaf2\n",
    "def U_leaf2(p: Parameters):\n",
    "\n",
    "\n",
    "\n",
    "    if p.k == 0:\n",
    "        defender_utility = 0\n",
    "    else:\n",
    "        defender_utility = -p.C_H\n",
    "\n",
    "\n",
    "\n",
    "    attacker_utility = p.T - p.C_D - p.F - p.C_x\n",
    "\n",
    "\n",
    "\n",
    "    return defender_utility, attacker_utility\n",
    "\n",
    "\n",
    "\n",
    "# U_leaf3\n",
    "def U_leaf3(p: Parameters):\n",
    "    if p.k == 0:\n",
    "        defender_utility = 0\n",
    "    else:\n",
    "        defender_utility = - p.C_H\n",
    "\n",
    "\n",
    "\n",
    "    attacker_utility = p.T - p.C_D - p.C_x\n",
    "\n",
    "\n",
    "\n",
    "    return defender_utility, attacker_utility\n",
    "\n",
    "\n",
    "\n",
    "# U_leaf4\n",
    "def U_leaf4(p: Parameters):\n",
    "\n",
    "\n",
    "\n",
    "    if p.k == 0:\n",
    "        defender_utility = - p.V_p\n",
    "    else:\n",
    "        defender_utility = - p.V_p - p.C_H\n",
    "\n",
    "\n",
    "\n",
    "    attacker_utility = p.T - p.C_D +p.V_i_prime - p.F - p.C_x\n",
    "\n",
    "\n",
    "\n",
    "    return defender_utility, attacker_utility\n",
    "\n",
    "\n",
    "\n",
    "# U_leaf5\n",
    "def U_leaf5(p: Parameters):\n",
    "\n",
    "\n",
    "\n",
    "    if p.k == 0:\n",
    "        defender_utility = -p.V_p\n",
    "    else:\n",
    "        defender_utility = -p.V_p - p.C_H\n",
    "\n",
    "\n",
    "\n",
    "    attacker_utility = p.T - p.C_D + p.V_i_prime - p.C_x\n",
    "\n",
    "\n",
    "\n",
    "    return defender_utility, attacker_utility\n",
    "\n",
    "\n",
    "\n",
    "# U_leaf6\n",
    "def U_leaf6(p: Parameters):\n",
    "\n",
    "\n",
    "\n",
    "    if p.k == 0:\n",
    "        defender_utility = p.V_i\n",
    "    else:\n",
    "        defender_utility = p.V_i - p.C_H\n",
    "\n",
    "\n",
    "\n",
    "    attacker_utility = -p.C_D - p.F\n",
    "\n",
    "\n",
    "\n",
    "    return defender_utility, attacker_utility\n",
    "\n",
    "\n",
    "\n",
    "# U_leaf7\n",
    "def U_leaf7(p: Parameters):\n",
    "    if p.k == 0:\n",
    "        defender_utility = p.V_i\n",
    "    else:\n",
    "        defender_utility = p.V_i - p.C_H\n",
    "\n",
    "\n",
    "\n",
    "    attacker_utility = -p.C_D\n",
    "\n",
    "\n",
    "\n",
    "    return defender_utility, attacker_utility\n",
    "\n",
    "\n",
    "\n",
    "# U_leaf8\n",
    "def U_leaf8(p: Parameters):\n",
    "\n",
    "\n",
    "\n",
    "    if p.k == 0:\n",
    "        defender_utility = p.V_i\n",
    "    else:\n",
    "        defender_utility = p.V_i - p.C_H\n",
    "\n",
    "\n",
    "\n",
    "    attacker_utility = -p.C_D - p.F - p.C_x\n",
    "\n",
    "\n",
    "\n",
    "    return defender_utility, attacker_utility\n",
    "\n",
    "\n",
    "\n",
    "# U_leaf9\n",
    "def U_leaf9(p: Parameters):\n",
    "    if p.k == 0:\n",
    "        defender_utility = p.V_i\n",
    "    else:\n",
    "        defender_utility = p.V_i - p.C_H\n",
    "\n",
    "\n",
    "\n",
    "    attacker_utility = -p.C_D - p.C_x\n",
    "\n",
    "\n",
    "\n",
    "    return defender_utility, attacker_utility\n",
    "\n",
    "\n",
    "\n",
    "# U_leaf10\n",
    "def U_leaf10(p: Parameters):\n",
    "    if p.k == 0:\n",
    "        defender_utility = p.V_i - p.V_p\n",
    "    else:\n",
    "        defender_utility = p.V_i - p.V_p - p.C_H\n",
    "\n",
    "\n",
    "\n",
    "    attacker_utility = - p.C_D + p.V_i_prime - p.F - p.C_x\n",
    "\n",
    "\n",
    "\n",
    "    return defender_utility, attacker_utility\n",
    "\n",
    "\n",
    "\n",
    "# U_leaf11\n",
    "def U_leaf11(p: Parameters):\n",
    "    if p.k == 0:\n",
    "        defender_utility = p.V_i - p.V_p\n",
    "    else:\n",
    "        defender_utility = p.V_i - p.V_p - p.C_H\n",
    "\n",
    "\n",
    "\n",
    "    attacker_utility = -p.C_D + p.V_i_prime - p.C_x\n",
    "\n",
    "\n",
    "\n",
    "    return defender_utility, attacker_utility\n",
    "\n",
    "\n",
    "\n",
    "# U_leaf12\n",
    "def U_leaf12(p: Parameters):\n",
    "    if p.k == 0:\n",
    "        defender_utility = - p.R_i\n",
    "    else:\n",
    "        defender_utility = - p.R_i - p.C_H\n",
    "\n",
    "\n",
    "\n",
    "    attacker_utility = p.R_i - p.C_D - p.F\n",
    "\n",
    "\n",
    "\n",
    "    return defender_utility, attacker_utility\n",
    "\n",
    "\n",
    "\n",
    "# U_leaf13\n",
    "def U_leaf13(p: Parameters):\n",
    "\n",
    "\n",
    "\n",
    "    if p.k == 0:\n",
    "        defender_utility = - p.R_i\n",
    "    else:\n",
    "        defender_utility =  - p.R_i - p.C_H\n",
    "\n",
    "\n",
    "\n",
    "    attacker_utility = p.R_i - p.C_D\n",
    "\n",
    "\n",
    "\n",
    "    return defender_utility, attacker_utility\n",
    "\n",
    "\n",
    "\n",
    "# U_leaf14\n",
    "def U_leaf14(p: Parameters):\n",
    "    if p.k == 0:\n",
    "        defender_utility = - p.R_i\n",
    "    else:\n",
    "        defender_utility = - p.R_i - p.C_H\n",
    "\n",
    "\n",
    "\n",
    "    attacker_utility = p.R_i - p.C_D - p.F - p.C_x\n",
    "\n",
    "\n",
    "\n",
    "    return defender_utility, attacker_utility\n",
    "\n",
    "\n",
    "\n",
    "# U_leaf15\n",
    "def U_leaf15(p: Parameters):\n",
    "    if p.k == 0:\n",
    "        defender_utility = - p.R_i\n",
    "    else:\n",
    "        defender_utility = - p.R_i - p.C_H\n",
    "\n",
    "\n",
    "\n",
    "    attacker_utility = p.R_i - p.C_D - p.C_x\n",
    "\n",
    "\n",
    "\n",
    "    return defender_utility, attacker_utility\n",
    "\n",
    "\n",
    "\n",
    "# U_leaf16\n",
    "def U_leaf16(p: Parameters):\n",
    "    if p.k == 0:\n",
    "        defender_utility = - p.R_i - p.V_p\n",
    "    else:\n",
    "        defender_utility = - p.R_i - p.V_p - p.C_H\n",
    "\n",
    "\n",
    "\n",
    "    attacker_utility = p.R_i - p.C_D + p.V_i_prime - p.F - p.C_x\n",
    "\n",
    "\n",
    "\n",
    "    return defender_utility, attacker_utility\n",
    "\n",
    "\n",
    "\n",
    "# U_leaf17\n",
    "def U_leaf17(p: Parameters):\n",
    "    if p.k == 0:\n",
    "        defender_utility = - p.R_i - p.V_p\n",
    "    else:\n",
    "        defender_utility = - p.R_i - p.V_p - p.C_H\n",
    "\n",
    "\n",
    "\n",
    "    attacker_utility = p.R_i - p.C_D + p.V_i_prime - p.C_x\n",
    "\n",
    "\n",
    "\n",
    "    return defender_utility, attacker_utility\n",
    "\n",
    "\n",
    "\n",
    "# U_leaf18\n",
    "def U_leaf18(p: Parameters):\n",
    "    if p.k == 0:\n",
    "        defender_utility = -p.R_i + p.V_i\n",
    "    else:\n",
    "        defender_utility = p.V_i - p.R_i - p.C_H\n",
    "\n",
    "\n",
    "    attacker_utility = p.R_i + p.T - p.C_D - p.F\n",
    "\n",
    "\n",
    "\n",
    "    return defender_utility, attacker_utility\n",
    "\n",
    "\n",
    "\n",
    "# U_leaf19\n",
    "def U_leaf19(p: Parameters):\n",
    "    if p.k == 0:\n",
    "        defender_utility = p.V_i - p.R_i\n",
    "    else:\n",
    "        defender_utility = p.V_i - p.R_i - p.C_H\n",
    "\n",
    "\n",
    "    attacker_utility = p.R_i + p.T - p.C_D\n",
    "\n",
    "\n",
    "    return defender_utility, attacker_utility\n",
    "\n",
    "\n",
    "\n",
    "\n",
    "\n",
    "# U_leaf20\n",
    "def U_leaf20(p: Parameters):\n",
    "    if p.k == 0:\n",
    "        defender_utility = p.V_i - p.R_i\n",
    "    else:\n",
    "        defender_utility = p.V_i - p.R_i - p.C_H\n",
    "\n",
    "\n",
    "\n",
    "    attacker_utility = p.R_i + p.T - p.C_D - p.F - p.C_x\n",
    "\n",
    "\n",
    "\n",
    "    return defender_utility, attacker_utility\n",
    "\n",
    "\n",
    "\n",
    "# U_leaf21\n",
    "def U_leaf21(p: Parameters):\n",
    "    if p.k == 0:\n",
    "        defender_utility = p.V_i - p.R_i\n",
    "    else:\n",
    "        defender_utility = p.V_i - p.R_i - p.C_H\n",
    "\n",
    "    attacker_utility = p.T + p.R_i - p.C_D - p.C_x\n",
    "\n",
    "\n",
    "\n",
    "    return defender_utility, attacker_utility\n",
    "\n",
    "\n",
    "\n",
    "# U_leaf22\n",
    "def U_leaf22(p: Parameters):\n",
    "    if p.k == 0:\n",
    "        defender_utility = p.V_i - p.R_i - p.V_p\n",
    "    else:\n",
    "        defender_utility = p.V_i - p.R_i - p.V_p - p.C_H\n",
    "\n",
    "\n",
    "\n",
    "    attacker_utility = p.R_i + p.T - p.C_D + p.V_i_prime - p.F - p.C_x\n",
    "\n",
    "\n",
    "\n",
    "    return defender_utility, attacker_utility\n",
    "\n",
    "\n",
    "\n",
    "# U_leaf23\n",
    "def U_leaf23(p: Parameters):\n",
    "\n",
    "\n",
    "\n",
    "    if p.k == 0:\n",
    "        defender_utility = p.V_i - p.R_i - p.V_p\n",
    "    else:\n",
    "        defender_utility = p.V_i - p.R_i - p.V_p - p.C_H\n",
    "\n",
    "\n",
    "    attacker_utility = p.R_i + p.T - p.C_D + p.V_i_prime - p.C_x\n",
    "\n",
    "\n",
    "    return defender_utility, attacker_utility"
   ]
  },
  {
   "cell_type": "code",
   "execution_count": 3,
   "metadata": {
    "id": "pyvry4tDTJCh",
    "pycharm": {
     "is_executing": true
    }
   },
   "outputs": [],
   "source": [
    "def t_u_10_k_11(p: Parameters):\n",
    "  return p.p_3 * U_leaf22(p)[1] + (1-p.p_3) * U_leaf23(p)[1]\n",
    "\n",
    "def t_u_10_k_10(p: Parameters):\n",
    "  return p.p_3 * U_leaf20(p)[1] + (1-p.p_3) * U_leaf21(p)[1]\n",
    "\n",
    "def t_u_10_k_9(p: Parameters):\n",
    "  return p.p_2 * U_leaf18(p)[1] + (1-p.p_2) * U_leaf19(p)[1]\n",
    "\n",
    "def t_u_10_k_8(p: Parameters):\n",
    "  return p.p_1 * U_leaf16(p)[1] + (1-p.p_1) * U_leaf17(p)[1]\n",
    "\n",
    "def t_u_10_k_7(p: Parameters):\n",
    "  return p.p_1 * U_leaf14(p)[1] + (1-p.p_1) * U_leaf15(p)[1]\n",
    "\n",
    "def t_u_10_k_6(p: Parameters):\n",
    "  return p.p_0 * U_leaf12(p)[1] + (1-p.p_0) * U_leaf13(p)[1]\n",
    "\n",
    "\n",
    "def t_u_10_k_5(p: Parameters):\n",
    "  return p.p_3 * U_leaf10(p)[1] + (1-p.p_3) * U_leaf11(p)[1]\n",
    "\n",
    "def t_u_10_k_4(p: Parameters):\n",
    "  return p.p_3 * U_leaf8(p)[1] + (1-p.p_3) * U_leaf9(p)[1]\n",
    "\n",
    "def t_u_10_k_3(p: Parameters):\n",
    "  return p.p_2 * U_leaf6(p)[1] + (1-p.p_2) * U_leaf7(p)[1]\n",
    "\n",
    "def t_u_10_k_2(p: Parameters):\n",
    "  return p.p_1 * U_leaf4(p)[1] + (1-p.p_1) * U_leaf5(p)[1]\n",
    "\n",
    "def t_u_10_k_1(p: Parameters):\n",
    "  return p.p_1 * U_leaf2(p)[1] + (1-p.p_1) * U_leaf3(p)[1]\n",
    "\n",
    "def t_u_10_k_0(p: Parameters):\n",
    "  return p.p_0 * U_leaf0(p)[1] + (1-p.p_0) * U_leaf1(p)[1]"
   ]
  },
  {
   "cell_type": "code",
   "execution_count": 4,
   "metadata": {
    "id": "dPz2Bmc6VCNd",
    "pycharm": {
     "is_executing": true
    }
   },
   "outputs": [],
   "source": [
    "def t_u_9_k_7(p: Parameters):\n",
    "  return p.zeta * t_u_10_k_10(p) + (1- p.zeta) * t_u_10_k_11(p)\n",
    "\n",
    "def t_u_9_k_6(p: Parameters):\n",
    "  return 1 * t_u_10_k_9(p)\n",
    "\n",
    "def t_u_9_k_5(p: Parameters):\n",
    "  return p.zeta * t_u_10_k_7(p) + (1 - p.zeta) * t_u_10_k_8(p)\n",
    "\n",
    "def t_u_9_k_4(p: Parameters):\n",
    "  return 1 * t_u_10_k_6(p)\n",
    "\n",
    "def t_u_9_k_3(p: Parameters):\n",
    "  return p.zeta * t_u_10_k_4(p) + (1 - p.zeta) * t_u_10_k_5(p)\n",
    "\n",
    "def t_u_9_k_2(p: Parameters):\n",
    "  return 1 * t_u_10_k_3(p)\n",
    "\n",
    "def t_u_9_k_1(p: Parameters):\n",
    "  return p.zeta * t_u_10_k_1(p) + (1- p.zeta) * t_u_10_k_2(p)\n",
    "\n",
    "def t_u_9_k_0(p: Parameters):\n",
    "  return 1 * t_u_10_k_0(p)"
   ]
  },
  {
   "cell_type": "code",
   "execution_count": 5,
   "metadata": {
    "id": "8bgO5LMIXxJ5",
    "pycharm": {
     "is_executing": true
    }
   },
   "outputs": [],
   "source": [
    "#IV-A\n",
    "\n",
    "def zeta_8_k_2(param:Parameters):\n",
    "    t1 = param.p_0 *U_leaf12(param)[1] +(1-param.p_0)*U_leaf13(param)[1]\n",
    "    t2 = param.p_1 *U_leaf16(param)[1] +(1-param.p_1)*U_leaf17(param)[1]\n",
    "    t3 = param.p_1 *U_leaf14(param)[1] +(1-param.p_1)*U_leaf15(param)[1]\n",
    "    t4 = param.p_1 *U_leaf16(param)[1] +(1-param.p_1)*U_leaf17(param)[1]\n",
    "\n",
    "    return (t1-t2)/(t3-t4)\n",
    "\n",
    "\n",
    "def x_8_k_2(param:Parameters):\n",
    "    return param.zeta >= zeta_8_k_2(param)\n",
    "\n",
    "def zeta_8_k_3(param:Parameters):\n",
    "    t1 = param.p_2 *U_leaf18(param)[1] +(1-param.p_2)*U_leaf19(param)[1]\n",
    "    t2 = param.p_3 *U_leaf22(param)[1] +(1-param.p_3)*U_leaf23(param)[1]\n",
    "    t3 = param.p_3 *U_leaf20(param)[1] +(1-param.p_3)*U_leaf21(param)[1]\n",
    "    t4 = param.p_3 *U_leaf22(param)[1] +(1-param.p_3)*U_leaf23(param)[1]\n",
    "\n",
    "    return (t1-t2)/(t3-t4)\n",
    "\n",
    "def x_8_k_3(param:Parameters):\n",
    "    return param.zeta >= zeta_8_k_3(param)\n",
    "\n",
    "\n",
    "def zeta_8_k_1(param:Parameters):\n",
    "    t1 = param.p_2 *U_leaf6(param)[1] +(1-param.p_2)*U_leaf7(param)[1]\n",
    "    t2 = param.p_3 *U_leaf10(param)[1] +(1-param.p_3)*U_leaf11(param)[1]\n",
    "    t3 = param.p_3 *U_leaf8(param)[1] +(1-param.p_3)*U_leaf9(param)[1]\n",
    "    t4 = param.p_3 *U_leaf10(param)[1] +(1-param.p_3)*U_leaf11(param)[1]\n",
    "\n",
    "    return (t1-t2)/(t3-t4)\n",
    "\n",
    "\n",
    "def x_8_k_1(param:Parameters):\n",
    "    return param.zeta >= zeta_8_k_1(param)\n",
    "\n",
    "\n",
    "def zeta_8_k_0(param:Parameters):\n",
    "\n",
    "    t1 = param.p_0 *U_leaf0(param)[1] +(1-param.p_0)*U_leaf1(param)[1]\n",
    "    t2 = param.p_1 *U_leaf4(param)[1] +(1-param.p_1)*U_leaf5(param)[1]\n",
    "    t3 = param.p_1 *U_leaf2(param)[1] +(1-param.p_1)*U_leaf3(param)[1]\n",
    "    t4 = param.p_1 *U_leaf4(param)[1] +(1-param.p_1)*U_leaf5(param)[1]\n",
    "\n",
    "    return (t1-t2)/(t3-t4)\n",
    "\n",
    "def x_8_k_0(param:Parameters):\n",
    "    return param.zeta >= zeta_8_k_0(param)"
   ]
  },
  {
   "cell_type": "code",
   "execution_count": 6,
   "metadata": {
    "id": "qxTLjWmwYZEw",
    "pycharm": {
     "is_executing": true
    }
   },
   "outputs": [],
   "source": [
    "def t_u_8_k_3(p:Parameters):\n",
    "  return x_8_k_3(p) * t_u_9_k_6(p) + (1-x_8_k_3(p)) * t_u_9_k_7(p)\n",
    "def t_u_8_k_2(p:Parameters):\n",
    "  return x_8_k_2(p) * t_u_9_k_4(p) + (1- x_8_k_2(p)) * t_u_9_k_5(p)\n",
    "def t_u_8_k_1(p:Parameters):\n",
    "  return x_8_k_1(p) * t_u_9_k_2(p) + (1 - x_8_k_1(p)) * t_u_9_k_3(p)\n",
    "def t_u_8_k_0(p:Parameters):\n",
    "  return x_8_k_0(p) * t_u_9_k_0(p) + (1 - x_8_k_0(p)) * t_u_9_k_1(p)\n"
   ]
  },
  {
   "cell_type": "code",
   "execution_count": 7,
   "metadata": {
    "id": "vmlvS-nUa1_V",
    "pycharm": {
     "is_executing": true
    }
   },
   "outputs": [],
   "source": [
    "#preyea\n",
    "\n",
    "#IV-B 1\n",
    "\n",
    "def lambda_7_k_1(p:Parameters):\n",
    "     return x_8_k_3(p)*(t_u_9_k_7(p)-t_u_9_k_6(p)) - x_8_k_2(p)*(t_u_9_k_5(p)-t_u_9_k_4(p)) + t_u_9_k_6(p) - t_u_9_k_4(p)\n",
    "\n",
    "def e_7_k_1(param:Parameters):\n",
    "    return lambda_7_k_1(param)>=0\n",
    "\n",
    "#IV-B 2\n",
    "\n",
    "def lambda_7_k_0(p:Parameters):\n",
    "    return (x_8_k_3(p)*t_u_9_k_3(p)+((1-x_8_k_3(p)*t_u_9_k_2(p)))) - (x_8_k_0(p)*t_u_9_k_1(p)+(1-x_8_k_0(p))*t_u_9_k_0(p))\n",
    "\n",
    "\n",
    "def e_7_k_0(param:Parameters):\n",
    "    return lambda_7_k_0(param)>=0"
   ]
  },
  {
   "cell_type": "markdown",
   "metadata": {
    "id": "st5xjQEBdxO3"
   },
   "source": []
  },
  {
   "cell_type": "code",
   "execution_count": 8,
   "metadata": {
    "id": "0E-wnnOMczT6",
    "pycharm": {
     "is_executing": true
    }
   },
   "outputs": [],
   "source": [
    "def t_u_7_k_1(p:Parameters):\n",
    "  return e_7_k_1(p) * t_u_8_k_2(p) + (1 - e_7_k_1(p)) * t_u_8_k_3(p)\n",
    "def t_u_7_k_0(p:Parameters):\n",
    "  return e_7_k_0(p) * t_u_8_k_0(p) + (1 - e_7_k_0(p)) * t_u_8_k_1(p)"
   ]
  },
  {
   "cell_type": "code",
   "execution_count": 9,
   "metadata": {
    "id": "fZyuVGMPfl4R",
    "pycharm": {
     "is_executing": true
    }
   },
   "outputs": [],
   "source": [
    "def u_10_k_11(p: Parameters):\n",
    "  return p.p_3 * U_leaf22(p)[0] + (1-p.p_3) * U_leaf23(p)[0]\n",
    "\n",
    "def u_10_k_10(p: Parameters):\n",
    "  return p.p_3 * U_leaf20(p)[0] + (1-p.p_3) * U_leaf21(p)[0]\n",
    "\n",
    "def u_10_k_9(p: Parameters):\n",
    "  return p.p_2 * U_leaf18(p)[0] + (1-p.p_2) * U_leaf19(p)[0]\n",
    "\n",
    "def u_10_k_8(p: Parameters):\n",
    "  return p.p_1 * U_leaf16(p)[0] + (1-p.p_1) * U_leaf17(p)[0]\n",
    "\n",
    "def u_10_k_7(p: Parameters):\n",
    "  return p.p_1 * U_leaf14(p)[0] + (1-p.p_1) * U_leaf15(p)[0]\n",
    "\n",
    "def u_10_k_6(p: Parameters):\n",
    "  return p.p_0 * U_leaf12(p)[0] + (1-p.p_0) * U_leaf13(p)[0]\n",
    "\n",
    "\n",
    "def u_10_k_5(p: Parameters):\n",
    "  return p.p_3 * U_leaf10(p)[0] + (1-p.p_3) * U_leaf11(p)[0]\n",
    "\n",
    "def u_10_k_4(p: Parameters):\n",
    "  return p.p_3 * U_leaf8(p)[0] + (1-p.p_3) * U_leaf9(p)[0]\n",
    "\n",
    "def u_10_k_3(p: Parameters):\n",
    "  return p.p_2 * U_leaf6(p)[0] + (1-p.p_2) * U_leaf7(p)[0]\n",
    "\n",
    "def u_10_k_2(p: Parameters):\n",
    "  return p.p_1 * U_leaf4(p)[0] + (1-p.p_1) * U_leaf5(p)[0]\n",
    "\n",
    "def u_10_k_1(p: Parameters):\n",
    "  return p.p_1 * U_leaf2(p)[0] + (1-p.p_1) * U_leaf3(p)[0]\n",
    "\n",
    "def u_10_k_0(p: Parameters):\n",
    "  return p.p_0 * U_leaf0(p)[0] + (1-p.p_0) * U_leaf1(p)[0]"
   ]
  },
  {
   "cell_type": "code",
   "execution_count": 10,
   "metadata": {
    "id": "yjOoj6vAgkT8",
    "pycharm": {
     "is_executing": true
    }
   },
   "outputs": [],
   "source": [
    "def u_9_k_7(p: Parameters):\n",
    "  return p.zeta * u_10_k_10(p) + (1- p.zeta) * u_10_k_11(p)\n",
    "\n",
    "def u_9_k_6(p: Parameters):\n",
    "  return 1 * u_10_k_9(p)\n",
    "\n",
    "def u_9_k_5(p: Parameters):\n",
    "  return p.zeta * u_10_k_7(p) + (1 - p.zeta) * u_10_k_8(p)\n",
    "\n",
    "def u_9_k_4(p: Parameters):\n",
    "  return 1 * u_10_k_6(p)\n",
    "def u_9_k_3(p: Parameters):\n",
    "  return p.zeta * u_10_k_4(p) + (1 - p.zeta) * u_10_k_5(p)\n",
    "\n",
    "def u_9_k_2(p: Parameters):\n",
    "  return 1 * u_10_k_3(p)\n",
    "def u_9_k_1(p: Parameters):\n",
    "  return p.zeta * u_10_k_1(p) + (1- p.zeta) * u_10_k_2(p)\n",
    "def u_9_k_0(p: Parameters):\n",
    "  return 1 * u_10_k_0(p)"
   ]
  },
  {
   "cell_type": "code",
   "execution_count": 11,
   "metadata": {
    "id": "olNvDilihtp7",
    "pycharm": {
     "is_executing": true
    }
   },
   "outputs": [],
   "source": [
    "def u_8_k_3(p:Parameters):\n",
    "  return x_8_k_3(p) * u_9_k_6(p) + (1-x_8_k_3(p)) * u_9_k_7(p)\n",
    "def u_8_k_2(p:Parameters):\n",
    "  return x_8_k_2(p) * u_9_k_4(p) + (1- x_8_k_2(p)) * u_9_k_5(p)\n",
    "def u_8_k_1(p:Parameters):\n",
    "  return x_8_k_1(p) * u_9_k_2(p) + (1 - x_8_k_1(p)) * u_9_k_3(p)\n",
    "def u_8_k_0(p:Parameters):\n",
    "  return x_8_k_0(p) * u_9_k_0(p) + (1 - x_8_k_0(p)) * u_9_k_1(p)\n"
   ]
  },
  {
   "cell_type": "code",
   "execution_count": 12,
   "metadata": {
    "id": "acK87zbmh7_P",
    "pycharm": {
     "is_executing": true
    }
   },
   "outputs": [],
   "source": [
    "def u_7_k_1(p:Parameters):\n",
    "  return e_7_k_1(p) * u_8_k_2(p) + (1 - e_7_k_1(p)) * u_8_k_3(p)\n",
    "def u_7_k_0(p:Parameters):\n",
    "  return e_7_k_0(p) * u_8_k_0(p) + (1 - e_7_k_0(p)) * u_8_k_1(p)"
   ]
  },
  {
   "cell_type": "code",
   "execution_count": 13,
   "metadata": {
    "id": "CkvX0jeieA1Z",
    "pycharm": {
     "is_executing": true
    }
   },
   "outputs": [],
   "source": [
    "#IV-C 1\n",
    "def beta_e_x(param:Parameters):\n",
    "   return e_7_k_1(param)*(x_8_k_3(param)*\n",
    "                          u_9_k_7(param)+(1-x_8_k_3(param))*u_9_k_6(param)) \\\n",
    "                          + (1-e_7_k_1(param))*(x_8_k_2(param)*u_9_k_5(param) \\\n",
    "                          +(1-x_8_k_2(param))*u_9_k_4(param))- e_7_k_0(param)* \\\n",
    "                           (x_8_k_1(param)*u_9_k_3(param)+(1-x_8_k_1(param))*u_9_k_2(param)) \\\n",
    "                           -(1-e_7_k_0(param))*(x_8_k_0(param)*u_9_k_1(param)+(1-x_8_k_0(param))*u_9_k_0(param))\n",
    "\n",
    "\n",
    "def c_6_k(param:Parameters):\n",
    "    return beta_e_x(param)>0"
   ]
  },
  {
   "cell_type": "code",
   "execution_count": 14,
   "metadata": {
    "id": "bWYAAiQDjVgx",
    "pycharm": {
     "is_executing": true
    }
   },
   "outputs": [],
   "source": [
    "def t_u_7_k_0_with_k(p: Parameters, k):\n",
    "  cloned_p = copy.copy(p)\n",
    "  cloned_p.k = k\n",
    "  return t_u_7_k_0(cloned_p)\n",
    "\n",
    "\n",
    "def t_u_7_k_1_with_k(p: Parameters, k):\n",
    "  cloned_p = copy.copy(p)\n",
    "  cloned_p.k = k\n",
    "  return t_u_7_k_1(cloned_p)\n"
   ]
  },
  {
   "cell_type": "code",
   "execution_count": 15,
   "metadata": {
    "id": "mrb9rsUCmbSG",
    "pycharm": {
     "is_executing": true
    }
   },
   "outputs": [],
   "source": [
    "def c_6(p: Parameters, k):\n",
    "  cloned_p = copy.copy(p)\n",
    "  cloned_p.k = k\n",
    "  return c_6_k(cloned_p)\n"
   ]
  },
  {
   "cell_type": "code",
   "execution_count": 16,
   "metadata": {
    "id": "m1U_r-W3iRBS",
    "pycharm": {
     "is_executing": true
    }
   },
   "outputs": [],
   "source": [
    "#IV-D 3\n",
    "\n",
    "def alpha(param: Parameters):\n",
    "    return param.rho * param.tau * (param.gamma * (c_6(param, 1) * t_u_7_k_0_with_k(param, 1) + ((1 - c_6(param, 1)) * t_u_7_k_1_with_k(param, 1)))\\\n",
    "         +(1 - param.gamma) * (c_6(param, 2) * t_u_7_k_0_with_k(param, 2) + ((1 - c_6(param, 2)) * t_u_7_k_1_with_k(param, 2)))) \\\n",
    "         + param.rho * (1 - param.tau) * (param.gamma * (c_6(param, 3) * t_u_7_k_0_with_k(param, 3) + ((1 - c_6(param, 3)) * t_u_7_k_1_with_k(param, 3))) \\\n",
    "         + (1 - param.gamma) * (c_6(param, 4) * t_u_7_k_0_with_k(param, 4) + ((1 - c_6(param, 4)) * t_u_7_k_1_with_k(param, 4)))) \\\n",
    "         + (1 - param.rho) * param.tau * (param.gamma * (c_6(param, 5) * t_u_7_k_0_with_k(param, 5) + ((1 - c_6(param, 5)) * t_u_7_k_1_with_k(param, 5))) \\\n",
    "         + (1 - param.gamma) * (c_6(param, 6) * t_u_7_k_0_with_k(param, 6) + ((1 - c_6(param, 6)) * t_u_7_k_1_with_k(param, 6)))) \\\n",
    "         + (1 - param.rho) * (1 - param.tau) * (param.gamma * (c_6(param, 7) * t_u_7_k_0_with_k(param, 7) + ((1 - c_6(param, 7)) * t_u_7_k_1_with_k(param, 7)))\\\n",
    "         + (1 - param.gamma) * (c_6(param, 8) * t_u_7_k_0_with_k(param, 8) + ((1 - c_6(param, 8)) * t_u_7_k_1_with_k(param, 8))))\n",
    "\n",
    "\n",
    "\n",
    "def d_2_1(param:Parameters):\n",
    "   return alpha(param)>0"
   ]
  },
  {
   "cell_type": "code",
   "execution_count": 17,
   "metadata": {
    "id": "ddqh39pKqIGD",
    "pycharm": {
     "is_executing": true
    }
   },
   "outputs": [],
   "source": [
    "def t_u_6_k(p: Parameters, k):\n",
    "  cloned_p = copy.copy(p)\n",
    "  cloned_p.k = k\n",
    "  return c_6(cloned_p,k) * t_u_7_k_0_with_k(cloned_p, k) + (1-c_6(cloned_p,k)) * t_u_7_k_1_with_k(cloned_p, k)\n"
   ]
  },
  {
   "cell_type": "code",
   "execution_count": 18,
   "metadata": {
    "id": "6gFYytdhrqbe",
    "pycharm": {
     "is_executing": true
    }
   },
   "outputs": [],
   "source": [
    "def u_6_k(p: Parameters, k):\n",
    "  cloned_p = copy.copy(p)\n",
    "  cloned_p.k = k\n",
    "  return c_6(cloned_p, k) * u_7_k_0(cloned_p) + (1-c_6(cloned_p, k)) * u_7_k_1(cloned_p)\n"
   ]
  },
  {
   "cell_type": "code",
   "execution_count": 19,
   "metadata": {
    "id": "PLrIBeXviSFq",
    "pycharm": {
     "is_executing": true
    }
   },
   "outputs": [],
   "source": [
    "#IV-D 4\n",
    "\n",
    "def t_u_6_0(p:Parameters):\n",
    "    return t_u_6_k(p, 0)\n",
    "\n",
    "def d_2_0(param:Parameters):\n",
    "    return t_u_6_0(param) > 0\n"
   ]
  },
  {
   "cell_type": "code",
   "execution_count": 20,
   "metadata": {
    "id": "snCUkBdc6zY4",
    "pycharm": {
     "is_executing": true
    }
   },
   "outputs": [],
   "source": [
    "# IV-D 2\n",
    "def d_2_2(p:Parameters):\n",
    "    return 0\n"
   ]
  },
  {
   "cell_type": "code",
   "execution_count": 21,
   "metadata": {
    "id": "4XianvFM6zY4",
    "pycharm": {
     "is_executing": true
    }
   },
   "outputs": [],
   "source": [
    "# IV-D 1\n",
    "def d_2_3(p:Parameters):\n",
    "    return 0\n"
   ]
  },
  {
   "cell_type": "code",
   "execution_count": 22,
   "metadata": {
    "id": "Jl_P3Rugq-0k",
    "pycharm": {
     "is_executing": true
    }
   },
   "outputs": [],
   "source": [
    "def t_u_3_1(p: Parameters):\n",
    "  return p.rho * (p.tau * (p.gamma * t_u_6_k(p, 1) + (1-p.gamma) * t_u_6_k(p,2) \\\n",
    "                           + (1-p.tau) * (p.gamma * t_u_6_k(p, 3) + (1-p.gamma) * t_u_6_k(p,4))))  \\\n",
    "    +  (1 - p.rho) * (p.tau * (p.gamma * t_u_6_k(p, 5) + (1-p.gamma) * t_u_6_k(p,6) \\\n",
    "                           + (1-p.tau) * (p.gamma * t_u_6_k(p, 7) + (1-p.gamma) * t_u_6_k(p,8))))\n"
   ]
  },
  {
   "cell_type": "code",
   "execution_count": 23,
   "metadata": {
    "id": "-vVKDaeM66Se",
    "pycharm": {
     "is_executing": true
    }
   },
   "outputs": [],
   "source": [
    "def u_3_1(p: Parameters):\n",
    "  return p.rho * (p.tau * (p.gamma * u_6_k(p, 1) + (1-p.gamma) * u_6_k(p,2) \\\n",
    "                           + (1-p.tau) * (p.gamma * u_6_k(p, 3) + (1-p.gamma) * u_6_k(p,4))))  \\\n",
    "                           +  (1 - p.rho) * (p.tau * (p.gamma * u_6_k(p, 5) + (1-p.gamma) * u_6_k(p,6) \\\n",
    "                           + (1-p.tau) * (p.gamma * u_6_k(p, 7) + (1-p.gamma) * u_6_k(p,8))))\n"
   ]
  },
  {
   "cell_type": "code",
   "execution_count": 24,
   "metadata": {
    "id": "rFOzYQYi6zY4",
    "pycharm": {
     "is_executing": true
    }
   },
   "outputs": [],
   "source": [
    "def u_2_0(p: Parameters):\n",
    "    return ((1 - d_2_0(p)) * p.V_i) + (d_2_0(p) * u_6_k(p, 0))"
   ]
  },
  {
   "cell_type": "code",
   "execution_count": 25,
   "metadata": {
    "id": "hw9gVb7duH1X",
    "pycharm": {
     "is_executing": true
    }
   },
   "outputs": [],
   "source": [
    "def u_2_1(p: Parameters):\n",
    "    return  ((1 - d_2_1(p)) * (p.V_i -p.C_H)) + (d_2_1(p) * u_3_1(p))"
   ]
  },
  {
   "cell_type": "code",
   "execution_count": 26,
   "metadata": {
    "id": "6Hu_Sp_e6zY4",
    "pycharm": {
     "is_executing": true
    }
   },
   "outputs": [],
   "source": [
    "def u_2_2(p: Parameters):\n",
    "    return ((1 - d_2_2(p)) * (p.V_i -p.B)) + (d_2_2(p) * (p.V_i -p.B))"
   ]
  },
  {
   "cell_type": "code",
   "execution_count": 27,
   "metadata": {
    "id": "o5opzKlg6zY5",
    "pycharm": {
     "is_executing": true
    }
   },
   "outputs": [],
   "source": [
    "def u_2_3(p: Parameters):\n",
    "    return ((1 - d_2_3(p)) * (p.V_i -p.B - p.C_H)) + (d_2_3(p) * (p.V_i -p.B- p.C_H))"
   ]
  },
  {
   "cell_type": "code",
   "execution_count": null,
   "metadata": {
    "id": "3rVuDWfWZm28"
   },
   "outputs": [],
   "source": []
  },
  {
   "cell_type": "code",
   "execution_count": 28,
   "metadata": {
    "colab": {
     "base_uri": "https://localhost:8080/"
    },
    "id": "oy0gobqs6zZF",
    "outputId": "ec167b8f-4c7a-47cf-fa7e-b58e392c5ec0",
    "pycharm": {
     "is_executing": true
    }
   },
   "outputs": [
    {
     "name": "stdout",
     "output_type": "stream",
     "text": [
      "Requirement already satisfied: cvxpy in /Users/bhusalb/opt/anaconda3/lib/python3.8/site-packages (1.4.1)\n",
      "Requirement already satisfied: pybind11 in /Users/bhusalb/opt/anaconda3/lib/python3.8/site-packages (from cvxpy) (2.11.1)\n",
      "Requirement already satisfied: scs>=3.0 in /Users/bhusalb/opt/anaconda3/lib/python3.8/site-packages (from cvxpy) (3.2.3)\n",
      "Requirement already satisfied: ecos>=2 in /Users/bhusalb/opt/anaconda3/lib/python3.8/site-packages (from cvxpy) (2.0.12)\n",
      "Requirement already satisfied: osqp>=0.6.2 in /Users/bhusalb/opt/anaconda3/lib/python3.8/site-packages (from cvxpy) (0.6.3)\n",
      "Requirement already satisfied: numpy>=1.15 in /Users/bhusalb/opt/anaconda3/lib/python3.8/site-packages (from cvxpy) (1.19.2)\n",
      "Requirement already satisfied: clarabel>=0.5.0 in /Users/bhusalb/opt/anaconda3/lib/python3.8/site-packages (from cvxpy) (0.6.0)\n",
      "Requirement already satisfied: scipy>=1.1.0 in /Users/bhusalb/opt/anaconda3/lib/python3.8/site-packages (from cvxpy) (1.5.2)\n",
      "Requirement already satisfied: qdldl in /Users/bhusalb/opt/anaconda3/lib/python3.8/site-packages (from osqp>=0.6.2->cvxpy) (0.1.7.post0)\n",
      "Note: you may need to restart the kernel to use updated packages.\n",
      "Requirement already satisfied: gurobipy in /Users/bhusalb/opt/anaconda3/lib/python3.8/site-packages (10.0.3)\n",
      "Note: you may need to restart the kernel to use updated packages.\n",
      "Requirement already satisfied: seaborn in /Users/bhusalb/opt/anaconda3/lib/python3.8/site-packages (0.11.0)\n",
      "Requirement already satisfied: scipy>=1.0 in /Users/bhusalb/opt/anaconda3/lib/python3.8/site-packages (from seaborn) (1.5.2)\n",
      "Requirement already satisfied: matplotlib>=2.2 in /Users/bhusalb/opt/anaconda3/lib/python3.8/site-packages (from seaborn) (3.3.2)\n",
      "Requirement already satisfied: numpy>=1.15 in /Users/bhusalb/opt/anaconda3/lib/python3.8/site-packages (from seaborn) (1.19.2)\n",
      "Requirement already satisfied: pandas>=0.23 in /Users/bhusalb/opt/anaconda3/lib/python3.8/site-packages (from seaborn) (1.1.3)\n",
      "Requirement already satisfied: kiwisolver>=1.0.1 in /Users/bhusalb/opt/anaconda3/lib/python3.8/site-packages (from matplotlib>=2.2->seaborn) (1.3.0)\n",
      "Requirement already satisfied: cycler>=0.10 in /Users/bhusalb/opt/anaconda3/lib/python3.8/site-packages (from matplotlib>=2.2->seaborn) (0.10.0)\n",
      "Requirement already satisfied: certifi>=2020.06.20 in /Users/bhusalb/opt/anaconda3/lib/python3.8/site-packages (from matplotlib>=2.2->seaborn) (2020.6.20)\n",
      "Requirement already satisfied: python-dateutil>=2.1 in /Users/bhusalb/opt/anaconda3/lib/python3.8/site-packages (from matplotlib>=2.2->seaborn) (2.8.1)\n",
      "Requirement already satisfied: pyparsing!=2.0.4,!=2.1.2,!=2.1.6,>=2.0.3 in /Users/bhusalb/opt/anaconda3/lib/python3.8/site-packages (from matplotlib>=2.2->seaborn) (2.4.7)\n",
      "Requirement already satisfied: pillow>=6.2.0 in /Users/bhusalb/opt/anaconda3/lib/python3.8/site-packages (from matplotlib>=2.2->seaborn) (8.0.1)\n",
      "Requirement already satisfied: pytz>=2017.2 in /Users/bhusalb/opt/anaconda3/lib/python3.8/site-packages (from pandas>=0.23->seaborn) (2020.1)\n",
      "Requirement already satisfied: six in /Users/bhusalb/opt/anaconda3/lib/python3.8/site-packages (from cycler>=0.10->matplotlib>=2.2->seaborn) (1.15.0)\n",
      "Note: you may need to restart the kernel to use updated packages.\n"
     ]
    }
   ],
   "source": [
    "%pip install cvxpy\n",
    "%pip install gurobipy\n",
    "%pip install seaborn"
   ]
  },
  {
   "cell_type": "code",
   "execution_count": 29,
   "metadata": {
    "id": "2iOFhPea6zZF",
    "pycharm": {
     "is_executing": true
    }
   },
   "outputs": [],
   "source": [
    "import gurobipy as gp\n",
    "from gurobipy import GRB"
   ]
  },
  {
   "cell_type": "code",
   "execution_count": 30,
   "metadata": {
    "colab": {
     "base_uri": "https://localhost:8080/"
    },
    "id": "ISw3FBmy6zZF",
    "outputId": "42fb3336-5e5e-48fd-e44e-59885d117a9d",
    "pycharm": {
     "is_executing": true
    }
   },
   "outputs": [
    {
     "name": "stdout",
     "output_type": "stream",
     "text": [
      "Restricted license - for non-production use only - expires 2024-10-28\n"
     ]
    }
   ],
   "source": [
    "m = gp.Model()"
   ]
  },
  {
   "cell_type": "code",
   "execution_count": 31,
   "metadata": {
    "id": "qBOCRYZu6zZF",
    "pycharm": {
     "is_executing": true
    }
   },
   "outputs": [],
   "source": [
    "systems = []"
   ]
  },
  {
   "cell_type": "code",
   "execution_count": 33,
   "metadata": {
    "id": "cpuCV93S6zZF",
    "pycharm": {
     "is_executing": true
    }
   },
   "outputs": [],
   "source": [
    "systems.append(Parameters(B=100, C_ht=1, n_ht=10, C_hp=20, C_hf=5, n_hf=10,\n",
    "                        C_nh=50,  C_D=20, C_x=5,\n",
    "                        V_i=50, V_i_prime=60, V_p=40, R_i=30, b_i=None,\n",
    "                        d_i=5, c_i=5, e_i=5, x_i=5, p_0=0.1, p_1=0.2, p_2=0.3, p_3=0.4,\n",
    "                        T=10, F=500, k=0, h_i=None))"
   ]
  },
  {
   "cell_type": "code",
   "execution_count": 34,
   "metadata": {
    "id": "yxsgHqiv6zZF",
    "pycharm": {
     "is_executing": true
    }
   },
   "outputs": [],
   "source": [
    "systems.append(Parameters(B=100000, C_ht=10, n_ht=100, C_hp=20, C_hf=5, n_hf=10,\n",
    "                        C_nh=50,  C_D=20, C_x=5,\n",
    "                        V_i=50, V_i_prime=60, V_p=40, R_i=440, b_i=None,\n",
    "                        d_i=5, c_i=5, e_i=5, x_i=5, p_0=0.1, p_1=0.2, p_2=0.3, p_3=0.4,\n",
    "                        T=10, F=500, k=0, h_i=None))"
   ]
  },
  {
   "cell_type": "code",
   "execution_count": 36,
   "metadata": {
    "id": "ofltmXP26zZF"
   },
   "outputs": [],
   "source": [
    "systems.append(Parameters(B=100000, C_ht=10, n_ht=100, C_hp=20, C_hf=5, n_hf=10,\n",
    "                        C_nh=50,  C_D=20, C_x=100,\n",
    "                        V_i=50, V_i_prime=60, V_p=400, R_i=6000, b_i=None,\n",
    "                        d_i=5, c_i=5, e_i=10, x_i=105, p_0=0.1, p_1=0.2, p_2=0.3, p_3=0.4,\n",
    "                        T=10, F=500, k=0, h_i=None))"
   ]
  },
  {
   "cell_type": "code",
   "execution_count": 37,
   "metadata": {
    "id": "-fmd2pLp6zZF"
   },
   "outputs": [],
   "source": [
    "for index, system in enumerate(systems):\n",
    "    system.h_i = m.addVar(vtype=GRB.BINARY, name=f\"h_{index}\")\n",
    "    system.b_i =  m.addVar(vtype=GRB.BINARY, name=f\"b_{index}\")"
   ]
  },
  {
   "cell_type": "code",
   "execution_count": 38,
   "metadata": {
    "id": "w4TLgznG6zZF"
   },
   "outputs": [],
   "source": [
    "def get_expression_for_single_system(s):\n",
    "    return ((1 - s.b_i) * (1 - s.h_i) * u_2_0(s)) \\\n",
    "            + ((1 - s.b_i) * (s.h_i) * u_2_1(s)) \\\n",
    "            + ((s.b_i) * (1 - s.h_i) * u_2_2(s)) \\\n",
    "            + ((s.b_i) * (s.h_i) * u_2_3(s))"
   ]
  },
  {
   "cell_type": "code",
   "execution_count": 39,
   "metadata": {
    "id": "vQ0jzDJp6zZF"
   },
   "outputs": [],
   "source": [
    "optimization_expr = sum([get_expression_for_single_system(system) for system in systems])"
   ]
  },
  {
   "cell_type": "code",
   "execution_count": 40,
   "metadata": {
    "id": "qOrc2O2N6zZF"
   },
   "outputs": [],
   "source": [
    "m.setObjective(optimization_expr, GRB.MINIMIZE)\n"
   ]
  },
  {
   "cell_type": "code",
   "execution_count": 41,
   "metadata": {
    "colab": {
     "base_uri": "https://localhost:8080/"
    },
    "id": "Vmqv9rU86zZF",
    "outputId": "f40e825a-6795-4f61-8fd8-a6c4e8c3cc44"
   },
   "outputs": [
    {
     "name": "stdout",
     "output_type": "stream",
     "text": [
      "Gurobi Optimizer version 10.0.3 build v10.0.3rc0 (mac64[x86])\n",
      "\n",
      "CPU model: Intel(R) Core(TM) i5-8257U CPU @ 1.40GHz\n",
      "Thread count: 4 physical cores, 8 logical processors, using up to 8 threads\n",
      "\n",
      "Optimize a model with 0 rows, 6 columns and 0 nonzeros\n",
      "Model fingerprint: 0x7a0992b2\n",
      "Model has 2 quadratic objective terms\n",
      "Variable types: 0 continuous, 6 integer (6 binary)\n",
      "Coefficient statistics:\n",
      "  Matrix range     [0e+00, 0e+00]\n",
      "  Objective range  [8e+01, 1e+05]\n",
      "  QObjective range [4e+02, 2e+03]\n",
      "  Bounds range     [1e+00, 1e+00]\n",
      "  RHS range        [0e+00, 0e+00]\n",
      "Found heuristic solution: objective -6290.000000\n",
      "Found heuristic solution: objective -202170.0000\n",
      "Presolve removed 0 rows and 6 columns\n",
      "Presolve time: 0.01s\n",
      "Presolve: All rows and columns removed\n",
      "\n",
      "Explored 0 nodes (0 simplex iterations) in 0.02 seconds (0.00 work units)\n",
      "Thread count was 1 (of 8 available processors)\n",
      "\n",
      "Solution count 2: -202170 -6290 \n",
      "No other solutions better than -202170\n",
      "\n",
      "Optimal solution found (tolerance 1.00e-04)\n",
      "Best objective -2.021700000000e+05, best bound -2.021700000000e+05, gap 0.0000%\n"
     ]
    }
   ],
   "source": [
    "m.optimize()"
   ]
  },
  {
   "cell_type": "code",
   "execution_count": 42,
   "metadata": {
    "colab": {
     "base_uri": "https://localhost:8080/"
    },
    "id": "mB-InfZf6zZF",
    "outputId": "edabef0d-6879-4f66-9df8-945dd8b5c265"
   },
   "outputs": [
    {
     "name": "stdout",
     "output_type": "stream",
     "text": [
      "h_0 = 1.0\n",
      "b_0 = 1.0\n",
      "h_1 = 1.0\n",
      "b_1 = 1.0\n",
      "h_2 = 1.0\n",
      "b_2 = 1.0\n"
     ]
    }
   ],
   "source": [
    "all_vars = m.getVars()\n",
    "values = m.getAttr(\"X\", all_vars)\n",
    "names = m.getAttr(\"VarName\", all_vars)\n",
    "\n",
    "for name, val in zip(names, values):\n",
    "    print(f\"{name} = {val}\")"
   ]
  },
  {
   "cell_type": "code",
   "execution_count": 44,
   "metadata": {
    "colab": {
     "base_uri": "https://localhost:8080/"
    },
    "id": "Spe4sUtTR72d",
    "outputId": "cea5241e-ca43-41ac-d5bf-a3d3c3f129af"
   },
   "outputs": [],
   "source": [
    "sample = Parameters(T=10 * 1e6, \n",
    "                    B= 1,\n",
    "                    C_D= 1 * 1e6, \n",
    "                    F= 26.25*1e6, \n",
    "                    C_x=1000,\n",
    "                    V_i=112*1e6, \n",
    "                    V_p=10.93*1e6, \n",
    "                    R_i=2.625*1e6, \n",
    "                    V_i_prime=4.38*1e6,\n",
    "                    C_ht=0.03*1e6, \n",
    "                    n_ht=0.67*1e6, \n",
    "                    C_hp=0.75*1e6, \n",
    "                    C_hf=0.1*1e6, \n",
    "                    n_hf=0.3*1e6, \n",
    "                    C_nh=0.2*1e6, \n",
    "                    p_0=0.1, \n",
    "                    p_1=0.15, \n",
    "                    p_2=0.18, \n",
    "                    p_3=0.2, \n",
    "                    k=None)\n"
   ]
  },
  {
   "cell_type": "code",
   "execution_count": null,
   "metadata": {},
   "outputs": [],
   "source": []
  },
  {
   "cell_type": "code",
   "execution_count": 51,
   "metadata": {
    "colab": {
     "base_uri": "https://localhost:8080/",
     "height": 465
    },
    "id": "z1nJqP57WveM",
    "outputId": "eb1c0626-2989-457f-ac23-844707030b0b"
   },
   "outputs": [
    {
     "name": "stdout",
     "output_type": "stream",
     "text": [
      "1.0\n",
      "1.0\n",
      "1.0\n",
      "1.0\n",
      "1.0\n",
      "1.0\n",
      "1.0\n",
      "1.0\n",
      "1.0\n",
      "1.0\n",
      "1.0\n",
      "1.0\n",
      "1.0\n",
      "1.0\n",
      "1.0\n",
      "1.0\n",
      "1.0\n",
      "1.0\n",
      "1.0\n",
      "1.0\n",
      "1.0\n",
      "1.0\n",
      "1.0\n",
      "1.0\n",
      "1.0\n",
      "1.0\n",
      "1.0\n",
      "1.0\n",
      "1.0\n",
      "1.0\n",
      "1.0\n",
      "1.0\n",
      "1.0\n",
      "1.0\n",
      "1.0\n",
      "1.0\n",
      "1.0\n",
      "1.0\n",
      "1.0\n",
      "1.0\n",
      "1.0\n",
      "1.0\n",
      "1.0\n",
      "1.0\n",
      "1.0\n",
      "1.0\n",
      "1.0\n",
      "1.0\n",
      "1.0\n",
      "1.0\n",
      "1.0\n",
      "1.0\n",
      "1.0\n",
      "1.0\n",
      "1.0\n",
      "1.0\n",
      "1.0\n",
      "1.0\n",
      "1.0\n",
      "1.0\n",
      "1.0\n",
      "1.0\n",
      "1.0\n",
      "1.0\n",
      "1.0\n",
      "1.0\n",
      "1.0\n",
      "1.0\n",
      "1.0\n",
      "1.0\n",
      "1.0\n",
      "1.0\n",
      "1.0\n",
      "1.0\n",
      "1.0\n",
      "1.0\n",
      "1.0\n",
      "1.0\n",
      "1.0\n",
      "1.0\n",
      "1.0\n",
      "1.0\n",
      "1.0\n",
      "1.0\n",
      "1.0\n",
      "1.0\n",
      "1.0\n",
      "1.0\n",
      "1.0\n",
      "1.0\n",
      "1.0\n",
      "1.0\n",
      "1.0\n",
      "1.0\n",
      "1.0\n",
      "1.0\n",
      "1.0\n",
      "1.0\n",
      "1.0\n",
      "1.0\n"
     ]
    },
    {
     "data": {
      "image/png": "[encoded data removed]",
      "text/plain": [
       "<Figure size 432x288 with 1 Axes>"
      ]
     },
     "metadata": {
      "needs_background": "light"
     },
     "output_type": "display_data"
    }
   ],
   "source": [
    "from collections import defaultdict\n",
    "import matplotlib.pyplot as plt\n",
    "\n",
    "\n",
    "Fi = defaultdict(list)\n",
    "Ei = defaultdict(list)\n",
    "\n",
    "\n",
    "\n",
    "F_range = np.linspace(20 * 1e6, 30 * 1e6, 10) \n",
    "\n",
    "p1_range = np.linspace(0.11,0.20,10)\n",
    "\n",
    "\n",
    "\n",
    "for F in F_range:\n",
    "    for p1 in p1_range:\n",
    "        p = sample.clone()\n",
    "        p.F=F\n",
    "        p.p_1=p1\n",
    "        e_a_b_1 = t_u_3_1(p)\n",
    "        print(p.rho)\n",
    "\n",
    "\n",
    "        Fi[F].append(p1)\n",
    "        Ei[F].append(e_a_b_1)\n",
    "\n",
    "# Generate multiple lines on the same plot\n",
    "for F in F_range:\n",
    "    plt.plot(Fi[F], Ei[F], label=f'F={F}')\n",
    "\n",
    "# Adding title and labels\n",
    "plt.xlabel(\"p1\")\n",
    "plt.ylabel(\"Attacker Utility\")\n",
    "\n",
    "# Adding a legend\n",
    "plt.legend()\n",
    "\n",
    "plt.savefig(\"n1.pdf\", format=\"pdf\", bbox_inches=\"tight\")\n",
    "\n",
    "\n",
    "# Displaying the plot\n",
    "plt.show()\n",
    "\n"
   ]
  },
  {
   "cell_type": "code",
   "execution_count": null,
   "metadata": {},
   "outputs": [],
   "source": []
  },
  {
   "cell_type": "code",
   "execution_count": null,
   "metadata": {
    "colab": {
     "base_uri": "https://localhost:8080/",
     "height": 465
    },
    "id": "j4XEuHDar4R8",
    "outputId": "5f200018-2a22-4598-fe94-dfa5a7d23620"
   },
   "outputs": [],
   "source": [
    "from collections import defaultdict\n",
    "import matplotlib.pyplot as plt\n",
    "\n",
    "Fi = defaultdict(list)\n",
    "Ei = defaultdict(list)\n",
    "\n",
    "# Attacker utils eval for F and p0\n",
    "F_range = generate_log_range(0.000075*1e6,0.000099*1e6,5)\n",
    "p1_range = generate_log_range(0.2,0.5,10)\n",
    "\n",
    "\n",
    "for F in F_range:\n",
    "    for p1 in p1_range:\n",
    "        p = sample.clone()\n",
    "        p.C_D=F\n",
    "        p.p_0=p1\n",
    "        p=p.clone()\n",
    "        e_a_b_1 = t_u_3_1(p)\n",
    "\n",
    "        Fi[F].append(p1)\n",
    "        Ei[F].append(e_a_b_1)\n",
    "\n",
    "# Generate multiple lines on the same plot\n",
    "for F in F_range:\n",
    "    plt.plot(Fi[F], Ei[F], label=f'CD={F}')\n",
    "\n",
    "# Adding title and labels\n",
    "plt.xlabel(\"p0\")\n",
    "plt.ylabel(\"Attacker Utility\")\n",
    "\n",
    "# Adding a legend\n",
    "plt.legend()\n",
    "\n",
    "plt.savefig(\"n2.pdf\", format=\"pdf\", bbox_inches=\"tight\")\n",
    "\n",
    "\n",
    "# Displaying the plot\n",
    "plt.show()\n",
    "\n"
   ]
  },
  {
   "cell_type": "code",
   "execution_count": null,
   "metadata": {
    "colab": {
     "base_uri": "https://localhost:8080/",
     "height": 465
    },
    "id": "NegR75SHgYbv",
    "outputId": "f56623a5-62d8-4fc4-b641-2496d00725df"
   },
   "outputs": [],
   "source": [
    "from collections import defaultdict\n",
    "import matplotlib.pyplot as plt\n",
    "\n",
    "Fi = defaultdict(list)\n",
    "Ei = defaultdict(list)\n",
    "\n",
    "# Attacker utils eval for CD and R\n",
    "F_range = generate_log_range(0.000075*1e6,0.000099*1e6,5)\n",
    "R_range = generate_log_range(1*1e6,3.0*1e6,10)\n",
    "\n",
    "\n",
    "for F in F_range:\n",
    "    for R in R_range:\n",
    "        p = sample.clone()\n",
    "        p.C_D=F\n",
    "        p.R_i=R\n",
    "        p=p.clone()\n",
    "        e_a_b_1 = t_u_3_1(p)\n",
    "\n",
    "        Fi[F].append(R)\n",
    "        Ei[F].append(e_a_b_1)\n",
    "\n",
    "# Generate multiple lines on the same plot\n",
    "for F in F_range:\n",
    "    plt.plot(Fi[F], Ei[F], label=f'CD={F}')\n",
    "\n",
    "# Adding title and labels\n",
    "plt.xlabel(\"Ri\")\n",
    "plt.ylabel(\"Attacker Utility\")\n",
    "\n",
    "# Adding a legend\n",
    "plt.legend()\n",
    "\n",
    "plt.savefig(\"n3.pdf\", format=\"pdf\", bbox_inches=\"tight\")\n",
    "\n",
    "\n",
    "# Displaying the plot\n",
    "plt.show()\n",
    "\n"
   ]
  },
  {
   "cell_type": "code",
   "execution_count": null,
   "metadata": {
    "colab": {
     "base_uri": "https://localhost:8080/",
     "height": 465
    },
    "id": "I9CUV5ThJpmv",
    "outputId": "2f51af47-9f93-4110-e006-4d2b6348ae29"
   },
   "outputs": [],
   "source": [
    "from collections import defaultdict\n",
    "import matplotlib.pyplot as plt\n",
    "\n",
    "Fi = defaultdict(list)\n",
    "Ei = defaultdict(list)\n",
    "Zi=defaultdict(list)\n",
    "# Attacker utils eval for F and Cnh\n",
    "F_range = generate_log_range(0.000075*1e6,0.000099*1e6,5)\n",
    "R_range = generate_log_range(0.1*1e6,0.5*1e6,10)\n",
    "\n",
    "\n",
    "\n",
    "for F in F_range:\n",
    "    for R in R_range:\n",
    "        p = sample.clone()\n",
    "\n",
    "        p.C_D=F\n",
    "        p.C_nh=R\n",
    "        p=p.clone()\n",
    "\n",
    "        Zi[F].append(p.zeta)\n",
    "        e_a_b_1 = t_u_3_1(p)\n",
    "        Fi[F].append(R)\n",
    "        Ei[F].append(e_a_b_1)\n",
    "\n",
    "# Generate multiple lines on the same plot\n",
    "for F in F_range:\n",
    "    plt.plot(Fi[F], Ei[F], label=f'CD={F}')\n",
    "\n",
    "\n",
    "\n",
    "# Adding title and labels\n",
    "plt.xlabel(\"Cnh\")\n",
    "plt.ylabel(\"Attacker Utility\")\n",
    "\n",
    "# Adding a legend\n",
    "plt.legend()\n",
    "\n",
    "plt.savefig(\"n4.pdf\", format=\"pdf\", bbox_inches=\"tight\")\n",
    "\n",
    "\n",
    "\n",
    "\n",
    "\n"
   ]
  },
  {
   "cell_type": "code",
   "execution_count": null,
   "metadata": {
    "colab": {
     "base_uri": "https://localhost:8080/",
     "height": 449
    },
    "id": "QfXfbEs5Tw27",
    "outputId": "509bb480-e490-42a6-cca3-5c32f911c013"
   },
   "outputs": [],
   "source": [
    "# Generate multiple lines on the same plot\n",
    "for F in F_range:\n",
    "    plt.plot(Fi[F], Zi[F], label=f'CD={F}')\n",
    "\n",
    "# Adding title and labels\n",
    "plt.xlabel(\"Cnh\")\n",
    "plt.ylabel(\"ζ\")\n",
    "\n",
    "# Adding a legend\n",
    "plt.legend()\n",
    "\n",
    "plt.savefig(\"n5.pdf\", format=\"pdf\", bbox_inches=\"tight\")"
   ]
  },
  {
   "cell_type": "code",
   "execution_count": null,
   "metadata": {
    "colab": {
     "base_uri": "https://localhost:8080/",
     "height": 465
    },
    "id": "8-sbfuaNyZ5o",
    "outputId": "2a1d486f-85c9-43be-d717-d0d28e148e10"
   },
   "outputs": [],
   "source": [
    "from collections import defaultdict\n",
    "import matplotlib.pyplot as plt\n",
    "\n",
    "Fi = defaultdict(list)\n",
    "Ei = defaultdict(list)\n",
    "Gi=defaultdict(list)\n",
    "\n",
    "# Attacker utils eval for CD and nhf\n",
    "\n",
    "F_range = generate_log_range(0.000075,0.000099,5)\n",
    "R_range = generate_log_range(0.1*1e6,0.5*1e6,10)\n",
    "\n",
    "\n",
    "for F in F_range:\n",
    "    for R in R_range:\n",
    "        p = sample.clone()\n",
    "        p.C_D=F\n",
    "        p.n_hf=R\n",
    "        p=p.clone()\n",
    "        Gi[F].append(p.gamma)\n",
    "        e_a_b_1 = t_u_3_1(p)\n",
    "        Fi[F].append(R)\n",
    "        Ei[F].append(e_a_b_1)\n",
    "\n",
    "# Generate multiple lines on the same plot\n",
    "for F in F_range:\n",
    "    plt.plot(Fi[F], Ei[F], label=f'CD={F}')\n",
    "\n",
    "# Adding title and labels\n",
    "plt.xlabel(\"nhf\")\n",
    "plt.ylabel(\"Attacker Utility\")\n",
    "\n",
    "# Adding a legend\n",
    "plt.legend()\n",
    "\n",
    "plt.savefig(\"n6.pdf\", format=\"pdf\", bbox_inches=\"tight\")\n",
    "\n",
    "\n",
    "# Displaying the plot\n",
    "plt.show()\n",
    "\n"
   ]
  },
  {
   "cell_type": "code",
   "execution_count": null,
   "metadata": {
    "colab": {
     "base_uri": "https://localhost:8080/",
     "height": 449
    },
    "id": "rmfMXoQlvRYy",
    "outputId": "ba1d29b6-149e-4e8a-c5ba-8d4ce26e7521"
   },
   "outputs": [],
   "source": [
    "# Generate multiple lines on the same plot\n",
    "for F in F_range:\n",
    "    plt.plot(Fi[F], Gi[F], label=f'CD={F}')\n",
    "\n",
    "# Adding title and labels\n",
    "plt.xlabel(\"nhf\")\n",
    "plt.ylabel(\"γ\")\n",
    "\n",
    "# Adding a legend\n",
    "plt.legend()\n",
    "\n",
    "plt.savefig(\"n7.pdf\", format=\"pdf\", bbox_inches=\"tight\")"
   ]
  },
  {
   "cell_type": "code",
   "execution_count": null,
   "metadata": {
    "colab": {
     "base_uri": "https://localhost:8080/",
     "height": 465
    },
    "id": "aQsgVk4kyv6k",
    "outputId": "4191a0c0-d077-49c1-d122-41a230325f3e"
   },
   "outputs": [],
   "source": [
    "from collections import defaultdict\n",
    "import matplotlib.pyplot as plt\n",
    "\n",
    "Fi = defaultdict(list)\n",
    "Ei = defaultdict(list)\n",
    "Ti = defaultdict(list)\n",
    "\n",
    "# Attacker utils eval for CD and Chp\n",
    "F_range = generate_log_range(0.000075*1e6,0.000099*1e6,5)\n",
    "R_range = generate_log_range(0.1*1e6,0.9*1e6,10)\n",
    "\n",
    "\n",
    "for F in F_range:\n",
    "    for R in R_range:\n",
    "        p = sample.clone()\n",
    "        p.C_D=F\n",
    "        p.C_hp=R\n",
    "        p=p.clone()\n",
    "        Ti[F].append(p.tau)\n",
    "        e_a_b_1 = t_u_3_1(p)\n",
    "\n",
    "        Fi[F].append(R)\n",
    "        Ei[F].append(e_a_b_1)\n",
    "\n",
    "# Generate multiple lines on the same plot\n",
    "for F in F_range:\n",
    "    plt.plot(Fi[F], Ei[F], label=f'CD={F}')\n",
    "\n",
    "# Adding title and labels\n",
    "plt.xlabel(\"Chp\")\n",
    "plt.ylabel(\"Attacker Utility\")\n",
    "\n",
    "# Adding a legend\n",
    "plt.legend()\n",
    "\n",
    "plt.savefig(\"n8.pdf\", format=\"pdf\", bbox_inches=\"tight\")\n",
    "\n",
    "\n",
    "# Displaying the plot\n",
    "plt.show()\n",
    "\n"
   ]
  },
  {
   "cell_type": "code",
   "execution_count": null,
   "metadata": {
    "colab": {
     "base_uri": "https://localhost:8080/",
     "height": 449
    },
    "id": "FGfxRKN5cfGi",
    "outputId": "67023a0e-fa2e-4d4a-e836-966fe42622a7"
   },
   "outputs": [],
   "source": [
    "# Generate multiple lines on the same plot\n",
    "for F in F_range:\n",
    "    plt.plot(Fi[F], Ti[F], label=f'CD={F}')\n",
    "\n",
    "# Adding title and labels\n",
    "plt.xlabel(\"Chp\")\n",
    "plt.ylabel(\"τ\")\n",
    "\n",
    "# Adding a legend\n",
    "plt.legend()\n",
    "\n",
    "plt.savefig(\"n9.pdf\", format=\"pdf\", bbox_inches=\"tight\")"
   ]
  },
  {
   "cell_type": "code",
   "execution_count": null,
   "metadata": {
    "colab": {
     "base_uri": "https://localhost:8080/",
     "height": 465
    },
    "id": "SLb-f9lpzV6P",
    "outputId": "d02b15b6-2f5a-40f0-e50c-3851b3f9b6ee"
   },
   "outputs": [],
   "source": [
    "from collections import defaultdict\n",
    "import matplotlib.pyplot as plt\n",
    "\n",
    "Fi = defaultdict(list)\n",
    "Ei = defaultdict(list)\n",
    "Ri = defaultdict(list)\n",
    "\n",
    "# Attacker utils eval for CD and Cht\n",
    "F_range = generate_log_range(0.000075*1e6,0.000099*1e6,5)\n",
    "R_range = generate_log_range(0.1*1e6,0.99*1e6,10)\n",
    "\n",
    "for F in F_range:\n",
    "    for R in R_range:\n",
    "        p = sample.clone()\n",
    "        p.C_D=F\n",
    "        p.n_ht=R\n",
    "        p=p.clone()\n",
    "        Ri[F].append(p.rho)\n",
    "        e_a_b_1 = t_u_3_1(p)\n",
    "\n",
    "        Fi[F].append(R)\n",
    "        Ei[F].append(e_a_b_1)\n",
    "\n",
    "# Generate multiple lines on the same plot\n",
    "for F in F_range:\n",
    "    plt.plot(Fi[F], Ei[F], label=f'CD={F}')\n",
    "\n",
    "# Adding title and labels\n",
    "plt.xlabel(\"nht\")\n",
    "plt.ylabel(\"Attacker Utility\")\n",
    "\n",
    "# Adding a legend\n",
    "plt.legend()\n",
    "\n",
    "plt.savefig(\"n10.pdf\", format=\"pdf\", bbox_inches=\"tight\")\n",
    "\n",
    "\n",
    "# Displaying the plot\n",
    "plt.show()\n",
    "\n"
   ]
  },
  {
   "cell_type": "code",
   "execution_count": null,
   "metadata": {
    "colab": {
     "base_uri": "https://localhost:8080/",
     "height": 449
    },
    "id": "KfeyQZCv-X6J",
    "outputId": "4b8b66be-7e15-40c5-bf2d-a632ca11d26e"
   },
   "outputs": [],
   "source": [
    "# Generate multiple lines on the same plot\n",
    "for F in F_range:\n",
    "    plt.plot(Fi[F], Ri[F], label=f'CD={F}')\n",
    "\n",
    "# Adding title and labels\n",
    "plt.xlabel(\"nht\")\n",
    "plt.ylabel(\"ρ\")\n",
    "\n",
    "# Adding a legend\n",
    "plt.legend()\n",
    "\n",
    "plt.savefig(\"n11.pdf\", format=\"pdf\", bbox_inches=\"tight\")"
   ]
  },
  {
   "cell_type": "code",
   "execution_count": null,
   "metadata": {
    "colab": {
     "base_uri": "https://localhost:8080/",
     "height": 465
    },
    "id": "fMVDm3tmLYfw",
    "outputId": "ded09393-f71b-4db2-91cc-ce8f491950af"
   },
   "outputs": [],
   "source": [
    "from collections import defaultdict\n",
    "import matplotlib.pyplot as plt\n",
    "\n",
    "\n",
    "Fi = defaultdict(list)\n",
    "Ei = defaultdict(list)\n",
    "\n",
    "# Attacker utils eval for F and Cx\n",
    "\n",
    "\n",
    "F_range = generate_log_range(0.000075*1e6,0.000099*1e6,5)\n",
    "R_range = generate_log_range(0.000001*1e6,0.00001*1e6,10)\n",
    "\n",
    "\n",
    "for F in F_range:\n",
    "    for R in R_range:\n",
    "        p = sample.clone()\n",
    "        p.F=F\n",
    "        p.C_x=R\n",
    "        p=p.clone()\n",
    "        e_a_b_1 = t_u_3_1(p)\n",
    "\n",
    "        Fi[F].append(R)\n",
    "        Ei[F].append(e_a_b_1)\n",
    "\n",
    "# Generate multiple lines on the same plot\n",
    "for F in F_range:\n",
    "    plt.plot(Fi[F], Ei[F], label=f'F={F}')\n",
    "\n",
    "# Adding title and labels\n",
    "plt.xlabel(\"Cx\")\n",
    "plt.ylabel(\"Attacker Utility\")\n",
    "\n",
    "# Adding a legend\n",
    "plt.legend()\n",
    "\n",
    "plt.savefig(\"n12.pdf\", format=\"pdf\", bbox_inches=\"tight\")\n",
    "\n",
    "\n",
    "# Displaying the plot\n",
    "plt.show()\n",
    "\n"
   ]
  },
  {
   "cell_type": "code",
   "execution_count": null,
   "metadata": {
    "colab": {
     "base_uri": "https://localhost:8080/",
     "height": 465
    },
    "id": "cvGv80RckSAZ",
    "outputId": "350a772c-a334-413b-9e12-618bb1ae4aab"
   },
   "outputs": [],
   "source": [
    "from collections import defaultdict\n",
    "import matplotlib.pyplot as plt\n",
    "\n",
    "Fi = defaultdict(list)\n",
    "Ei = defaultdict(list)\n",
    "\n",
    "# Attacker utils eval for V_prime and p1\n",
    "\n",
    "\n",
    "V_range = generate_log_range(2.3*1e6,6.1*1e6,10)\n",
    "p0_range = generate_log_range(0.1,0.8,5)\n",
    "\n",
    "V_range = [item / 1000000 for item in V_range]\n",
    "\n",
    "for p0 in p0_range:\n",
    "    for V in V_range:\n",
    "        p = sample.clone()\n",
    "        p.V_i_prime=V\n",
    "        p.p_1=p0\n",
    "        p=p.clone()\n",
    "        e_a_b_1 = t_u_3_1(p)\n",
    "\n",
    "        Fi[p0].append(V)\n",
    "        Ei[p0].append(e_a_b_1)\n",
    "\n",
    "# Generate multiple lines on the same plot\n",
    "for p0 in p0_range:\n",
    "    plt.plot(Fi[p0], Ei[p0], label=f'p0={p0}')\n",
    "\n",
    "# Adding title and labels\n",
    "plt.xlabel(\"Vi′\")\n",
    "plt.ylabel(\"Attacker Utility\")\n",
    "\n",
    "# Adding a legend\n",
    "plt.legend()\n",
    "\n",
    "plt.savefig(\"n13.pdf\", format=\"pdf\", bbox_inches=\"tight\")\n",
    "\n",
    "\n",
    "# Displaying the plot\n",
    "plt.show()\n",
    "\n"
   ]
  },
  {
   "cell_type": "code",
   "execution_count": null,
   "metadata": {
    "id": "llByhrW5Ndf5"
   },
   "outputs": [],
   "source": [
    "\n",
    "# sample = Parameters(B=500, C_ht=0.03, n_ht=500, C_hp=60, C_hf=0.1, n_hf=200,\n",
    "#                     C_nh=80, C_D=75, C_x=5,\n",
    "#                     V_i=800, V_i_prime=600, V_p=400, R_i=750,\n",
    "#                      p_0=0.01, p_1=0.19, p_2=0.6, p_3=0.5,\n",
    "#                     T=10, F=7500, k=None)\n",
    "\n",
    "\n"
   ]
  },
  {
   "cell_type": "code",
   "execution_count": null,
   "metadata": {
    "colab": {
     "base_uri": "https://localhost:8080/",
     "height": 465
    },
    "id": "kZKN6JucFr8Y",
    "outputId": "c648dd90-03ff-4fb2-8c41-d16bebbd41e0"
   },
   "outputs": [],
   "source": [
    "from collections import defaultdict\n",
    "import matplotlib.pyplot as plt\n",
    "\n",
    "Fi = defaultdict(list)\n",
    "Ei = defaultdict(list)\n",
    "\n",
    "# Attacker utils eval for Vi and R\n",
    "\n",
    "F_range = generate_log_range(50*1e6,120*1e6,5)\n",
    "R_range = generate_log_range(1*1e6,4.6*1e6,10)\n",
    "\n",
    "for F in F_range:\n",
    "    for R in R_range:\n",
    "        p = sample.clone()\n",
    "        p.V_i=F\n",
    "        p.R_i=R\n",
    "        p=p.clone()\n",
    "        e_a_b_1 = u_3_1(p)\n",
    "        Fi[F].append(R)\n",
    "        Ei[F].append(e_a_b_1)\n",
    "\n",
    "# Generate multiple lines on the same plot\n",
    "for F in F_range:\n",
    "    plt.plot(Fi[F], Ei[F], label=f'Vi={F}')\n",
    "\n",
    "# Adding title and labels\n",
    "plt.xlabel(\"R\")\n",
    "plt.ylabel(\"Defender Utility\")\n",
    "\n",
    "# Adding a legend\n",
    "plt.legend()\n",
    "\n",
    "plt.savefig(\"n14.pdf\", format=\"pdf\", bbox_inches=\"tight\")\n",
    "\n",
    "\n",
    "# Displaying the plot\n",
    "plt.show()\n",
    "\n"
   ]
  },
  {
   "cell_type": "code",
   "execution_count": null,
   "metadata": {
    "colab": {
     "base_uri": "https://localhost:8080/",
     "height": 465
    },
    "id": "AfYTZlryKS3Q",
    "outputId": "307855f5-76aa-4be0-ad9f-6bfbdc7b011a"
   },
   "outputs": [],
   "source": [
    "from collections import defaultdict\n",
    "import matplotlib.pyplot as plt\n",
    "\n",
    "Fi = defaultdict(list)\n",
    "Ei = defaultdict(list)\n",
    "Zi=defaultdict(list)\n",
    "# Attacker utils eval for Vi and Cnh\n",
    "F_range = generate_log_range(50*1e6,120*1e6,5)\n",
    "R_range = generate_log_range(0.2*1e6,0.4*1e6,10)\n",
    "\n",
    "\n",
    "\n",
    "\n",
    "for F in F_range:\n",
    "    for R in R_range:\n",
    "        p = sample.clone()\n",
    "        p.V_i=F\n",
    "        p.C_nh=R\n",
    "        p=p.clone()\n",
    "        Zi[F].append(p.zeta)\n",
    "        e_a_b_1 = u_3_1(p)\n",
    "        Fi[F].append(R)\n",
    "        Ei[F].append(e_a_b_1)\n",
    "\n",
    "# Generate multiple lines on the same plot\n",
    "for F in F_range:\n",
    "    plt.plot(Fi[F], Ei[F], label=f'Vi={F}')\n",
    "\n",
    "\n",
    "\n",
    "# Adding title and labels\n",
    "plt.xlabel(\"Cnh\")\n",
    "plt.ylabel(\"Defender Utility\")\n",
    "\n",
    "# Adding a legend\n",
    "plt.legend()\n",
    "\n",
    "plt.savefig(\"n15.pdf\", format=\"pdf\", bbox_inches=\"tight\")\n",
    "\n",
    "\n",
    "\n",
    "\n",
    "\n"
   ]
  },
  {
   "cell_type": "code",
   "execution_count": null,
   "metadata": {
    "colab": {
     "base_uri": "https://localhost:8080/",
     "height": 449
    },
    "id": "FxbAKrUtLKQS",
    "outputId": "1931c79b-c541-4cb2-d7dc-c1c008cc19d8"
   },
   "outputs": [],
   "source": [
    "# Generate multiple lines on the same plot\n",
    "for F in F_range:\n",
    "    plt.plot(Fi[F], Zi[F], label=f'Vi={F}')\n",
    "\n",
    "# Adding title and labels\n",
    "plt.xlabel(\"Cnh\")\n",
    "plt.ylabel(\"ζ\")\n",
    "\n",
    "# Adding a legend\n",
    "plt.legend()\n",
    "\n",
    "plt.savefig(\"n16.pdf\", format=\"pdf\", bbox_inches=\"tight\")"
   ]
  },
  {
   "cell_type": "code",
   "execution_count": null,
   "metadata": {
    "colab": {
     "base_uri": "https://localhost:8080/",
     "height": 465
    },
    "id": "uc_L_8_uLm3R",
    "outputId": "a92e8778-7d6a-4a41-bd3f-1f32144224d2"
   },
   "outputs": [],
   "source": [
    "from collections import defaultdict\n",
    "import matplotlib.pyplot as plt\n",
    "\n",
    "Fi = defaultdict(list)\n",
    "Ei = defaultdict(list)\n",
    "Gi=defaultdict(list)\n",
    "\n",
    "# Attacker utils eval for Vi and n_hf\n",
    "F_range = generate_log_range(50*1e6,120*1e6,5)\n",
    "R_range = generate_log_range(0.2*1e6,0.4*1e6,10)\n",
    "\n",
    "\n",
    "for F in F_range:\n",
    "    for R in R_range:\n",
    "        p = sample.clone()\n",
    "        p.V_i=F\n",
    "        p.n_hf=R\n",
    "\n",
    "        p=p.clone()\n",
    "\n",
    "        Gi[F].append(p.gamma)\n",
    "        e_a_b_1 = u_3_1(p)\n",
    "        Fi[F].append(R)\n",
    "        Ei[F].append(e_a_b_1)\n",
    "\n",
    "# Generate multiple lines on the same plot\n",
    "for F in F_range:\n",
    "    plt.plot(Fi[F], Ei[F], label=f'Vi={F}')\n",
    "\n",
    "# Adding title and labels\n",
    "plt.xlabel(\"nhf\")\n",
    "plt.ylabel(\"Defender Utility\")\n",
    "\n",
    "# Adding a legend\n",
    "plt.legend()\n",
    "\n",
    "plt.savefig(\"n17.pdf\", format=\"pdf\", bbox_inches=\"tight\")\n",
    "\n",
    "\n",
    "# Displaying the plot\n",
    "plt.show()\n",
    "\n"
   ]
  },
  {
   "cell_type": "code",
   "execution_count": null,
   "metadata": {
    "colab": {
     "base_uri": "https://localhost:8080/",
     "height": 449
    },
    "id": "hbjQR2GgMRTl",
    "outputId": "59ab3288-cdbb-4f07-aa68-d8f17ef4afca"
   },
   "outputs": [],
   "source": [
    "# Generate multiple lines on the same plot\n",
    "for F in F_range:\n",
    "    plt.plot(Fi[F], Gi[F], label=f'Vi={F}')\n",
    "\n",
    "# Adding title and labels\n",
    "plt.xlabel(\"nhf\")\n",
    "plt.ylabel(\"γ\")\n",
    "\n",
    "# Adding a legend\n",
    "plt.legend()\n",
    "\n",
    "plt.savefig(\"n18.pdf\", format=\"pdf\", bbox_inches=\"tight\")"
   ]
  },
  {
   "cell_type": "code",
   "execution_count": null,
   "metadata": {
    "colab": {
     "base_uri": "https://localhost:8080/",
     "height": 465
    },
    "id": "pORtn8E9M5lC",
    "outputId": "fefb9f55-4ae1-4803-a20a-309e8e8482df"
   },
   "outputs": [],
   "source": [
    "from collections import defaultdict\n",
    "import matplotlib.pyplot as plt\n",
    "\n",
    "Fi = defaultdict(list)\n",
    "Ei = defaultdict(list)\n",
    "Ti = defaultdict(list)\n",
    "\n",
    "# Attacker utils eval for Vi and Chp\n",
    "F_range = generate_log_range(50*1e6,120*1e6,5)\n",
    "R_range = generate_log_range(0.25*1e6,0.80*1e6,10)\n",
    "\n",
    "\n",
    "\n",
    "\n",
    "for F in F_range:\n",
    "    for R in R_range:\n",
    "        p = sample.clone()\n",
    "        p.V_i=F\n",
    "        p.C_hp=R\n",
    "        p=p.clone()\n",
    "        Ti[F].append(p.tau)\n",
    "        e_a_b_1 = u_3_1(p)\n",
    "\n",
    "        Fi[F].append(R)\n",
    "        Ei[F].append(e_a_b_1)\n",
    "\n",
    "# Generate multiple lines on the same plot\n",
    "for F in F_range:\n",
    "    plt.plot(Fi[F], Ei[F], label=f'Vi={F}')\n",
    "\n",
    "# Adding title and labels\n",
    "plt.xlabel(\"Chp\")\n",
    "plt.ylabel(\"Defender Utility\")\n",
    "\n",
    "# Adding a legend\n",
    "plt.legend()\n",
    "\n",
    "plt.savefig(\"n19.pdf\", format=\"pdf\", bbox_inches=\"tight\")\n",
    "\n",
    "\n",
    "# Displaying the plot\n",
    "plt.show()\n",
    "\n"
   ]
  },
  {
   "cell_type": "code",
   "execution_count": null,
   "metadata": {
    "colab": {
     "base_uri": "https://localhost:8080/",
     "height": 449
    },
    "id": "goSY1ZP0Ncf6",
    "outputId": "cdd1363e-ec7c-43c0-a295-7fe271ea2dfc"
   },
   "outputs": [],
   "source": [
    "# Generate multiple lines on the same plot\n",
    "for F in F_range:\n",
    "    plt.plot(Fi[F], Ti[F], label=f'Vi={F}')\n",
    "\n",
    "# Adding title and labels\n",
    "plt.xlabel(\"Chp\")\n",
    "plt.ylabel(\"τ\")\n",
    "\n",
    "# Adding a legend\n",
    "plt.legend()\n",
    "\n",
    "plt.savefig(\"n20.pdf\", format=\"pdf\", bbox_inches=\"tight\")"
   ]
  },
  {
   "cell_type": "code",
   "execution_count": null,
   "metadata": {
    "colab": {
     "base_uri": "https://localhost:8080/",
     "height": 465
    },
    "id": "AzzWBF0GN9PC",
    "outputId": "5239a9f3-cba5-41bd-a0e7-717da951f1f4"
   },
   "outputs": [],
   "source": [
    "from collections import defaultdict\n",
    "import matplotlib.pyplot as plt\n",
    "\n",
    "Fi = defaultdict(list)\n",
    "Ei = defaultdict(list)\n",
    "Ri = defaultdict(list)\n",
    "\n",
    "# Attacker utils eval for V and n_ht\n",
    "F_range = generate_log_range(50*1e6,120*1e6,5)\n",
    "R_range = generate_log_range(0.25*1e6,0.80*1e6,10)\n",
    "\n",
    "for F in F_range:\n",
    "    for R in R_range:\n",
    "        p = sample.clone()\n",
    "        p.V_i=F\n",
    "        p.n_ht=R\n",
    "        p=p.clone()\n",
    "        Ri[F].append(p.rho)\n",
    "        e_a_b_1 = t_u_3_1(p)\n",
    "\n",
    "        Fi[F].append(R)\n",
    "        Ei[F].append(e_a_b_1)\n",
    "\n",
    "# Generate multiple lines on the same plot\n",
    "for F in F_range:\n",
    "    plt.plot(Fi[F], Ei[F], label=f'Vi={F}')\n",
    "\n",
    "# Adding title and labels\n",
    "plt.xlabel(\"nht\")\n",
    "plt.ylabel(\"Defender Utility\")\n",
    "\n",
    "# Adding a legend\n",
    "plt.legend()\n",
    "\n",
    "plt.savefig(\"n21.pdf\", format=\"pdf\", bbox_inches=\"tight\")\n",
    "\n",
    "\n",
    "# Displaying the plot\n",
    "plt.show()\n",
    "\n"
   ]
  },
  {
   "cell_type": "code",
   "execution_count": null,
   "metadata": {
    "colab": {
     "base_uri": "https://localhost:8080/",
     "height": 449
    },
    "id": "cwBaFOQgOwsd",
    "outputId": "3d8b3166-44e0-473d-99c6-bf7c3dc95bcd"
   },
   "outputs": [],
   "source": [
    "# Generate multiple lines on the same plot\n",
    "for F in F_range:\n",
    "    plt.plot(Fi[F], Ri[F], label=f'Vi={F}')\n",
    "\n",
    "# Adding title and labels\n",
    "plt.xlabel(\"nht\")\n",
    "plt.ylabel(\"ρ\")\n",
    "\n",
    "# Adding a legend\n",
    "plt.legend()\n",
    "\n",
    "plt.savefig(\"n22.pdf\", format=\"pdf\", bbox_inches=\"tight\")"
   ]
  },
  {
   "cell_type": "code",
   "execution_count": null,
   "metadata": {
    "id": "erVuzSALB73f"
   },
   "outputs": [],
   "source": [
    "sample = Parameters(T=10,B=0.0005,C_D=0.000075,F=26.25, C_x=0.000005, V_i=11.2, V_p=10.93, R_i=2.625, V_i_prime=4.38,\n",
    "                  C_ht=0.03, n_ht=0.67,C_hp=0.75, C_hf=0.1,n_hf=0.3,C_nh=0.2, p_0=0.5, p_1=0.8, p_2=0.11, p_3=0.14,  k=None)\n"
   ]
  },
  {
   "cell_type": "code",
   "execution_count": null,
   "metadata": {
    "colab": {
     "base_uri": "https://localhost:8080/",
     "height": 450
    },
    "id": "n9JH8kcRA-B8",
    "outputId": "a94a633c-e595-4ad1-e1c7-14b8b4101a99"
   },
   "outputs": [],
   "source": [
    "from collections import defaultdict\n",
    "import matplotlib.pyplot as plt\n",
    "\n",
    "Fi = defaultdict(list)\n",
    "Ei = defaultdict(list)\n",
    "\n",
    "\n",
    "# Define realistic ranges for the variable V\n",
    "V_Range = np.arange(1, 12, 1)\n",
    "\n",
    "# Plotting\n",
    "fig, ax = plt.subplots()\n",
    "\n",
    "# Initialize lists to store values for line plotting\n",
    "V_values = []\n",
    "sum1_values = []\n",
    "\n",
    "for V in V_Range:\n",
    "    p=sample.clone()\n",
    "    p.V_i=V\n",
    "    p=p.clone()\n",
    "    e_a_b_1=t_u_3_1(p)\n",
    "    V_values.append(V)\n",
    "    sum1_values.append(e_a_b_1)\n",
    "\n",
    "# Plot the line\n",
    "ax.plot(V_values, sum1_values, color='blue')\n",
    "\n",
    "# Adding title and labels\n",
    "plt.xlabel(\"V_i\")\n",
    "plt.ylabel(\"Attacker Utility\")\n",
    "\n",
    "# Save the plot\n",
    "\n",
    "# Displaying the plot\n",
    "plt.show()\n"
   ]
  },
  {
   "cell_type": "code",
   "execution_count": null,
   "metadata": {
    "id": "3LHk5RzwaMKX"
   },
   "outputs": [],
   "source": [
    "#TSC"
   ]
  },
  {
   "cell_type": "code",
   "execution_count": null,
   "metadata": {
    "colab": {
     "base_uri": "https://localhost:8080/",
     "height": 449
    },
    "id": "cKMpKpDSaU0e",
    "outputId": "b2f22486-458e-4a36-a4d7-f5f7ede2afaf"
   },
   "outputs": [],
   "source": [
    "from collections import defaultdict\n",
    "\n",
    "import numpy as np\n",
    "import matplotlib.pyplot as plt\n",
    "\n",
    "# Fig. 4. The impact of p1 and F on the attacker’s benefit.\n",
    "\n",
    "np.random.seed(42)  # Set seed for reproducibility\n",
    "\n",
    "u = 20000\n",
    "V = 49.3395\n",
    "R = 27.7077\n",
    "\n",
    "A = 0.3205\n",
    "\n",
    "Cd = 5\n",
    "T = 2\n",
    "p0 = 0.2\n",
    "\n",
    "Fi = defaultdict(list)\n",
    "Ei = defaultdict(list)\n",
    "\n",
    "# Define realistic ranges for the variables\n",
    "F_range = [5, 10, 20, 30,40]  # Updated range for B\n",
    "P_range = np.arange(0.2,0.7,0.05)\n",
    "\n",
    "for F in F_range:\n",
    "    for p1 in P_range:\n",
    "        sum1 = (1 - np.exp(-1 * u * A / V)) * (-1 * F * p1) - A\n",
    "        Fi[F].append(p1)\n",
    "        Ei[F].append(sum1 - Cd)\n",
    "\n",
    "# Plotting\n",
    "fig, ax = plt.subplots()\n",
    "\n",
    "for F, values in Ei.items():\n",
    "    ax.plot(Fi[F], values, label=f'F={F}')\n",
    "\n",
    "ax.set_xlabel('p0')\n",
    "ax.set_ylabel('E_A(b=1)')\n",
    "ax.legend()\n",
    "plt.show()\n"
   ]
  },
  {
   "cell_type": "code",
   "execution_count": null,
   "metadata": {
    "colab": {
     "base_uri": "https://localhost:8080/",
     "height": 449
    },
    "id": "Jo_3dcyjaXpQ",
    "outputId": "c2236ac8-63b2-4edf-eee1-7873dbef8652"
   },
   "outputs": [],
   "source": [
    "import numpy as np\n",
    "import matplotlib.pyplot as plt\n",
    "\n",
    "\n",
    "from collections import defaultdict\n",
    "\n",
    "\n",
    "# Fig. 5. The impact of p0 and CD on the attacker’s benefit.\n",
    "\n",
    "np.random.seed(42)  # Set seed for reproducibility\n",
    "\n",
    "u = 2000\n",
    "V = 52.4033\n",
    "R = 55.5352\n",
    "\n",
    "A = 0.3009\n",
    "\n",
    "T = 2\n",
    "p1 = 0.7\n",
    "\n",
    "F=5\n",
    "\n",
    "Fi = defaultdict(list)\n",
    "Ei = defaultdict(list)\n",
    "\n",
    "# Define realistic ranges for the variables\n",
    "F_range = [5, 10, 15, 20,25]  # Updated range for B\n",
    "P_range = np.arange(0.1,0.7,0.1)\n",
    "\n",
    "for Cd in F_range:\n",
    "    for p0 in P_range:\n",
    "        sum1 = (1 - np.exp(-1 * u * A / V)) * (-1 * F * p0 + (1 - p0) * R) - A\n",
    "        Fi[Cd].append(p0)\n",
    "        Ei[Cd].append(sum1 - Cd)\n",
    "\n",
    "# Plotting\n",
    "fig, ax = plt.subplots()\n",
    "\n",
    "for F, values in Ei.items():\n",
    "    ax.plot(Fi[F], values, label=f'CD={F}')\n",
    "\n",
    "ax.set_xlabel('p0')\n",
    "ax.set_ylabel('E_A(b=1)')\n",
    "ax.legend()\n",
    "plt.show()\n",
    "\n"
   ]
  },
  {
   "cell_type": "code",
   "execution_count": null,
   "metadata": {
    "colab": {
     "base_uri": "https://localhost:8080/",
     "height": 450
    },
    "id": "xGB7OqaJaaIV",
    "outputId": "1d3c8449-3e15-45f0-856e-410be0cb34bb"
   },
   "outputs": [],
   "source": [
    "from collections import defaultdict\n",
    "\n",
    "import numpy as np\n",
    "import matplotlib.pyplot as plt\n",
    "\n",
    "# Fig. 6. The impact of R and F on the attacker’s benefit.\n",
    "\n",
    "np.random.seed(42)  # Set seed for reproducibility\n",
    "\n",
    "u = 20000\n",
    "V = 31.1\n",
    "A = 0.005\n",
    "Cd = 1\n",
    "T = 2\n",
    "p0 = 0.3\n",
    "p1 = 0.8\n",
    "\n",
    "\n",
    "\n",
    "Fi = defaultdict(list)\n",
    "Ei = defaultdict(list)\n",
    "\n",
    "# Define realistic ranges for the variables\n",
    "F_range = [5, 10, 15, 20, 25]  # Updated range for B\n",
    "R_range = range(0,50,5) # Updated range for B\n",
    "\n",
    "for F in F_range:\n",
    "    for R in R_range:\n",
    "        if V >= R:\n",
    "            sum1 = (1 - np.exp(-1 * u * A / V)) * (-1 * F * p0 + (1 - p0) * R) - A\n",
    "        elif V < R:\n",
    "            sum1 = (1 - np.exp(-1 * u * A / V)) * (-1 * F * p1) - A\n",
    "\n",
    "        Fi[F].append(R)\n",
    "        Ei[F].append(sum1 - Cd)\n",
    "\n",
    "# Plotting\n",
    "fig, ax = plt.subplots()\n",
    "\n",
    "for F, values in Ei.items():\n",
    "    ax.plot(Fi[F], values, label=f'F={F}')\n",
    "\n",
    "ax.set_xlabel('R_i')\n",
    "ax.set_ylabel('E_A(b=1)')\n",
    "ax.legend()\n",
    "plt.show()\n"
   ]
  },
  {
   "cell_type": "code",
   "execution_count": null,
   "metadata": {
    "colab": {
     "base_uri": "https://localhost:8080/",
     "height": 449
    },
    "id": "fyDAmscSacz0",
    "outputId": "c667c1b8-22ec-429f-d4c6-ad57e585b675"
   },
   "outputs": [],
   "source": [
    "import numpy as np\n",
    "import matplotlib.pyplot as plt\n",
    "from collections import defaultdict\n",
    "\n",
    "\n",
    "#Fig. 7. The impact of A and p0 on the attacker’s benefit.\n",
    "\n",
    "np.random.seed(42)  # Set seed for reproducibility\n",
    "\n",
    "u = 10000\n",
    "V=10.795\n",
    "\n",
    "R = 15.774\n",
    "Cd = 1\n",
    "T = 2\n",
    "p1 = 0.7\n",
    "F=1\n",
    "\n",
    "\n",
    "Fi = defaultdict(list)\n",
    "Ei = defaultdict(list)\n",
    "\n",
    "p_range = [0.1,0.2,0.3,0.4,0.5]\n",
    "A_Range = np.arange(0,0.1,0.01)\n",
    "\n",
    "for p0 in p_range:\n",
    "    for A in A_Range:\n",
    "        sum1 = (1 - np.exp(-1 * u * A / V)) * (-1 * F * p0 + (1 - p0) * R) - A\n",
    "        Fi[p0].append(A)\n",
    "        Ei[p0].append(np.sum(sum1)- Cd)\n",
    "\n",
    "# Plotting\n",
    "fig, ax = plt.subplots()\n",
    "for F, values in Ei.items():\n",
    "    ax.plot(Fi[F], values, label=f'p0={F}')\n",
    "\n",
    "ax.set_xlabel('A')\n",
    "ax.set_ylabel('E_A(b=1)')\n",
    "ax.legend()\n",
    "plt.show()\n",
    "\n"
   ]
  },
  {
   "cell_type": "code",
   "execution_count": null,
   "metadata": {
    "colab": {
     "base_uri": "https://localhost:8080/",
     "height": 449
    },
    "id": "R0x1J0TYafde",
    "outputId": "6cbb5126-9371-4628-dfce-8e1ad014e3ae"
   },
   "outputs": [],
   "source": [
    "import numpy as np\n",
    "import matplotlib.pyplot as plt\n",
    "from collections import defaultdict\n",
    "\n",
    "\n",
    "#Fig. 8. The impact of V and p0 on the attacker’s benefit.\n",
    "\n",
    "np.random.seed(42)  # Set seed for reproducibility\n",
    "\n",
    "u = 200\n",
    "R = 7.5345\n",
    "A = 0.0521\n",
    "Cd = 1\n",
    "T = 2\n",
    "p1 = 0.7\n",
    "F=6\n",
    "\n",
    "\n",
    "\n",
    "Fi = defaultdict(list)\n",
    "Ei = defaultdict(list)\n",
    "\n",
    "p_range = [0.1,0.2,0.3,0.4,0.5]\n",
    "V_range = range(1,60,5)\n",
    "\n",
    "for p0 in p_range:\n",
    "    for V in V_range:\n",
    "        sum1 = (1 - np.exp(-1 * u * A / V)) * (-1 * F * p0 + (1 - p0) * R) - A\n",
    "        Fi[p0].append(V)\n",
    "        Ei[p0].append(np.sum(sum1)- Cd)\n",
    "\n",
    "# Plotting\n",
    "fig, ax = plt.subplots()\n",
    "for F, values in Ei.items():\n",
    "    ax.plot(Fi[F], values, label=f'p0={F}')\n",
    "\n",
    "ax.set_xlabel('V')\n",
    "ax.set_ylabel('E_A(b=1)')\n",
    "ax.legend()\n",
    "plt.show()\n",
    "\n"
   ]
  },
  {
   "cell_type": "code",
   "execution_count": null,
   "metadata": {
    "colab": {
     "base_uri": "https://localhost:8080/",
     "height": 450
    },
    "id": "8W9r4m7Xaifp",
    "outputId": "e4d823a8-1b7e-43dc-f425-dc8078d491ae"
   },
   "outputs": [],
   "source": [
    "import numpy as np\n",
    "import matplotlib.pyplot as plt\n",
    "\n",
    "# Fig. 10. The impact of Ri and D on the ith target’s benefit.\n",
    "\n",
    "np.random.seed(42)  # Set seed for reproducibility\n",
    "\n",
    "u = 20000\n",
    "V = 20.0\n",
    "A = 0.0046\n",
    "\n",
    "\n",
    "Fi = defaultdict(list)\n",
    "Ei = defaultdict(list)\n",
    "\n",
    "# Define realistic ranges for the variables\n",
    "D_range = [1,5, 10, 15, 20]\n",
    "R_range = range(1,30,5)\n",
    "\n",
    "for D in D_range:\n",
    "    for R in R_range:\n",
    "        if(V>=R):\n",
    "          sum1 = V - D - (1 - np.exp(-1 * u * A / V)) * R\n",
    "        else:\n",
    "          sum1 = V - D - (1 - np.exp(-1 * u * A / V)) * V\n",
    "\n",
    "        Fi[D].append(R)\n",
    "        Ei[D].append(sum1)\n",
    "\n",
    "# Plotting\n",
    "fig, ax = plt.subplots()\n",
    "\n",
    "for F, values in Ei.items():\n",
    "    ax.plot(Fi[F], values, label=f'D={F}')\n",
    "\n",
    "ax.set_xlabel('R_i')\n",
    "ax.set_ylabel('E_D(b=1)')\n",
    "ax.legend()\n",
    "plt.show()\n",
    "\n",
    "\n"
   ]
  },
  {
   "cell_type": "code",
   "execution_count": null,
   "metadata": {
    "colab": {
     "base_uri": "https://localhost:8080/",
     "height": 450
    },
    "id": "xG6Tw-XZalXh",
    "outputId": "a940f3e3-bbd5-44f0-fc06-1bf3d57f416a"
   },
   "outputs": [],
   "source": [
    "import numpy as np\n",
    "import matplotlib.pyplot as plt\n",
    "\n",
    "# Fig. 11. The impact of Ai and D on the ith target’s benefit.\n",
    "\n",
    "np.random.seed(42)  # Set seed for reproducibility\n",
    "\n",
    "\n",
    "u = 3\n",
    "# But in paper it is set to 20000\n",
    "\n",
    "R = 31.288\n",
    "V=11.0344\n",
    "\n",
    "Fi = defaultdict(list)\n",
    "Ei = defaultdict(list)\n",
    "\n",
    "D_range = [1,5, 10, 15, 20]  # Updated range for B\n",
    "A_Range = range(0,11,1) # Updated range for B\n",
    "\n",
    "for D in D_range:\n",
    "    for A in A_Range:\n",
    "        sum1 = V - D - (1 - np.exp(-1 * u * A / V)) * R\n",
    "        Fi[D].append(A)\n",
    "        Ei[D].append(sum1)\n",
    "\n",
    "# Plotting\n",
    "fig, ax = plt.subplots()\n",
    "\n",
    "for F, values in Ei.items():\n",
    "    ax.plot(Fi[F], values, label=f'D={F}')\n",
    "\n",
    "ax.set_xlabel('A_i')\n",
    "ax.set_ylabel('E_D(b=1)')\n",
    "ax.legend()\n",
    "plt.show()\n",
    "\n",
    "\n",
    "\n"
   ]
  },
  {
   "cell_type": "code",
   "execution_count": null,
   "metadata": {
    "colab": {
     "base_uri": "https://localhost:8080/",
     "height": 450
    },
    "id": "k8inUbVhanVf",
    "outputId": "02a00df2-8a59-45c7-a690-f5095317dd58"
   },
   "outputs": [],
   "source": [
    "import numpy as np\n",
    "import matplotlib.pyplot as plt\n",
    "\n",
    "# Fig. 12. The impact of Vi and D on the ith target’s benefit.\n",
    "\n",
    "np.random.seed(42)  # Set seed for reproducibility\n",
    "\n",
    "u = 200\n",
    "R = 27.1447\n",
    "A = 0.0052\n",
    "\n",
    "\n",
    "Fi = defaultdict(list)\n",
    "Ei = defaultdict(list)\n",
    "\n",
    "# Define realistic ranges for the variables\n",
    "D_range = [1,5, 10, 15, 20]  # Updated range for B\n",
    "V_Range = range(1,10,1) # Updated range for B\n",
    "\n",
    "for D in D_range:\n",
    "    for V in V_Range:\n",
    "        sum1 = V - D - (1 - np.exp(-1 * u * A / V)) * R\n",
    "        Fi[D].append(V)\n",
    "        Ei[D].append(sum1)\n",
    "\n",
    "# Plotting\n",
    "fig, ax = plt.subplots()\n",
    "\n",
    "for F, values in Ei.items():\n",
    "    ax.plot(Fi[F], values, label=f'D={F}')\n",
    "\n",
    "ax.set_xlabel('V_i')\n",
    "ax.set_ylabel('E_A(b=1)')\n",
    "ax.legend()\n",
    "plt.show()\n",
    "\n",
    "\n",
    "\n"
   ]
  },
  {
   "cell_type": "code",
   "execution_count": 102,
   "metadata": {},
   "outputs": [],
   "source": [
    "sample = Parameters(T=3 * 1e6, \n",
    "                    B= 1,\n",
    "                    C_D = 0.1 * 1e6, \n",
    "                    F= 5.25*1e6, \n",
    "                    C_x=1000,\n",
    "                    V_i=112*1e6, \n",
    "                    V_p=10.93*1e6, \n",
    "                    R_i=2.625*1e6, \n",
    "                    V_i_prime=4.38*1e6,\n",
    "                    C_ht= 0.05, \n",
    "                    n_ht=0.67*1e6, \n",
    "                    C_hp=0.08*1e6, \n",
    "                    C_hf=0.08, \n",
    "                    n_hf=0.5*1e6, \n",
    "                    C_nh=0.08*1e6, \n",
    "                    p_0=0.1, \n",
    "                    p_1=0.15, \n",
    "                    p_2=0.18, \n",
    "                    p_3=0.2, \n",
    "                    k=None)"
   ]
  },
  {
   "cell_type": "code",
   "execution_count": 107,
   "metadata": {},
   "outputs": [
    {
     "data": {
      "image/png": "[encoded data removed]",
      "text/plain": [
       "<Figure size 432x288 with 1 Axes>"
      ]
     },
     "metadata": {
      "needs_background": "light"
     },
     "output_type": "display_data"
    }
   ],
   "source": [
    "from collections import defaultdict\n",
    "import matplotlib.pyplot as plt\n",
    "\n",
    "\n",
    "Fi = defaultdict(list)\n",
    "Ei = defaultdict(list)\n",
    "\n",
    "\n",
    "\n",
    "C_D_range = np.linspace(0.02 * 1e6, 8 * 1e6, 10) \n",
    "\n",
    "\n",
    "R_i_range = np.linspace(5 * 1e6, 15 * 1e6, 5) \n",
    "\n",
    "for C_D in C_D_range:\n",
    "    for R_i in R_i_range:\n",
    "        p = sample.clone()\n",
    "        p.C_D = C_D\n",
    "#         print(p.C_H)\n",
    "        p.F=R_i\n",
    "        e_a_b_1 = t_u_3_1(p)\n",
    "        Fi[R_i].append(C_D)\n",
    "        Ei[R_i].append(e_a_b_1)\n",
    "\n",
    "# Generate multiple lines on the same plot\n",
    "for R_i in R_i_range:\n",
    "    plt.plot(Fi[R_i], Ei[R_i], label=f'F={R_i}')\n",
    "\n",
    "# Adding title and labels\n",
    "plt.xlabel(\"C_D\")\n",
    "plt.ylabel(\"Attacker Utility\")\n",
    "\n",
    "# Adding a legend\n",
    "plt.legend()\n",
    "\n",
    "plt.savefig(\"n1.pdf\", format=\"pdf\", bbox_inches=\"tight\")\n",
    "\n",
    "\n",
    "# Displaying the plot\n",
    "plt.show()\n"
   ]
  },
  {
   "cell_type": "code",
   "execution_count": 113,
   "metadata": {},
   "outputs": [
    {
     "data": {
      "image/png": "[encoded data removed]",
      "text/plain": [
       "<Figure size 432x288 with 1 Axes>"
      ]
     },
     "metadata": {
      "needs_background": "light"
     },
     "output_type": "display_data"
    }
   ],
   "source": [
    "from collections import defaultdict\n",
    "import matplotlib.pyplot as plt\n",
    "\n",
    "\n",
    "Fi = defaultdict(list)\n",
    "Ei = defaultdict(list)\n",
    "\n",
    "\n",
    "\n",
    "C_D_range = np.linspace(0.02 * 1e6, 15 * 1e6, 10) \n",
    "\n",
    "\n",
    "C_hp_range = np.linspace(0.5 * 1e6, 1.2 * 1e6, 3) \n",
    "\n",
    "for C_D in C_D_range:\n",
    "    for R_i in C_hp_range:\n",
    "        p = sample.clone()\n",
    "        p.C_D = C_D\n",
    "#         print(p.C_H)\n",
    "        p.C_nh=R_i\n",
    "        e_a_b_1 = t_u_3_1(p)\n",
    "        Fi[R_i].append(C_D)\n",
    "        Ei[R_i].append(e_a_b_1)\n",
    "\n",
    "# Generate multiple lines on the same plot\n",
    "for R_i in C_hp_range:\n",
    "    plt.plot(Fi[R_i], Ei[R_i], label=f'C_hp={R_i}')\n",
    "\n",
    "# Adding title and labels\n",
    "plt.xlabel(\"C_D\")\n",
    "plt.ylabel(\"Attacker Utility\")\n",
    "\n",
    "# Adding a legend\n",
    "plt.legend()\n",
    "\n",
    "plt.savefig(\"n1.pdf\", format=\"pdf\", bbox_inches=\"tight\")\n",
    "\n",
    "\n",
    "# Displaying the plot\n",
    "plt.show()"
   ]
  },
  {
   "cell_type": "code",
   "execution_count": null,
   "metadata": {},
   "outputs": [],
   "source": []
  },
  {
   "cell_type": "code",
   "execution_count": null,
   "metadata": {},
   "outputs": [],
   "source": []
  }
 ],
 "metadata": {
  "colab": {
   "provenance": []
  },
  "kernelspec": {
   "display_name": "Python 3",
   "language": "python",
   "name": "python3"
  },
  "language_info": {
   "codemirror_mode": {
    "name": "ipython",
    "version": 3
   },
   "file_extension": ".py",
   "mimetype": "text/x-python",
   "name": "python",
   "nbconvert_exporter": "python",
   "pygments_lexer": "ipython3",
   "version": "3.8.5"
  }
 },
 "nbformat": 4,
 "nbformat_minor": 1
}