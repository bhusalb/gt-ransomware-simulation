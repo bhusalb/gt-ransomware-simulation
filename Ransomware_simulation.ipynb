{
  "cells": [
    {
      "cell_type": "code",
      "source": [
        "import numpy as np\n",
        "\n",
        "def generate_log_range(start, end, num_points):\n",
        "    \"\"\"\n",
        "    Generate a logarithmic range between start and end with a specified number of points.\n",
        "\n",
        "    Parameters:\n",
        "    - start: The start value of the range.\n",
        "    - end: The end value of the range.\n",
        "    - num_points: The number of points in the range.\n",
        "\n",
        "    Returns:\n",
        "    - log_range: A numpy array representing the logarithmic range.\n",
        "    \"\"\"\n",
        "    log_range = np.logspace(np.log10(start), np.log10(end), num=num_points)\n",
        "    return log_range\n",
        "\n",
        "\n"
      ],
      "metadata": {
        "id": "2bYxZl5GLMoF"
      },
      "execution_count": 1,
      "outputs": []
    },
    {
      "cell_type": "code",
      "execution_count": 2,
      "metadata": {
        "id": "baa6zkaJtqmZ",
        "pycharm": {
          "is_executing": true
        }
      },
      "outputs": [],
      "source": [
        "import numpy as np\n",
        "import math\n",
        "import copy\n",
        "\n",
        "def calculate_C_H(n_ht, C_ht, C_hp, n_hf, C_hf):\n",
        "  return (n_ht * C_ht) + C_hp + (n_hf * C_hf)\n",
        "\n",
        "\n",
        "def calculate_rho(C_ht, n_ht, C_D):\n",
        "  return 1 - math.exp((-C_ht * n_ht) / C_D)\n",
        "\n",
        "\n",
        "def calculate_gamma(C_hf, n_hf, C_D):\n",
        "  return 1 - math.exp((-C_hf * n_hf) / C_D)\n",
        "\n",
        "def calculate_tau(C_hp, C_D):\n",
        "  return 1 - math.exp((-C_hp) / C_D)\n",
        "\n",
        "def calculate_zeta(C_nh, C_D):\n",
        "  return 1 - math.exp((-C_nh) / C_D)\n",
        "\n",
        "class Parameters:\n",
        "    def __init__(self, B=None, C_ht=None, n_ht=None, C_hp=None, C_hf=None, n_hf=None,\n",
        "                 C_nh=None, C_D=None, C_x=None,\n",
        "                  V_i=None, V_i_prime=None, V_p=None, R_i=None, b_i=None,\n",
        "                 d_i=None, c_i=None, e_i=None, x_i=None, p_0=None, p_1=None, p_2=None,\n",
        "                 p_3=None, T=None, F=None, k=None, h_i=None):\n",
        "        self.B = B\n",
        "        self.C_ht = C_ht\n",
        "        self.n_ht = n_ht\n",
        "        self.C_hp = C_hp\n",
        "        self.C_hf = C_hf\n",
        "        self.n_hf = n_hf\n",
        "        self.C_nh = C_nh\n",
        "        self.C_H = calculate_C_H(n_ht=n_ht, C_ht=C_ht, C_hp=C_hp, n_hf=n_hf, C_hf=C_hf)\n",
        "        self.C_D = C_D\n",
        "        self.C_x = C_x\n",
        "        self.rho = calculate_rho(C_ht, n_ht, C_D)\n",
        "        self.tau = calculate_tau(C_hp, C_D)\n",
        "        self.gamma = calculate_gamma(C_hf, n_hf, C_D)\n",
        "        self.zeta = calculate_zeta(C_nh, C_D)\n",
        "        self.V_i = V_i\n",
        "        self.V_i_prime = V_i_prime\n",
        "        self.V_p = V_p\n",
        "        self.R_i = R_i\n",
        "        self.b_i = b_i\n",
        "        self.d_i = d_i\n",
        "        self.c_i = c_i\n",
        "        self.e_i = e_i\n",
        "        self.x_i = x_i\n",
        "        self.p_0 = p_0\n",
        "        self.p_1 = p_1\n",
        "        self.p_2 = p_2\n",
        "        self.p_3 = p_3\n",
        "        self.T = T\n",
        "        self.F = F\n",
        "        self.k = k\n",
        "        self.h_i = h_i\n",
        "\n",
        "\n",
        "\n",
        "    @staticmethod\n",
        "    def from_dict(sampled_params):\n",
        "        return Parameters(\n",
        "            B=sampled_params['B'],\n",
        "            C_ht=sampled_params['C_ht'],\n",
        "            n_ht=sampled_params['n_ht'],\n",
        "            C_hp=sampled_params['C_hp'],\n",
        "            C_hf=sampled_params['C_hf'],\n",
        "            n_hf=sampled_params['n_hf'],\n",
        "            C_nh=sampled_params['C_nh'],\n",
        "            C_D=sampled_params['C_D'],\n",
        "            C_x=sampled_params['C_x'],\n",
        "            V_i=sampled_params['V_i'],\n",
        "            V_i_prime=sampled_params['V_i_prime'],\n",
        "            V_p=sampled_params['V_p'],\n",
        "            R_i=sampled_params['R_i'],\n",
        "            b_i=sampled_params['b_i'],\n",
        "            d_i=sampled_params['d_i'],\n",
        "            c_i=sampled_params['c_i'],\n",
        "            e_i=sampled_params['e_i'],\n",
        "            x_i=sampled_params['x_i'],\n",
        "            p_0=sampled_params['p_0'],\n",
        "            p_1=sampled_params['p_1'],\n",
        "            p_2=sampled_params['p_2'],\n",
        "            p_3=sampled_params['p_3'],\n",
        "            T=sampled_params['T'],\n",
        "            F=sampled_params['F'],\n",
        "            k=sampled_params['k'],\n",
        "            h_i=sampled_params['h_i']\n",
        "        )\n",
        "\n",
        "    def clone(self):\n",
        "        init_attributes = set(Parameters.__init__.__code__.co_varnames[1:])\n",
        "\n",
        "        cloned_params = self.__dict__.copy()\n",
        "\n",
        "        excluded_attributes = set(['C_H', 'rho', 'tau', 'gamma', 'zeta']) - init_attributes\n",
        "        for attr in excluded_attributes:\n",
        "            cloned_params.pop(attr, None)\n",
        "\n",
        "        return Parameters(**cloned_params)\n",
        "\n",
        "    def check(self, other):\n",
        "        init_attributes = set(Parameters.__init__.__code__.co_varnames[1:])\n",
        "        current_attributes = set(self.__dict__.keys())\n",
        "        other_attributes = set(other.__dict__.keys())\n",
        "\n",
        "        common_attributes = current_attributes.intersection(other_attributes)\n",
        "\n",
        "        for attr in common_attributes:\n",
        "            if getattr(self, attr) != getattr(other, attr):\n",
        "                print(f\"this.{attr}={getattr(self, attr)} and p.{attr}={getattr(other, attr)}\")\n",
        "\n",
        "\n",
        "# U_leaf0\n",
        "def U_leaf0(p: Parameters):\n",
        "\n",
        "\n",
        "\n",
        "    if p.k == 0:\n",
        "        defender_utility = 0\n",
        "    else:\n",
        "        defender_utility = - p.C_H\n",
        "\n",
        "\n",
        "\n",
        "    attacker_utility = p.T - p.C_D - p.F\n",
        "\n",
        "\n",
        "\n",
        "    return defender_utility, attacker_utility\n",
        "\n",
        "\n",
        "\n",
        "# U_leaf1\n",
        "def U_leaf1(p: Parameters):\n",
        "\n",
        "\n",
        "\n",
        "    if p.k == 0:\n",
        "        defender_utility = 0\n",
        "    else:\n",
        "        defender_utility = -p.C_H\n",
        "\n",
        "\n",
        "\n",
        "    attacker_utility = p.T - p.C_D\n",
        "\n",
        "\n",
        "\n",
        "    return defender_utility, attacker_utility\n",
        "\n",
        "\n",
        "\n",
        "# U_leaf2\n",
        "def U_leaf2(p: Parameters):\n",
        "\n",
        "\n",
        "\n",
        "    if p.k == 0:\n",
        "        defender_utility = 0\n",
        "    else:\n",
        "        defender_utility = -p.C_H\n",
        "\n",
        "\n",
        "\n",
        "    attacker_utility = p.T - p.C_D - p.F - p.C_x\n",
        "\n",
        "\n",
        "\n",
        "    return defender_utility, attacker_utility\n",
        "\n",
        "\n",
        "\n",
        "# U_leaf3\n",
        "def U_leaf3(p: Parameters):\n",
        "    if p.k == 0:\n",
        "        defender_utility = 0\n",
        "    else:\n",
        "        defender_utility = - p.C_H\n",
        "\n",
        "\n",
        "\n",
        "    attacker_utility = p.T - p.C_D - p.C_x\n",
        "\n",
        "\n",
        "\n",
        "    return defender_utility, attacker_utility\n",
        "\n",
        "\n",
        "\n",
        "# U_leaf4\n",
        "def U_leaf4(p: Parameters):\n",
        "\n",
        "\n",
        "\n",
        "    if p.k == 0:\n",
        "        defender_utility = - p.V_p\n",
        "    else:\n",
        "        defender_utility = - p.V_p - p.C_H\n",
        "\n",
        "\n",
        "\n",
        "    attacker_utility = p.T - p.C_D +p.V_i_prime - p.F - p.C_x\n",
        "\n",
        "\n",
        "\n",
        "    return defender_utility, attacker_utility\n",
        "\n",
        "\n",
        "\n",
        "# U_leaf5\n",
        "def U_leaf5(p: Parameters):\n",
        "\n",
        "\n",
        "\n",
        "    if p.k == 0:\n",
        "        defender_utility = -p.V_p\n",
        "    else:\n",
        "        defender_utility = -p.V_p - p.C_H\n",
        "\n",
        "\n",
        "\n",
        "    attacker_utility = p.T - p.C_D + p.V_i_prime - p.C_x\n",
        "\n",
        "\n",
        "\n",
        "    return defender_utility, attacker_utility\n",
        "\n",
        "\n",
        "\n",
        "# U_leaf6\n",
        "def U_leaf6(p: Parameters):\n",
        "\n",
        "\n",
        "\n",
        "    if p.k == 0:\n",
        "        defender_utility = p.V_i\n",
        "    else:\n",
        "        defender_utility = p.V_i - p.C_H\n",
        "\n",
        "\n",
        "\n",
        "    attacker_utility = -p.C_D - p.F\n",
        "\n",
        "\n",
        "\n",
        "    return defender_utility, attacker_utility\n",
        "\n",
        "\n",
        "\n",
        "# U_leaf7\n",
        "def U_leaf7(p: Parameters):\n",
        "    if p.k == 0:\n",
        "        defender_utility = p.V_i\n",
        "    else:\n",
        "        defender_utility = p.V_i - p.C_H\n",
        "\n",
        "\n",
        "\n",
        "    attacker_utility = -p.C_D\n",
        "\n",
        "\n",
        "\n",
        "    return defender_utility, attacker_utility\n",
        "\n",
        "\n",
        "\n",
        "# U_leaf8\n",
        "def U_leaf8(p: Parameters):\n",
        "\n",
        "\n",
        "\n",
        "    if p.k == 0:\n",
        "        defender_utility = p.V_i\n",
        "    else:\n",
        "        defender_utility = p.V_i - p.C_H\n",
        "\n",
        "\n",
        "\n",
        "    attacker_utility = -p.C_D - p.F - p.C_x\n",
        "\n",
        "\n",
        "\n",
        "    return defender_utility, attacker_utility\n",
        "\n",
        "\n",
        "\n",
        "# U_leaf9\n",
        "def U_leaf9(p: Parameters):\n",
        "    if p.k == 0:\n",
        "        defender_utility = p.V_i\n",
        "    else:\n",
        "        defender_utility = p.V_i - p.C_H\n",
        "\n",
        "\n",
        "\n",
        "    attacker_utility = -p.C_D - p.C_x\n",
        "\n",
        "\n",
        "\n",
        "    return defender_utility, attacker_utility\n",
        "\n",
        "\n",
        "\n",
        "# U_leaf10\n",
        "def U_leaf10(p: Parameters):\n",
        "    if p.k == 0:\n",
        "        defender_utility = p.V_i - p.V_p\n",
        "    else:\n",
        "        defender_utility = p.V_i - p.V_p - p.C_H\n",
        "\n",
        "\n",
        "\n",
        "    attacker_utility = - p.C_D + p.V_i_prime - p.F - p.C_x\n",
        "\n",
        "\n",
        "\n",
        "    return defender_utility, attacker_utility\n",
        "\n",
        "\n",
        "\n",
        "# U_leaf11\n",
        "def U_leaf11(p: Parameters):\n",
        "    if p.k == 0:\n",
        "        defender_utility = p.V_i - p.V_p\n",
        "    else:\n",
        "        defender_utility = p.V_i - p.V_p - p.C_H\n",
        "\n",
        "\n",
        "\n",
        "    attacker_utility = -p.C_D + p.V_i_prime - p.C_x\n",
        "\n",
        "\n",
        "\n",
        "    return defender_utility, attacker_utility\n",
        "\n",
        "\n",
        "\n",
        "# U_leaf12\n",
        "def U_leaf12(p: Parameters):\n",
        "    if p.k == 0:\n",
        "        defender_utility = - p.R_i\n",
        "    else:\n",
        "        defender_utility = - p.R_i - p.C_H\n",
        "\n",
        "\n",
        "\n",
        "    attacker_utility = p.R_i - p.C_D - p.F\n",
        "\n",
        "\n",
        "\n",
        "    return defender_utility, attacker_utility\n",
        "\n",
        "\n",
        "\n",
        "# U_leaf13\n",
        "def U_leaf13(p: Parameters):\n",
        "\n",
        "\n",
        "\n",
        "    if p.k == 0:\n",
        "        defender_utility = - p.R_i\n",
        "    else:\n",
        "        defender_utility =  - p.R_i - p.C_H\n",
        "\n",
        "\n",
        "\n",
        "    attacker_utility = p.R_i - p.C_D\n",
        "\n",
        "\n",
        "\n",
        "    return defender_utility, attacker_utility\n",
        "\n",
        "\n",
        "\n",
        "# U_leaf14\n",
        "def U_leaf14(p: Parameters):\n",
        "    if p.k == 0:\n",
        "        defender_utility = - p.R_i\n",
        "    else:\n",
        "        defender_utility = - p.R_i - p.C_H\n",
        "\n",
        "\n",
        "\n",
        "    attacker_utility = p.R_i - p.C_D - p.F - p.C_x\n",
        "\n",
        "\n",
        "\n",
        "    return defender_utility, attacker_utility\n",
        "\n",
        "\n",
        "\n",
        "# U_leaf15\n",
        "def U_leaf15(p: Parameters):\n",
        "    if p.k == 0:\n",
        "        defender_utility = - p.R_i\n",
        "    else:\n",
        "        defender_utility = - p.R_i - p.C_H\n",
        "\n",
        "\n",
        "\n",
        "    attacker_utility = p.R_i - p.C_D - p.C_x\n",
        "\n",
        "\n",
        "\n",
        "    return defender_utility, attacker_utility\n",
        "\n",
        "\n",
        "\n",
        "# U_leaf16\n",
        "def U_leaf16(p: Parameters):\n",
        "    if p.k == 0:\n",
        "        defender_utility = - p.R_i - p.V_p\n",
        "    else:\n",
        "        defender_utility = - p.R_i - p.V_p - p.C_H\n",
        "\n",
        "\n",
        "\n",
        "    attacker_utility = p.R_i - p.C_D + p.V_i_prime - p.F - p.C_x\n",
        "\n",
        "\n",
        "\n",
        "    return defender_utility, attacker_utility\n",
        "\n",
        "\n",
        "\n",
        "# U_leaf17\n",
        "def U_leaf17(p: Parameters):\n",
        "    if p.k == 0:\n",
        "        defender_utility = - p.R_i - p.V_p\n",
        "    else:\n",
        "        defender_utility = - p.R_i - p.V_p - p.C_H\n",
        "\n",
        "\n",
        "\n",
        "    attacker_utility = p.R_i - p.C_D + p.V_i_prime - p.C_x\n",
        "\n",
        "\n",
        "\n",
        "    return defender_utility, attacker_utility\n",
        "\n",
        "\n",
        "\n",
        "# U_leaf18\n",
        "def U_leaf18(p: Parameters):\n",
        "    if p.k == 0:\n",
        "        defender_utility = -p.R_i + p.V_i\n",
        "    else:\n",
        "        defender_utility = p.V_i - p.R_i - p.C_H\n",
        "\n",
        "\n",
        "    attacker_utility = p.R_i + p.T - p.C_D - p.F\n",
        "\n",
        "\n",
        "\n",
        "    return defender_utility, attacker_utility\n",
        "\n",
        "\n",
        "\n",
        "# U_leaf19\n",
        "def U_leaf19(p: Parameters):\n",
        "    if p.k == 0:\n",
        "        defender_utility = p.V_i - p.R_i\n",
        "    else:\n",
        "        defender_utility = p.V_i - p.R_i - p.C_H\n",
        "\n",
        "\n",
        "    attacker_utility = p.R_i + p.T - p.C_D\n",
        "\n",
        "\n",
        "    return defender_utility, attacker_utility\n",
        "\n",
        "\n",
        "\n",
        "\n",
        "\n",
        "# U_leaf20\n",
        "def U_leaf20(p: Parameters):\n",
        "    if p.k == 0:\n",
        "        defender_utility = p.V_i - p.R_i\n",
        "    else:\n",
        "        defender_utility = p.V_i - p.R_i - p.C_H\n",
        "\n",
        "\n",
        "\n",
        "    attacker_utility = p.R_i + p.T - p.C_D - p.F - p.C_x\n",
        "\n",
        "\n",
        "\n",
        "    return defender_utility, attacker_utility\n",
        "\n",
        "\n",
        "\n",
        "# U_leaf21\n",
        "def U_leaf21(p: Parameters):\n",
        "    if p.k == 0:\n",
        "        defender_utility = p.V_i - p.R_i\n",
        "    else:\n",
        "        defender_utility = p.V_i - p.R_i - p.C_H\n",
        "\n",
        "    attacker_utility = p.T + p.R_i - p.C_D - p.C_x\n",
        "\n",
        "\n",
        "\n",
        "    return defender_utility, attacker_utility\n",
        "\n",
        "\n",
        "\n",
        "# U_leaf22\n",
        "def U_leaf22(p: Parameters):\n",
        "    if p.k == 0:\n",
        "        defender_utility = p.V_i - p.R_i - p.V_p\n",
        "    else:\n",
        "        defender_utility = p.V_i - p.R_i - p.V_p - p.C_H\n",
        "\n",
        "\n",
        "\n",
        "    attacker_utility = p.R_i + p.T - p.C_D + p.V_i_prime - p.F - p.C_x\n",
        "\n",
        "\n",
        "\n",
        "    return defender_utility, attacker_utility\n",
        "\n",
        "\n",
        "\n",
        "# U_leaf23\n",
        "def U_leaf23(p: Parameters):\n",
        "\n",
        "\n",
        "\n",
        "    if p.k == 0:\n",
        "        defender_utility = p.V_i - p.R_i - p.V_p\n",
        "    else:\n",
        "        defender_utility = p.V_i - p.R_i - p.V_p - p.C_H\n",
        "\n",
        "\n",
        "    attacker_utility = p.R_i + p.T - p.C_D + p.V_i_prime - p.C_x\n",
        "\n",
        "\n",
        "    return defender_utility, attacker_utility"
      ]
    },
    {
      "cell_type": "code",
      "execution_count": 3,
      "metadata": {
        "id": "pyvry4tDTJCh",
        "pycharm": {
          "is_executing": true
        }
      },
      "outputs": [],
      "source": [
        "def t_u_10_k_11(p: Parameters):\n",
        "  return p.p_3 * U_leaf22(p)[1] + (1-p.p_3) * U_leaf23(p)[1]\n",
        "\n",
        "def t_u_10_k_10(p: Parameters):\n",
        "  return p.p_3 * U_leaf20(p)[1] + (1-p.p_3) * U_leaf21(p)[1]\n",
        "\n",
        "def t_u_10_k_9(p: Parameters):\n",
        "  return p.p_2 * U_leaf18(p)[1] + (1-p.p_2) * U_leaf19(p)[1]\n",
        "\n",
        "def t_u_10_k_8(p: Parameters):\n",
        "  return p.p_1 * U_leaf16(p)[1] + (1-p.p_1) * U_leaf17(p)[1]\n",
        "\n",
        "def t_u_10_k_7(p: Parameters):\n",
        "  return p.p_1 * U_leaf14(p)[1] + (1-p.p_1) * U_leaf15(p)[1]\n",
        "\n",
        "def t_u_10_k_6(p: Parameters):\n",
        "  return p.p_0 * U_leaf12(p)[1] + (1-p.p_0) * U_leaf13(p)[1]\n",
        "\n",
        "\n",
        "def t_u_10_k_5(p: Parameters):\n",
        "  return p.p_3 * U_leaf10(p)[1] + (1-p.p_3) * U_leaf11(p)[1]\n",
        "\n",
        "def t_u_10_k_4(p: Parameters):\n",
        "  return p.p_3 * U_leaf8(p)[1] + (1-p.p_3) * U_leaf9(p)[1]\n",
        "\n",
        "def t_u_10_k_3(p: Parameters):\n",
        "  return p.p_2 * U_leaf6(p)[1] + (1-p.p_2) * U_leaf7(p)[1]\n",
        "\n",
        "def t_u_10_k_2(p: Parameters):\n",
        "  return p.p_1 * U_leaf4(p)[1] + (1-p.p_1) * U_leaf5(p)[1]\n",
        "\n",
        "def t_u_10_k_1(p: Parameters):\n",
        "  return p.p_1 * U_leaf2(p)[1] + (1-p.p_1) * U_leaf3(p)[1]\n",
        "\n",
        "def t_u_10_k_0(p: Parameters):\n",
        "  return p.p_0 * U_leaf0(p)[1] + (1-p.p_0) * U_leaf1(p)[1]"
      ]
    },
    {
      "cell_type": "code",
      "execution_count": 4,
      "metadata": {
        "id": "dPz2Bmc6VCNd",
        "pycharm": {
          "is_executing": true
        }
      },
      "outputs": [],
      "source": [
        "def t_u_9_k_7(p: Parameters):\n",
        "  return p.zeta * t_u_10_k_10(p) + (1- p.zeta) * t_u_10_k_11(p)\n",
        "\n",
        "def t_u_9_k_6(p: Parameters):\n",
        "  return 1 * t_u_10_k_9(p)\n",
        "\n",
        "def t_u_9_k_5(p: Parameters):\n",
        "  return p.zeta * t_u_10_k_7(p) + (1 - p.zeta) * t_u_10_k_8(p)\n",
        "\n",
        "def t_u_9_k_4(p: Parameters):\n",
        "  return 1 * t_u_10_k_6(p)\n",
        "\n",
        "def t_u_9_k_3(p: Parameters):\n",
        "  return p.zeta * t_u_10_k_4(p) + (1 - p.zeta) * t_u_10_k_5(p)\n",
        "\n",
        "def t_u_9_k_2(p: Parameters):\n",
        "  return 1 * t_u_10_k_3(p)\n",
        "\n",
        "def t_u_9_k_1(p: Parameters):\n",
        "  return p.zeta * t_u_10_k_1(p) + (1- p.zeta) * t_u_10_k_2(p)\n",
        "\n",
        "def t_u_9_k_0(p: Parameters):\n",
        "  return 1 * t_u_10_k_0(p)"
      ]
    },
    {
      "cell_type": "code",
      "execution_count": 5,
      "metadata": {
        "id": "8bgO5LMIXxJ5",
        "pycharm": {
          "is_executing": true
        }
      },
      "outputs": [],
      "source": [
        "#IV-A\n",
        "\n",
        "def zeta_8_k_2(param:Parameters):\n",
        "    t1 = param.p_0 *U_leaf12(param)[1] +(1-param.p_0)*U_leaf13(param)[1]\n",
        "    t2 = param.p_1 *U_leaf16(param)[1] +(1-param.p_1)*U_leaf17(param)[1]\n",
        "    t3 = param.p_1 *U_leaf14(param)[1] +(1-param.p_1)*U_leaf15(param)[1]\n",
        "    t4 = param.p_1 *U_leaf16(param)[1] +(1-param.p_1)*U_leaf17(param)[1]\n",
        "\n",
        "    return (t1-t2)/(t3-t4)\n",
        "\n",
        "\n",
        "def x_8_k_2(param:Parameters):\n",
        "    return param.zeta >= zeta_8_k_2(param)\n",
        "\n",
        "def zeta_8_k_3(param:Parameters):\n",
        "    t1 = param.p_2 *U_leaf18(param)[1] +(1-param.p_2)*U_leaf19(param)[1]\n",
        "    t2 = param.p_3 *U_leaf22(param)[1] +(1-param.p_3)*U_leaf23(param)[1]\n",
        "    t3 = param.p_3 *U_leaf20(param)[1] +(1-param.p_3)*U_leaf21(param)[1]\n",
        "    t4 = param.p_3 *U_leaf22(param)[1] +(1-param.p_3)*U_leaf23(param)[1]\n",
        "\n",
        "    return (t1-t2)/(t3-t4)\n",
        "\n",
        "def x_8_k_3(param:Parameters):\n",
        "    return param.zeta >= zeta_8_k_3(param)\n",
        "\n",
        "\n",
        "def zeta_8_k_1(param:Parameters):\n",
        "    t1 = param.p_2 *U_leaf6(param)[1] +(1-param.p_2)*U_leaf7(param)[1]\n",
        "    t2 = param.p_3 *U_leaf10(param)[1] +(1-param.p_3)*U_leaf11(param)[1]\n",
        "    t3 = param.p_3 *U_leaf8(param)[1] +(1-param.p_3)*U_leaf9(param)[1]\n",
        "    t4 = param.p_3 *U_leaf10(param)[1] +(1-param.p_3)*U_leaf11(param)[1]\n",
        "\n",
        "    return (t1-t2)/(t3-t4)\n",
        "\n",
        "\n",
        "\n",
        "def x_8_k_1(param:Parameters):\n",
        "    return param.zeta >= zeta_8_k_1(param)\n",
        "\n",
        "\n",
        "def zeta_8_k_0(param:Parameters):\n",
        "    t1 = param.p_0 *U_leaf0(param)[1] +(1-param.p_0)*U_leaf1(param)[1]\n",
        "    t2 = param.p_1 *U_leaf4(param)[1] +(1-param.p_1)*U_leaf5(param)[1]\n",
        "    t3 = param.p_1 *U_leaf2(param)[1] +(1-param.p_1)*U_leaf3(param)[1]\n",
        "    t4 = param.p_1 *U_leaf4(param)[1] +(1-param.p_1)*U_leaf5(param)[1]\n",
        "\n",
        "    return (t1-t2)/(t3-t4)\n",
        "\n",
        "def x_8_k_0(param:Parameters):\n",
        "    return param.zeta >= zeta_8_k_0(param)"
      ]
    },
    {
      "cell_type": "code",
      "execution_count": 6,
      "metadata": {
        "id": "qxTLjWmwYZEw",
        "pycharm": {
          "is_executing": true
        }
      },
      "outputs": [],
      "source": [
        "def t_u_8_k_3(p:Parameters):\n",
        "  return x_8_k_3(p) * t_u_9_k_6(p) + (1-x_8_k_3(p)) * t_u_9_k_7(p)\n",
        "def t_u_8_k_2(p:Parameters):\n",
        "  return x_8_k_2(p) * t_u_9_k_4(p) + (1- x_8_k_2(p)) * t_u_9_k_5(p)\n",
        "def t_u_8_k_1(p:Parameters):\n",
        "  return x_8_k_1(p) * t_u_9_k_2(p) + (1 - x_8_k_1(p)) * t_u_9_k_3(p)\n",
        "def t_u_8_k_0(p:Parameters):\n",
        "  return x_8_k_0(p) * t_u_9_k_0(p) + (1 - x_8_k_0(p)) * t_u_9_k_1(p)\n"
      ]
    },
    {
      "cell_type": "code",
      "execution_count": 7,
      "metadata": {
        "id": "vmlvS-nUa1_V",
        "pycharm": {
          "is_executing": true
        }
      },
      "outputs": [],
      "source": [
        "#preyea\n",
        "\n",
        "#IV-B 1\n",
        "\n",
        "def lambda_7_k_1(param:Parameters):\n",
        "     return x_8_k_3(p)*(t_u_9_k_7(p)-t_u_9_k_6(p)) - x_8_k_2(p)*(t_u_9_k_5(p)-t_u_9_k_4(p)) + t_u_9_k_6(p) - t_u_9_k_4(p)\n",
        "\n",
        "def e_7_k_1(param:Parameters):\n",
        "    return lambda_7_k_1(param)>=0\n",
        "\n",
        "#IV-B 2\n",
        "\n",
        "def lambda_7_k_0(param:Parameters):\n",
        "    return (x_8_k_3(p)*t_u_9_k_3(p)+((1-x_8_k_3(p)*t_u_9_k_2(p)))) - (x_8_k_0(p)*t_u_9_k_1(p)+(1-x_8_k_0(p))*t_u_9_k_0(p))\n",
        "\n",
        "\n",
        "\n",
        "\n",
        "def e_7_k_0(param:Parameters):\n",
        "    return lambda_7_k_0(param)>=0"
      ]
    },
    {
      "cell_type": "markdown",
      "metadata": {
        "id": "st5xjQEBdxO3"
      },
      "source": []
    },
    {
      "cell_type": "code",
      "execution_count": 8,
      "metadata": {
        "id": "0E-wnnOMczT6",
        "pycharm": {
          "is_executing": true
        }
      },
      "outputs": [],
      "source": [
        "def t_u_7_k_1(p:Parameters):\n",
        "  return e_7_k_1(p) * t_u_8_k_2(p) + (1 - e_7_k_1(p)) * t_u_8_k_3(p)\n",
        "def t_u_7_k_0(p:Parameters):\n",
        "  return e_7_k_0(p) * t_u_8_k_0(p) + (1 - e_7_k_0(p)) * t_u_8_k_1(p)"
      ]
    },
    {
      "cell_type": "code",
      "execution_count": 9,
      "metadata": {
        "id": "fZyuVGMPfl4R",
        "pycharm": {
          "is_executing": true
        }
      },
      "outputs": [],
      "source": [
        "def u_10_k_11(p: Parameters):\n",
        "  return p.p_3 * U_leaf22(p)[0] + (1-p.p_3) * U_leaf23(p)[0]\n",
        "\n",
        "def u_10_k_10(p: Parameters):\n",
        "  return p.p_3 * U_leaf20(p)[0] + (1-p.p_3) * U_leaf21(p)[0]\n",
        "\n",
        "def u_10_k_9(p: Parameters):\n",
        "  return p.p_2 * U_leaf18(p)[0] + (1-p.p_2) * U_leaf19(p)[0]\n",
        "\n",
        "def u_10_k_8(p: Parameters):\n",
        "  return p.p_1 * U_leaf16(p)[0] + (1-p.p_1) * U_leaf17(p)[0]\n",
        "\n",
        "def u_10_k_7(p: Parameters):\n",
        "  return p.p_1 * U_leaf14(p)[0] + (1-p.p_1) * U_leaf15(p)[0]\n",
        "\n",
        "def u_10_k_6(p: Parameters):\n",
        "  return p.p_0 * U_leaf12(p)[0] + (1-p.p_0) * U_leaf13(p)[0]\n",
        "\n",
        "\n",
        "def u_10_k_5(p: Parameters):\n",
        "  return p.p_3 * U_leaf10(p)[0] + (1-p.p_3) * U_leaf11(p)[0]\n",
        "\n",
        "def u_10_k_4(p: Parameters):\n",
        "  return p.p_3 * U_leaf8(p)[0] + (1-p.p_3) * U_leaf9(p)[0]\n",
        "\n",
        "def u_10_k_3(p: Parameters):\n",
        "  return p.p_2 * U_leaf6(p)[0] + (1-p.p_2) * U_leaf7(p)[0]\n",
        "\n",
        "def u_10_k_2(p: Parameters):\n",
        "  return p.p_1 * U_leaf4(p)[0] + (1-p.p_1) * U_leaf5(p)[0]\n",
        "\n",
        "def u_10_k_1(p: Parameters):\n",
        "  return p.p_1 * U_leaf2(p)[0] + (1-p.p_1) * U_leaf3(p)[0]\n",
        "\n",
        "def u_10_k_0(p: Parameters):\n",
        "  return p.p_0 * U_leaf0(p)[0] + (1-p.p_0) * U_leaf1(p)[0]"
      ]
    },
    {
      "cell_type": "code",
      "execution_count": 10,
      "metadata": {
        "id": "yjOoj6vAgkT8",
        "pycharm": {
          "is_executing": true
        }
      },
      "outputs": [],
      "source": [
        "def u_9_k_7(p: Parameters):\n",
        "  return p.zeta * u_10_k_10(p) + (1- p.zeta) * u_10_k_11(p)\n",
        "\n",
        "def u_9_k_6(p: Parameters):\n",
        "  return 1 * u_10_k_9(p)\n",
        "\n",
        "def u_9_k_5(p: Parameters):\n",
        "  return p.zeta * u_10_k_7(p) + (1 - p.zeta) * u_10_k_8(p)\n",
        "\n",
        "def u_9_k_4(p: Parameters):\n",
        "  return 1 * u_10_k_6(p)\n",
        "def u_9_k_3(p: Parameters):\n",
        "  return p.zeta * u_10_k_4(p) + (1 - p.zeta) * u_10_k_5(p)\n",
        "\n",
        "def u_9_k_2(p: Parameters):\n",
        "  return 1 * u_10_k_3(p)\n",
        "def u_9_k_1(p: Parameters):\n",
        "  return p.zeta * u_10_k_1(p) + (1- p.zeta) * u_10_k_2(p)\n",
        "def u_9_k_0(p: Parameters):\n",
        "  return 1 * u_10_k_0(p)"
      ]
    },
    {
      "cell_type": "code",
      "execution_count": 11,
      "metadata": {
        "id": "olNvDilihtp7",
        "pycharm": {
          "is_executing": true
        }
      },
      "outputs": [],
      "source": [
        "def u_8_k_3(p:Parameters):\n",
        "  return x_8_k_3(p) * u_9_k_6(p) + (1-x_8_k_3(p)) * u_9_k_7(p)\n",
        "def u_8_k_2(p:Parameters):\n",
        "  return x_8_k_2(p) * u_9_k_4(p) + (1- x_8_k_2(p)) * u_9_k_5(p)\n",
        "def u_8_k_1(p:Parameters):\n",
        "  return x_8_k_1(p) * u_9_k_2(p) + (1 - x_8_k_1(p)) * u_9_k_3(p)\n",
        "def u_8_k_0(p:Parameters):\n",
        "  return x_8_k_0(p) * u_9_k_0(p) + (1 - x_8_k_0(p)) * u_9_k_1(p)\n"
      ]
    },
    {
      "cell_type": "code",
      "execution_count": 12,
      "metadata": {
        "id": "acK87zbmh7_P",
        "pycharm": {
          "is_executing": true
        }
      },
      "outputs": [],
      "source": [
        "def u_7_k_1(p:Parameters):\n",
        "  return e_7_k_1(p) * u_8_k_2(p) + (1 - e_7_k_1(p)) * u_8_k_3(p)\n",
        "def u_7_k_0(p:Parameters):\n",
        "  return e_7_k_0(p) * u_8_k_0(p) + (1 - e_7_k_0(p)) * u_8_k_1(p)"
      ]
    },
    {
      "cell_type": "code",
      "execution_count": 13,
      "metadata": {
        "id": "CkvX0jeieA1Z",
        "pycharm": {
          "is_executing": true
        }
      },
      "outputs": [],
      "source": [
        "#IV-C 1\n",
        "def beta_e_x(param:Parameters):\n",
        "   return e_7_k_1(param)*(x_8_k_3(param)*\n",
        "                          u_9_k_7(param)+(1-x_8_k_3(param))*u_9_k_6(param)) \\\n",
        "                          + (1-e_7_k_1(param))*(x_8_k_2(param)*u_9_k_5(param) \\\n",
        "                          +(1-x_8_k_2(param))*u_9_k_4(param))- e_7_k_0(param)* \\\n",
        "                           (x_8_k_1(param)*u_9_k_3(param)+(1-x_8_k_1(param))*u_9_k_2(param)) \\\n",
        "                           -(1-e_7_k_0(param))*(x_8_k_0(param)*u_9_k_1(param)+(1-x_8_k_0(param))*u_9_k_0(param))\n",
        "\n",
        "\n",
        "def c_6_k(param:Parameters):\n",
        "    return beta_e_x(param)>0"
      ]
    },
    {
      "cell_type": "code",
      "execution_count": 14,
      "metadata": {
        "id": "bWYAAiQDjVgx",
        "pycharm": {
          "is_executing": true
        }
      },
      "outputs": [],
      "source": [
        "def t_u_7_k_0_with_k(p: Parameters, k):\n",
        "  cloned_p = copy.copy(p)\n",
        "  cloned_p.k = k\n",
        "  return t_u_7_k_0(cloned_p)\n",
        "\n",
        "\n",
        "def t_u_7_k_1_with_k(p: Parameters, k):\n",
        "  cloned_p = copy.copy(p)\n",
        "  cloned_p.k = k\n",
        "  return t_u_7_k_1(cloned_p)\n"
      ]
    },
    {
      "cell_type": "code",
      "execution_count": 15,
      "metadata": {
        "id": "mrb9rsUCmbSG",
        "pycharm": {
          "is_executing": true
        }
      },
      "outputs": [],
      "source": [
        "def c_6(p: Parameters, k):\n",
        "  cloned_p = copy.copy(p)\n",
        "  cloned_p.k = k\n",
        "  return c_6_k(cloned_p)\n"
      ]
    },
    {
      "cell_type": "code",
      "execution_count": 16,
      "metadata": {
        "id": "m1U_r-W3iRBS",
        "pycharm": {
          "is_executing": true
        }
      },
      "outputs": [],
      "source": [
        "#IV-D 3\n",
        "\n",
        "\n",
        "def alpha(param: Parameters):\n",
        "    return param.rho * param.tau * (param.gamma * (c_6(param, 1) * t_u_7_k_0_with_k(param, 1) + ((1 - c_6(param, 1)) * t_u_7_k_1_with_k(param, 1)))\\\n",
        "         +(1 - param.gamma) * (c_6(param, 2) * t_u_7_k_0_with_k(param, 2) + ((1 - c_6(param, 2)) * t_u_7_k_1_with_k(param, 2)))) \\\n",
        "         + param.rho * (1 - param.tau) * (param.gamma * (c_6(param, 3) * t_u_7_k_0_with_k(param, 3) + ((1 - c_6(param, 3)) * t_u_7_k_1_with_k(param, 3))) \\\n",
        "         + (1 - param.gamma) * (c_6(param, 4) * t_u_7_k_0_with_k(param, 4) + ((1 - c_6(param, 4)) * t_u_7_k_1_with_k(param, 4)))) \\\n",
        "         + (1 - param.rho) * param.tau * (param.gamma * (c_6(param, 5) * t_u_7_k_0_with_k(param, 5) + ((1 - c_6(param, 5)) * t_u_7_k_1_with_k(param, 5))) \\\n",
        "         + (1 - param.gamma) * (c_6(param, 6) * t_u_7_k_0_with_k(param, 6) + ((1 - c_6(param, 6)) * t_u_7_k_1_with_k(param, 6)))) \\\n",
        "         + (1 - param.rho) * (1 - param.tau) * (param.gamma * (c_6(param, 7) * t_u_7_k_0_with_k(param, 7) + ((1 - c_6(param, 7)) * t_u_7_k_1_with_k(param, 7)))\\\n",
        "         + (1 - param.gamma) * (c_6(param, 8) * t_u_7_k_0_with_k(param, 8) + ((1 - c_6(param, 8)) * t_u_7_k_1_with_k(param, 8))))\n",
        "\n",
        "\n",
        "\n",
        "def d_2_1(param:Parameters):\n",
        "   return alpha(param)>0"
      ]
    },
    {
      "cell_type": "code",
      "execution_count": 17,
      "metadata": {
        "id": "ddqh39pKqIGD",
        "pycharm": {
          "is_executing": true
        }
      },
      "outputs": [],
      "source": [
        "def t_u_6_k(p: Parameters, k):\n",
        "  cloned_p = copy.copy(p)\n",
        "  cloned_p.k = k\n",
        "  return c_6(cloned_p,k) * t_u_7_k_0_with_k(cloned_p, k) + (1-c_6(cloned_p,k)) * t_u_7_k_1_with_k(cloned_p, k)\n"
      ]
    },
    {
      "cell_type": "code",
      "execution_count": 18,
      "metadata": {
        "id": "6gFYytdhrqbe",
        "pycharm": {
          "is_executing": true
        }
      },
      "outputs": [],
      "source": [
        "def u_6_k(p: Parameters, k):\n",
        "  cloned_p = copy.copy(p)\n",
        "  cloned_p.k = k\n",
        "  return c_6(cloned_p, k) * u_7_k_0(cloned_p) + (1-c_6(cloned_p, k)) * u_7_k_1(cloned_p)\n"
      ]
    },
    {
      "cell_type": "code",
      "execution_count": 19,
      "metadata": {
        "id": "PLrIBeXviSFq",
        "pycharm": {
          "is_executing": true
        }
      },
      "outputs": [],
      "source": [
        "#IV-D 4\n",
        "\n",
        "def t_u_6_0(p:Parameters):\n",
        "    return t_u_6_k(p, 0)\n",
        "\n",
        "def d_2_0(param:Parameters):\n",
        "    return t_u_6_0(param) > 0\n"
      ]
    },
    {
      "cell_type": "code",
      "execution_count": 20,
      "metadata": {
        "pycharm": {
          "is_executing": true
        },
        "id": "snCUkBdc6zY4"
      },
      "outputs": [],
      "source": [
        "# IV-D 2\n",
        "def d_2_2(p:Parameters):\n",
        "    return 0\n"
      ]
    },
    {
      "cell_type": "code",
      "execution_count": 21,
      "metadata": {
        "pycharm": {
          "is_executing": true
        },
        "id": "4XianvFM6zY4"
      },
      "outputs": [],
      "source": [
        "# IV-D 1\n",
        "def d_2_3(p:Parameters):\n",
        "    return 0\n"
      ]
    },
    {
      "cell_type": "code",
      "execution_count": 22,
      "metadata": {
        "id": "Jl_P3Rugq-0k",
        "pycharm": {
          "is_executing": true
        }
      },
      "outputs": [],
      "source": [
        "def t_u_3_1(p: Parameters):\n",
        "  return p.rho * (p.tau * (p.gamma * t_u_6_k(p, 1) + (1-p.gamma) * t_u_6_k(p,2) \\\n",
        "                           + (1-p.tau) * (p.gamma * t_u_6_k(p, 3) + (1-p.gamma) * t_u_6_k(p,4))))  \\\n",
        "    +  (1 - p.rho) * (p.tau * (p.gamma * t_u_6_k(p, 5) + (1-p.gamma) * t_u_6_k(p,6) \\\n",
        "                           + (1-p.tau) * (p.gamma * t_u_6_k(p, 7) + (1-p.gamma) * t_u_6_k(p,8))))\n"
      ]
    },
    {
      "cell_type": "code",
      "execution_count": 23,
      "metadata": {
        "id": "-vVKDaeM66Se",
        "pycharm": {
          "is_executing": true
        }
      },
      "outputs": [],
      "source": [
        "def u_3_1(p: Parameters):\n",
        "  return p.rho * (p.tau * (p.gamma * u_6_k(p, 1) + (1-p.gamma) * u_6_k(p,2) \\\n",
        "                           + (1-p.tau) * (p.gamma * u_6_k(p, 3) + (1-p.gamma) * u_6_k(p,4))))  \\\n",
        "                           +  (1 - p.rho) * (p.tau * (p.gamma * u_6_k(p, 5) + (1-p.gamma) * u_6_k(p,6) \\\n",
        "                           + (1-p.tau) * (p.gamma * u_6_k(p, 7) + (1-p.gamma) * u_6_k(p,8))))\n"
      ]
    },
    {
      "cell_type": "code",
      "execution_count": 24,
      "metadata": {
        "pycharm": {
          "is_executing": true
        },
        "id": "rFOzYQYi6zY4"
      },
      "outputs": [],
      "source": [
        "def u_2_0(p: Parameters):\n",
        "    return ((1 - d_2_0(p)) * p.V_i) + (d_2_0(p) * u_6_k(p, 0))"
      ]
    },
    {
      "cell_type": "code",
      "execution_count": 25,
      "metadata": {
        "id": "hw9gVb7duH1X",
        "pycharm": {
          "is_executing": true
        }
      },
      "outputs": [],
      "source": [
        "def u_2_1(p: Parameters):\n",
        "    return  ((1 - d_2_1(p)) * (p.V_i -p.C_H)) + (d_2_1(p) * u_3_1(p))"
      ]
    },
    {
      "cell_type": "code",
      "execution_count": 26,
      "metadata": {
        "pycharm": {
          "is_executing": true
        },
        "id": "6Hu_Sp_e6zY4"
      },
      "outputs": [],
      "source": [
        "def u_2_2(p: Parameters):\n",
        "    return ((1 - d_2_2(p)) * (p.V_i -p.B)) + (d_2_2(p) * (p.V_i -p.B))"
      ]
    },
    {
      "cell_type": "code",
      "execution_count": 27,
      "metadata": {
        "pycharm": {
          "is_executing": true
        },
        "id": "o5opzKlg6zY5"
      },
      "outputs": [],
      "source": [
        "def u_2_3(p: Parameters):\n",
        "    return ((1 - d_2_3(p)) * (p.V_i -p.B - p.C_H)) + (d_2_3(p) * (p.V_i -p.B- p.C_H))"
      ]
    },
    {
      "cell_type": "code",
      "execution_count": 28,
      "metadata": {
        "id": "CpSRwowFuSRe",
        "pycharm": {
          "is_executing": true
        }
      },
      "outputs": [],
      "source": [
        "p = Parameters(B=100, C_ht=10, n_ht=5, C_hp=10, C_hf=10, n_hf=5,\n",
        "                        C_nh=10,  C_D=50, C_x=5,\n",
        "                        V_i=50, V_i_prime=60, V_p=70, R_i=80, b_i=5,\n",
        "                        d_i=5, c_i=5, e_i=5, x_i=5, p_0=0.1, p_1=0.2, p_2=0.3, p_3=0.4,\n",
        "                        T=10, F=5, k=0)"
      ]
    },
    {
      "cell_type": "code",
      "execution_count": 29,
      "metadata": {
        "colab": {
          "base_uri": "https://localhost:8080/"
        },
        "id": "4ErFcKnpqRjN",
        "outputId": "217d9dc5-daab-4589-b666-b88186c49ec6",
        "pycharm": {
          "is_executing": true
        }
      },
      "outputs": [
        {
          "output_type": "execute_result",
          "data": {
            "text/plain": [
              "-81.53352944210543"
            ]
          },
          "metadata": {},
          "execution_count": 29
        }
      ],
      "source": [
        "u_3_1(p)"
      ]
    },
    {
      "cell_type": "code",
      "execution_count": 30,
      "metadata": {
        "colab": {
          "base_uri": "https://localhost:8080/"
        },
        "id": "guh7rWNBq5rC",
        "outputId": "e6135734-d209-47d0-eb08-64c417710b33",
        "pycharm": {
          "is_executing": true
        }
      },
      "outputs": [
        {
          "output_type": "execute_result",
          "data": {
            "text/plain": [
              "{'B': 100,\n",
              " 'C_ht': 10,\n",
              " 'n_ht': 5,\n",
              " 'C_hp': 10,\n",
              " 'C_hf': 10,\n",
              " 'n_hf': 5,\n",
              " 'C_nh': 10,\n",
              " 'C_H': 110,\n",
              " 'C_D': 50,\n",
              " 'C_x': 5,\n",
              " 'rho': 0.6321205588285577,\n",
              " 'tau': 0.18126924692201818,\n",
              " 'gamma': 0.6321205588285577,\n",
              " 'zeta': 0.18126924692201818,\n",
              " 'V_i': 50,\n",
              " 'V_i_prime': 60,\n",
              " 'V_p': 70,\n",
              " 'R_i': 80,\n",
              " 'b_i': 5,\n",
              " 'd_i': 5,\n",
              " 'c_i': 5,\n",
              " 'e_i': 5,\n",
              " 'x_i': 5,\n",
              " 'p_0': 0.1,\n",
              " 'p_1': 0.2,\n",
              " 'p_2': 0.3,\n",
              " 'p_3': 0.4,\n",
              " 'T': 10,\n",
              " 'F': 5,\n",
              " 'k': 0,\n",
              " 'h_i': None}"
            ]
          },
          "metadata": {},
          "execution_count": 30
        }
      ],
      "source": [
        "vars(p)"
      ]
    },
    {
      "cell_type": "code",
      "execution_count": null,
      "metadata": {
        "pycharm": {
          "is_executing": true
        },
        "id": "snJhASdx6zY5",
        "outputId": "c3e58fbb-d4c5-4033-f997-52071e16eeda",
        "colab": {
          "base_uri": "https://localhost:8080/"
        }
      },
      "outputs": [
        {
          "output_type": "stream",
          "name": "stdout",
          "text": [
            "Requirement already satisfied: seaborn in /usr/local/lib/python3.10/dist-packages (0.12.2)\n",
            "Requirement already satisfied: numpy!=1.24.0,>=1.17 in /usr/local/lib/python3.10/dist-packages (from seaborn) (1.23.5)\n",
            "Requirement already satisfied: pandas>=0.25 in /usr/local/lib/python3.10/dist-packages (from seaborn) (1.5.3)\n",
            "Requirement already satisfied: matplotlib!=3.6.1,>=3.1 in /usr/local/lib/python3.10/dist-packages (from seaborn) (3.7.1)\n",
            "Requirement already satisfied: contourpy>=1.0.1 in /usr/local/lib/python3.10/dist-packages (from matplotlib!=3.6.1,>=3.1->seaborn) (1.2.0)\n",
            "Requirement already satisfied: cycler>=0.10 in /usr/local/lib/python3.10/dist-packages (from matplotlib!=3.6.1,>=3.1->seaborn) (0.12.1)\n",
            "Requirement already satisfied: fonttools>=4.22.0 in /usr/local/lib/python3.10/dist-packages (from matplotlib!=3.6.1,>=3.1->seaborn) (4.47.0)\n",
            "Requirement already satisfied: kiwisolver>=1.0.1 in /usr/local/lib/python3.10/dist-packages (from matplotlib!=3.6.1,>=3.1->seaborn) (1.4.5)\n",
            "Requirement already satisfied: packaging>=20.0 in /usr/local/lib/python3.10/dist-packages (from matplotlib!=3.6.1,>=3.1->seaborn) (23.2)\n",
            "Requirement already satisfied: pillow>=6.2.0 in /usr/local/lib/python3.10/dist-packages (from matplotlib!=3.6.1,>=3.1->seaborn) (9.4.0)\n",
            "Requirement already satisfied: pyparsing>=2.3.1 in /usr/local/lib/python3.10/dist-packages (from matplotlib!=3.6.1,>=3.1->seaborn) (3.1.1)\n",
            "Requirement already satisfied: python-dateutil>=2.7 in /usr/local/lib/python3.10/dist-packages (from matplotlib!=3.6.1,>=3.1->seaborn) (2.8.2)\n",
            "Requirement already satisfied: pytz>=2020.1 in /usr/local/lib/python3.10/dist-packages (from pandas>=0.25->seaborn) (2023.3.post1)\n",
            "Requirement already satisfied: six>=1.5 in /usr/local/lib/python3.10/dist-packages (from python-dateutil>=2.7->matplotlib!=3.6.1,>=3.1->seaborn) (1.16.0)\n"
          ]
        }
      ],
      "source": [
        "!pip3 install seaborn"
      ]
    },
    {
      "cell_type": "code",
      "execution_count": null,
      "metadata": {
        "id": "iWzE5rLI9RPc",
        "pycharm": {
          "is_executing": true
        }
      },
      "outputs": [],
      "source": []
    },
    {
      "cell_type": "markdown",
      "metadata": {
        "id": "x6FL7SqdZa4Z"
      },
      "source": []
    },
    {
      "cell_type": "code",
      "source": [],
      "metadata": {
        "id": "3rVuDWfWZm28"
      },
      "execution_count": null,
      "outputs": []
    },
    {
      "cell_type": "code",
      "execution_count": null,
      "metadata": {
        "pycharm": {
          "is_executing": true
        },
        "id": "oy0gobqs6zZF"
      },
      "outputs": [],
      "source": [
        "%pip install cvxpy\n",
        "%pip install gurobipy"
      ]
    },
    {
      "cell_type": "code",
      "source": [
        "n_ht=97"
      ],
      "metadata": {
        "id": "wcp7T_UEPqgU"
      },
      "execution_count": null,
      "outputs": []
    },
    {
      "cell_type": "code",
      "execution_count": null,
      "metadata": {
        "pycharm": {
          "is_executing": true
        },
        "id": "2iOFhPea6zZF"
      },
      "outputs": [],
      "source": [
        "import gurobipy as gp\n",
        "from gurobipy import GRB"
      ]
    },
    {
      "cell_type": "code",
      "execution_count": null,
      "metadata": {
        "pycharm": {
          "is_executing": true
        },
        "id": "ISw3FBmy6zZF"
      },
      "outputs": [],
      "source": [
        "m = gp.Model()"
      ]
    },
    {
      "cell_type": "code",
      "execution_count": null,
      "metadata": {
        "pycharm": {
          "is_executing": true
        },
        "id": "qBOCRYZu6zZF"
      },
      "outputs": [],
      "source": [
        "systems = []"
      ]
    },
    {
      "cell_type": "code",
      "execution_count": null,
      "metadata": {
        "pycharm": {
          "is_executing": true
        },
        "id": "cpuCV93S6zZF"
      },
      "outputs": [],
      "source": [
        "systems.append(Parameters(B=100, C_ht=1, n_ht=10, C_hp=20, C_hf=5, n_hf=n_ht,\n",
        "                        C_nh=50,  C_D=20, C_x=5,\n",
        "                        V_i=50, V_i_prime=60, V_p=40, R_i=30, b_i=None,\n",
        "                        d_i=5, c_i=5, e_i=5, x_i=5, p_0=0.1, p_1=0.2, p_2=0.3, p_3=0.4,\n",
        "                        T=10, F=500, k=0, h_i=None))"
      ]
    },
    {
      "cell_type": "code",
      "execution_count": null,
      "metadata": {
        "pycharm": {
          "is_executing": true
        },
        "id": "yxsgHqiv6zZF"
      },
      "outputs": [],
      "source": [
        "systems.append(Parameters(B=100000, C_ht=10, n_ht=100, C_hp=20, C_hf=5, n_hf=n_ht,\n",
        "                        C_nh=50,  C_D=20, C_x=5,\n",
        "                        V_i=50, V_i_prime=60, V_p=40, R_i=440, b_i=None,\n",
        "                        d_i=5, c_i=5, e_i=5, x_i=5, p_0=0.1, p_1=0.2, p_2=0.3, p_3=0.4,\n",
        "                        T=10, F=500, k=0, h_i=None))"
      ]
    },
    {
      "cell_type": "code",
      "execution_count": null,
      "metadata": {
        "id": "ofltmXP26zZF"
      },
      "outputs": [],
      "source": [
        "systems.append(Parameters(B=100000, C_ht=10, n_ht=100, C_hp=20, C_hf=5, n_hf=n_ht,\n",
        "                        C_nh=50,  C_D=20, C_x=100,\n",
        "                        V_i=50, V_i_prime=60, V_p=400, R_i=6000, b_i=None,\n",
        "                        d_i=5, c_i=5, e_i=10, x_i=105, p_0=0.1, p_1=0.2, p_2=0.3, p_3=0.4,\n",
        "                        T=10, F=500, k=0, h_i=None))"
      ]
    },
    {
      "cell_type": "code",
      "execution_count": null,
      "metadata": {
        "id": "-fmd2pLp6zZF"
      },
      "outputs": [],
      "source": [
        "for index, system in enumerate(systems):\n",
        "    system.h_i = m.addVar(vtype=GRB.BINARY, name=f\"h_{index}\")\n",
        "    system.b_i =  m.addVar(vtype=GRB.BINARY, name=f\"b_{index}\")"
      ]
    },
    {
      "cell_type": "code",
      "execution_count": null,
      "metadata": {
        "id": "w4TLgznG6zZF"
      },
      "outputs": [],
      "source": [
        "def get_expression_for_single_system(s):\n",
        "    return ((1 - s.b_i) * (1 - s.h_i) * u_2_0(s)) \\\n",
        "            + ((1 - s.b_i) * (s.h_i) * u_2_1(s)) \\\n",
        "            + ((s.b_i) * (1 - s.h_i) * u_2_2(s)) \\\n",
        "            + ((s.b_i) * (s.h_i) * u_2_3(s))"
      ]
    },
    {
      "cell_type": "code",
      "execution_count": null,
      "metadata": {
        "id": "vQ0jzDJp6zZF"
      },
      "outputs": [],
      "source": [
        "optimization_expr = sum([get_expression_for_single_system(system) for system in systems])"
      ]
    },
    {
      "cell_type": "code",
      "execution_count": null,
      "metadata": {
        "id": "qOrc2O2N6zZF"
      },
      "outputs": [],
      "source": [
        "m.setObjective(optimization_expr, GRB.MINIMIZE)\n"
      ]
    },
    {
      "cell_type": "code",
      "execution_count": null,
      "metadata": {
        "id": "Vmqv9rU86zZF"
      },
      "outputs": [],
      "source": [
        "m.optimize()"
      ]
    },
    {
      "cell_type": "code",
      "execution_count": null,
      "metadata": {
        "id": "mB-InfZf6zZF"
      },
      "outputs": [],
      "source": [
        "all_vars = m.getVars()\n",
        "values = m.getAttr(\"X\", all_vars)\n",
        "names = m.getAttr(\"VarName\", all_vars)\n",
        "\n",
        "for name, val in zip(names, values):\n",
        "    print(f\"{name} = {val}\")"
      ]
    },
    {
      "cell_type": "code",
      "source": [
        "# sample = Parameters(B=300, C_ht=30, n_ht=5, C_hp=40, C_hf=35, n_hf=3,\n",
        "#                     C_nh=45, C_D=60, C_x=70,\n",
        "#                     V_i=800, V_i_prime=600, V_p=200, R_i=120, b_i=0,\n",
        "#                     d_i=1, c_i=0, e_i=0, x_i=0, p_0=0.8, p_1=0.7, p_2=0.6, p_3=0.5,\n",
        "#                     T=10, F=10000, k=None)\n",
        "\n",
        "# sample = Parameters(B=300, C_ht=30, n_ht=5, C_hp=40, C_hf=35, n_hf=3,\n",
        "#                     C_nh=45, C_D=60, C_x=70,\n",
        "#                     V_i=800, V_i_prime=600, V_p=200, R_i=120,\n",
        "#                      p_0=0.8, p_1=0.7, p_2=0.6, p_3=0.5,\n",
        "#                     T=10, F=10000, k=None)\n",
        "\n",
        "sample = Parameters(B=300, C_ht=30, n_ht=20000, C_hp=40, C_hf=35, n_hf=2000,\n",
        "                    C_nh=45, C_D=60, C_x=70,\n",
        "                    V_i=800, V_i_prime=600, V_p=200, R_i=120,\n",
        "                     p_0=0.8, p_1=0.7, p_2=0.6, p_3=0.5,\n",
        "                    T=10, F=10000, k=None)\n",
        "\n",
        "\n",
        "\n",
        "# Check if the cloned instance has the same attribute values as the original instance\n",
        "\n"
      ],
      "metadata": {
        "id": "Spe4sUtTR72d"
      },
      "execution_count": null,
      "outputs": []
    },
    {
      "cell_type": "code",
      "source": [
        "from collections import defaultdict\n",
        "import matplotlib.pyplot as plt\n",
        "\n",
        "\n",
        "Fi = defaultdict(list)\n",
        "Ei = defaultdict(list)\n",
        "\n",
        "# Attacker utils eval for F and p1\n",
        "\n",
        "F_range = range(10000, 15000, 1000)\n",
        "p1_range = np.arange(0.2,0.7,0.05)\n",
        "\n",
        "\n",
        "for F in F_range:\n",
        "    for p1 in p1_range:\n",
        "        p = sample.clone()\n",
        "        p.F=F\n",
        "        p.p_1=p1\n",
        "\n",
        "        e_a_b_1 = t_u_3_1(p)\n",
        "\n",
        "        Fi[F].append(p1)\n",
        "        Ei[F].append(e_a_b_1)\n",
        "\n",
        "# Generate multiple lines on the same plot\n",
        "for F in F_range:\n",
        "    plt.plot(Fi[F], Ei[F], label=f'F={F}')\n",
        "\n",
        "# Adding title and labels\n",
        "plt.xlabel(\"p1\")\n",
        "plt.ylabel(\"Attacker Utility\")\n",
        "\n",
        "# Adding a legend\n",
        "plt.legend()\n",
        "\n",
        "plt.savefig(\"n1.pdf\", format=\"pdf\", bbox_inches=\"tight\")\n",
        "\n",
        "\n",
        "# Displaying the plot\n",
        "plt.show()\n",
        "\n"
      ],
      "metadata": {
        "id": "z1nJqP57WveM"
      },
      "execution_count": null,
      "outputs": []
    },
    {
      "cell_type": "code",
      "source": [
        "from collections import defaultdict\n",
        "import matplotlib.pyplot as plt\n",
        "\n",
        "Fi = defaultdict(list)\n",
        "Ei = defaultdict(list)\n",
        "\n",
        "# Attacker utils eval for F and p0\n",
        "F_range = range(25, 150, 25)\n",
        "p1_range = generate_log_range(0.55,0.6,10)\n",
        "\n",
        "for F in F_range:\n",
        "    for p1 in p1_range:\n",
        "        p = sample.clone()\n",
        "        p.C_D=F\n",
        "        p.p_0=p1\n",
        "        e_a_b_1 = t_u_3_1(p)\n",
        "\n",
        "        Fi[F].append(p1)\n",
        "        Ei[F].append(e_a_b_1)\n",
        "\n",
        "# Generate multiple lines on the same plot\n",
        "for F in F_range:\n",
        "    plt.plot(Fi[F], Ei[F], label=f'CD={F}')\n",
        "\n",
        "# Adding title and labels\n",
        "plt.xlabel(\"p0\")\n",
        "plt.ylabel(\"Attacker Utility\")\n",
        "\n",
        "# Adding a legend\n",
        "plt.legend()\n",
        "\n",
        "plt.savefig(\"n2.pdf\", format=\"pdf\", bbox_inches=\"tight\")\n",
        "\n",
        "\n",
        "# Displaying the plot\n",
        "plt.show()\n",
        "\n"
      ],
      "metadata": {
        "id": "j4XEuHDar4R8"
      },
      "execution_count": null,
      "outputs": []
    },
    {
      "cell_type": "code",
      "source": [
        "from collections import defaultdict\n",
        "import matplotlib.pyplot as plt\n",
        "\n",
        "Fi = defaultdict(list)\n",
        "Ei = defaultdict(list)\n",
        "\n",
        "# Attacker utils eval for CD and R\n",
        "F_range = range(50, 300, 50)\n",
        "R_range = range(100,900,100)\n",
        "\n",
        "for F in F_range:\n",
        "    for R in R_range:\n",
        "        p = sample.clone()\n",
        "        p.C_D=F\n",
        "        p.R_i=R\n",
        "        e_a_b_1 = t_u_3_1(p)\n",
        "\n",
        "        Fi[F].append(R)\n",
        "        Ei[F].append(e_a_b_1)\n",
        "\n",
        "# Generate multiple lines on the same plot\n",
        "for F in F_range:\n",
        "    plt.plot(Fi[F], Ei[F], label=f'CD={F}')\n",
        "\n",
        "# Adding title and labels\n",
        "plt.xlabel(\"Ri\")\n",
        "plt.ylabel(\"Attacker Utility\")\n",
        "\n",
        "# Adding a legend\n",
        "plt.legend()\n",
        "\n",
        "plt.savefig(\"n3.pdf\", format=\"pdf\", bbox_inches=\"tight\")\n",
        "\n",
        "\n",
        "# Displaying the plot\n",
        "plt.show()\n",
        "\n"
      ],
      "metadata": {
        "id": "NegR75SHgYbv"
      },
      "execution_count": null,
      "outputs": []
    },
    {
      "cell_type": "code",
      "source": [
        "from collections import defaultdict\n",
        "import matplotlib.pyplot as plt\n",
        "\n",
        "Fi = defaultdict(list)\n",
        "Ei = defaultdict(list)\n",
        "Zi=defaultdict(list)\n",
        "# Attacker utils eval for F and Cnh\n",
        "F_range = range(20,120,20)\n",
        "R_range = range(0,200,20)\n",
        "\n",
        "for F in F_range:\n",
        "    for R in R_range:\n",
        "        p = sample.clone()\n",
        "\n",
        "        p.C_D=F\n",
        "        p.C_nh=R\n",
        "        p=p.clone()\n",
        "\n",
        "        Zi[F].append(p.zeta)\n",
        "        e_a_b_1 = t_u_3_1(p)\n",
        "        Fi[F].append(R)\n",
        "        Ei[F].append(e_a_b_1)\n",
        "\n",
        "# Generate multiple lines on the same plot\n",
        "for F in F_range:\n",
        "    plt.plot(Fi[F], Ei[F], label=f'CD={F}')\n",
        "\n",
        "\n",
        "\n",
        "# Adding title and labels\n",
        "plt.xlabel(\"Cnh\")\n",
        "plt.ylabel(\"Attacker Utility\")\n",
        "\n",
        "# Adding a legend\n",
        "plt.legend()\n",
        "\n",
        "plt.savefig(\"n4.pdf\", format=\"pdf\", bbox_inches=\"tight\")\n",
        "\n",
        "\n",
        "\n",
        "\n",
        "\n"
      ],
      "metadata": {
        "id": "I9CUV5ThJpmv"
      },
      "execution_count": null,
      "outputs": []
    },
    {
      "cell_type": "code",
      "source": [
        "# Generate multiple lines on the same plot\n",
        "for F in F_range:\n",
        "    plt.plot(Fi[F], Zi[F], label=f'CD={F}')\n",
        "\n",
        "# Adding title and labels\n",
        "plt.xlabel(\"Cnh\")\n",
        "plt.ylabel(\"ζ\")\n",
        "\n",
        "# Adding a legend\n",
        "plt.legend()\n",
        "\n",
        "plt.savefig(\"n5.pdf\", format=\"pdf\", bbox_inches=\"tight\")"
      ],
      "metadata": {
        "id": "QfXfbEs5Tw27"
      },
      "execution_count": null,
      "outputs": []
    },
    {
      "cell_type": "code",
      "source": [
        "from collections import defaultdict\n",
        "import matplotlib.pyplot as plt\n",
        "\n",
        "Fi = defaultdict(list)\n",
        "Ei = defaultdict(list)\n",
        "Gi=defaultdict(list)\n",
        "\n",
        "# Attacker utils eval for F and Chf\n",
        "# F_range = range(20,120,20)\n",
        "F_range = range(20,120,20)\n",
        "\n",
        "R_range = range(0,1000,100)\n",
        "\n",
        "for F in F_range:\n",
        "    for R in R_range:\n",
        "        p = sample.clone()\n",
        "        p.C_D=F\n",
        "        p.n_hf=R\n",
        "\n",
        "        p=p.clone()\n",
        "\n",
        "        Gi[F].append(p.gamma)\n",
        "        e_a_b_1 = t_u_3_1(p)\n",
        "        Fi[F].append(R)\n",
        "        Ei[F].append(e_a_b_1)\n",
        "\n",
        "# Generate multiple lines on the same plot\n",
        "for F in F_range:\n",
        "    plt.plot(Fi[F], Ei[F], label=f'CD={F}')\n",
        "\n",
        "# Adding title and labels\n",
        "plt.xlabel(\"nhf\")\n",
        "plt.ylabel(\"Attacker Utility\")\n",
        "\n",
        "# Adding a legend\n",
        "plt.legend()\n",
        "\n",
        "plt.savefig(\"n6.pdf\", format=\"pdf\", bbox_inches=\"tight\")\n",
        "\n",
        "\n",
        "# Displaying the plot\n",
        "plt.show()\n",
        "\n"
      ],
      "metadata": {
        "id": "8-sbfuaNyZ5o"
      },
      "execution_count": null,
      "outputs": []
    },
    {
      "cell_type": "code",
      "source": [
        "# Generate multiple lines on the same plot\n",
        "for F in F_range:\n",
        "    plt.plot(Fi[F], Gi[F], label=f'CD={F}')\n",
        "\n",
        "# Adding title and labels\n",
        "plt.xlabel(\"nhf\")\n",
        "plt.ylabel(\"γ\")\n",
        "\n",
        "# Adding a legend\n",
        "plt.legend()\n",
        "\n",
        "plt.savefig(\"n7.pdf\", format=\"pdf\", bbox_inches=\"tight\")"
      ],
      "metadata": {
        "id": "rmfMXoQlvRYy"
      },
      "execution_count": null,
      "outputs": []
    },
    {
      "cell_type": "code",
      "source": [
        "from collections import defaultdict\n",
        "import matplotlib.pyplot as plt\n",
        "\n",
        "Fi = defaultdict(list)\n",
        "Ei = defaultdict(list)\n",
        "Ti = defaultdict(list)\n",
        "\n",
        "# Attacker utils eval for F and Chp\n",
        "F_range = range(20,120,20)\n",
        "R_range = range(0,100,10)\n",
        "\n",
        "for F in F_range:\n",
        "    for R in R_range:\n",
        "        p = sample.clone()\n",
        "        p.C_D=F\n",
        "        p.C_hp=R\n",
        "        p=p.clone()\n",
        "        Ti[F].append(p.tau)\n",
        "        e_a_b_1 = t_u_3_1(p)\n",
        "\n",
        "        Fi[F].append(R)\n",
        "        Ei[F].append(e_a_b_1)\n",
        "\n",
        "# Generate multiple lines on the same plot\n",
        "for F in F_range:\n",
        "    plt.plot(Fi[F], Ei[F], label=f'CD={F}')\n",
        "\n",
        "# Adding title and labels\n",
        "plt.xlabel(\"Chp\")\n",
        "plt.ylabel(\"Attacker Utility\")\n",
        "\n",
        "# Adding a legend\n",
        "plt.legend()\n",
        "\n",
        "plt.savefig(\"n8.pdf\", format=\"pdf\", bbox_inches=\"tight\")\n",
        "\n",
        "\n",
        "# Displaying the plot\n",
        "plt.show()\n",
        "\n"
      ],
      "metadata": {
        "id": "aQsgVk4kyv6k"
      },
      "execution_count": null,
      "outputs": []
    },
    {
      "cell_type": "code",
      "source": [
        "# Generate multiple lines on the same plot\n",
        "for F in F_range:\n",
        "    plt.plot(Fi[F], Ti[F], label=f'CD={F}')\n",
        "\n",
        "# Adding title and labels\n",
        "plt.xlabel(\"Chp\")\n",
        "plt.ylabel(\"τ\")\n",
        "\n",
        "# Adding a legend\n",
        "plt.legend()\n",
        "\n",
        "plt.savefig(\"n9.pdf\", format=\"pdf\", bbox_inches=\"tight\")"
      ],
      "metadata": {
        "id": "FGfxRKN5cfGi"
      },
      "execution_count": null,
      "outputs": []
    },
    {
      "cell_type": "code",
      "source": [
        "from collections import defaultdict\n",
        "import matplotlib.pyplot as plt\n",
        "\n",
        "Fi = defaultdict(list)\n",
        "Ei = defaultdict(list)\n",
        "Ri = defaultdict(list)\n",
        "\n",
        "# Attacker utils eval for F and Cht\n",
        "F_range = range(20,120,20)\n",
        "R_range = range(0,2000,200)\n",
        "\n",
        "for F in F_range:\n",
        "    for R in R_range:\n",
        "        p = sample.clone()\n",
        "        p.C_D=F\n",
        "        p.n_ht=R\n",
        "        p=p.clone()\n",
        "        Ri[F].append(p.rho)\n",
        "        e_a_b_1 = t_u_3_1(p)\n",
        "\n",
        "        Fi[F].append(R)\n",
        "        Ei[F].append(e_a_b_1)\n",
        "\n",
        "# Generate multiple lines on the same plot\n",
        "for F in F_range:\n",
        "    plt.plot(Fi[F], Ei[F], label=f'CD={F}')\n",
        "\n",
        "# Adding title and labels\n",
        "plt.xlabel(\"nht\")\n",
        "plt.ylabel(\"Attacker Utility\")\n",
        "\n",
        "# Adding a legend\n",
        "plt.legend()\n",
        "\n",
        "plt.savefig(\"n10.pdf\", format=\"pdf\", bbox_inches=\"tight\")\n",
        "\n",
        "\n",
        "# Displaying the plot\n",
        "plt.show()\n",
        "\n"
      ],
      "metadata": {
        "id": "SLb-f9lpzV6P"
      },
      "execution_count": null,
      "outputs": []
    },
    {
      "cell_type": "code",
      "source": [
        "# Generate multiple lines on the same plot\n",
        "for F in F_range:\n",
        "    plt.plot(Fi[F], Ri[F], label=f'CD={F}')\n",
        "\n",
        "# Adding title and labels\n",
        "plt.xlabel(\"nht\")\n",
        "plt.ylabel(\"ρ\")\n",
        "\n",
        "# Adding a legend\n",
        "plt.legend()\n",
        "\n",
        "plt.savefig(\"n11.pdf\", format=\"pdf\", bbox_inches=\"tight\")"
      ],
      "metadata": {
        "id": "KfeyQZCv-X6J"
      },
      "execution_count": null,
      "outputs": []
    },
    {
      "cell_type": "code",
      "source": [
        "from collections import defaultdict\n",
        "import matplotlib.pyplot as plt\n",
        "\n",
        "# Attacker utils eval for F and Cx\n",
        "\n",
        "Fi = defaultdict(list)\n",
        "Ei = defaultdict(list)\n",
        "\n",
        "F_range = range(10000, 15000, 1000)\n",
        "# F_range = range(25, 150, 25)\n",
        "R_range = range(0,1000,100)  #\n",
        "\n",
        "for F in F_range:\n",
        "    for R in R_range:\n",
        "        p = sample.clone()\n",
        "        p.F=F\n",
        "        p.C_x=R\n",
        "        p=p.clone()\n",
        "        e_a_b_1 = t_u_3_1(p)\n",
        "\n",
        "        Fi[F].append(R)\n",
        "        Ei[F].append(e_a_b_1)\n",
        "\n",
        "# Generate multiple lines on the same plot\n",
        "for F in F_range:\n",
        "    plt.plot(Fi[F], Ei[F], label=f'F={F}')\n",
        "\n",
        "# Adding title and labels\n",
        "plt.xlabel(\"Cx\")\n",
        "plt.ylabel(\"Attacker Utility\")\n",
        "\n",
        "# Adding a legend\n",
        "plt.legend()\n",
        "\n",
        "plt.savefig(\"n12.pdf\", format=\"pdf\", bbox_inches=\"tight\")\n",
        "\n",
        "\n",
        "# Displaying the plot\n",
        "plt.show()\n",
        "\n"
      ],
      "metadata": {
        "id": "fMVDm3tmLYfw"
      },
      "execution_count": null,
      "outputs": []
    },
    {
      "cell_type": "code",
      "source": [
        "from collections import defaultdict\n",
        "import matplotlib.pyplot as plt\n",
        "\n",
        "\n",
        "# Attacker utils eval for V and p1\n",
        "\n",
        "\n",
        "Fi = defaultdict(list)\n",
        "Ei = defaultdict(list)\n",
        "\n",
        "# Define realistic ranges for the variables\n",
        "V_range = range(100, 5000, 500)\n",
        "p0_range = [0.1,0.2,0.3,0.4,0.5]\n",
        "\n",
        "for p0 in p0_range:\n",
        "    for V in V_range:\n",
        "        p = sample.clone()\n",
        "        p.V_i_prime=V\n",
        "        p.p_1=p0\n",
        "        p=p.clone()\n",
        "        e_a_b_1 = t_u_3_1(p)\n",
        "\n",
        "        Fi[p0].append(V)\n",
        "        Ei[p0].append(e_a_b_1)\n",
        "\n",
        "# Generate multiple lines on the same plot\n",
        "for p0 in p0_range:\n",
        "    plt.plot(Fi[p0], Ei[p0], label=f'p0={p0}')\n",
        "\n",
        "# Adding title and labels\n",
        "plt.xlabel(\"V_i_prime\")\n",
        "plt.ylabel(\"Attacker Utility\")\n",
        "\n",
        "# Adding a legend\n",
        "plt.legend()\n",
        "\n",
        "plt.savefig(\"n13.pdf\", format=\"pdf\", bbox_inches=\"tight\")\n",
        "\n",
        "\n",
        "# Displaying the plot\n",
        "plt.show()\n",
        "\n"
      ],
      "metadata": {
        "id": "cvGv80RckSAZ"
      },
      "execution_count": null,
      "outputs": []
    },
    {
      "cell_type": "code",
      "source": [
        "from collections import defaultdict\n",
        "import matplotlib.pyplot as plt\n",
        "\n",
        "\n",
        "# Attacker utils eval for CH and R\n",
        "\n",
        "\n",
        "Fi = defaultdict(list)\n",
        "Ei = defaultdict(list)\n",
        "\n",
        "# Define realistic ranges for the variables\n",
        "F_range = range(100,1000,200)\n",
        "R_range = range(100,1000, 100)\n",
        "\n",
        "for F in F_range:\n",
        "    for R in R_range:\n",
        "        p = sample.clone()\n",
        "        p.V_i=F\n",
        "        p.R_i=R\n",
        "        p=p.clone()\n",
        "        e_a_b_1 = u_3_1(p)\n",
        "        Fi[F].append(R)\n",
        "        Ei[F].append(e_a_b_1)\n",
        "\n",
        "# Generate multiple lines on the same plot\n",
        "for F in F_range:\n",
        "    plt.plot(Fi[F], Ei[F], label=f'Vi={F}')\n",
        "\n",
        "# Adding title and labels\n",
        "plt.xlabel(\"R\")\n",
        "plt.ylabel(\"Defender Utility\")\n",
        "\n",
        "# Adding a legend\n",
        "plt.legend()\n",
        "\n",
        "plt.savefig(\"n14.pdf\", format=\"pdf\", bbox_inches=\"tight\")\n",
        "\n",
        "\n",
        "# Displaying the plot\n",
        "plt.show()\n",
        "\n"
      ],
      "metadata": {
        "id": "kZKN6JucFr8Y"
      },
      "execution_count": null,
      "outputs": []
    },
    {
      "cell_type": "code",
      "source": [
        "from collections import defaultdict\n",
        "import matplotlib.pyplot as plt\n",
        "\n",
        "Fi = defaultdict(list)\n",
        "Ei = defaultdict(list)\n",
        "Zi=defaultdict(list)\n",
        "# Attacker utils eval for F and Cnh\n",
        "F_range = range(600,1600,200)\n",
        "R_range = range(0,200,20)\n",
        "\n",
        "for F in F_range:\n",
        "    for R in R_range:\n",
        "        p = sample.clone()\n",
        "        p.V_i=F\n",
        "        p.C_nh=R\n",
        "        p=p.clone()\n",
        "        Zi[F].append(p.zeta)\n",
        "        e_a_b_1 = u_3_1(p)\n",
        "        Fi[F].append(R)\n",
        "        Ei[F].append(e_a_b_1)\n",
        "\n",
        "# Generate multiple lines on the same plot\n",
        "for F in F_range:\n",
        "    plt.plot(Fi[F], Ei[F], label=f'Vi={F}')\n",
        "\n",
        "\n",
        "\n",
        "# Adding title and labels\n",
        "plt.xlabel(\"Cnh\")\n",
        "plt.ylabel(\"Defender Utility\")\n",
        "\n",
        "# Adding a legend\n",
        "plt.legend()\n",
        "\n",
        "plt.savefig(\"n15.pdf\", format=\"pdf\", bbox_inches=\"tight\")\n",
        "\n",
        "\n",
        "\n",
        "\n",
        "\n"
      ],
      "metadata": {
        "id": "AfYTZlryKS3Q"
      },
      "execution_count": null,
      "outputs": []
    },
    {
      "cell_type": "code",
      "source": [
        "# Generate multiple lines on the same plot\n",
        "for F in F_range:\n",
        "    plt.plot(Fi[F], Zi[F], label=f'Vi={F}')\n",
        "\n",
        "# Adding title and labels\n",
        "plt.xlabel(\"Cnh\")\n",
        "plt.ylabel(\"ζ\")\n",
        "\n",
        "# Adding a legend\n",
        "plt.legend()\n",
        "\n",
        "plt.savefig(\"n16.pdf\", format=\"pdf\", bbox_inches=\"tight\")"
      ],
      "metadata": {
        "id": "FxbAKrUtLKQS"
      },
      "execution_count": null,
      "outputs": []
    },
    {
      "cell_type": "code",
      "source": [
        "from collections import defaultdict\n",
        "import matplotlib.pyplot as plt\n",
        "\n",
        "Fi = defaultdict(list)\n",
        "Ei = defaultdict(list)\n",
        "Gi=defaultdict(list)\n",
        "\n",
        "# Attacker utils eval for F and Chf\n",
        "# F_range = range(20,120,20)\n",
        "F_range = range(600,1600,200)\n",
        "R_range = range(0,1000,100)\n",
        "\n",
        "for F in F_range:\n",
        "    for R in R_range:\n",
        "        p = sample.clone()\n",
        "        p.V_i=F\n",
        "        p.n_hf=R\n",
        "\n",
        "        p=p.clone()\n",
        "\n",
        "        Gi[F].append(p.gamma)\n",
        "        e_a_b_1 = u_3_1(p)\n",
        "        Fi[F].append(R)\n",
        "        Ei[F].append(e_a_b_1)\n",
        "\n",
        "# Generate multiple lines on the same plot\n",
        "for F in F_range:\n",
        "    plt.plot(Fi[F], Ei[F], label=f'Vi={F}')\n",
        "\n",
        "# Adding title and labels\n",
        "plt.xlabel(\"nhf\")\n",
        "plt.ylabel(\"Defender Utility\")\n",
        "\n",
        "# Adding a legend\n",
        "plt.legend()\n",
        "\n",
        "plt.savefig(\"n17.pdf\", format=\"pdf\", bbox_inches=\"tight\")\n",
        "\n",
        "\n",
        "# Displaying the plot\n",
        "plt.show()\n",
        "\n"
      ],
      "metadata": {
        "id": "uc_L_8_uLm3R"
      },
      "execution_count": null,
      "outputs": []
    },
    {
      "cell_type": "code",
      "source": [
        "# Generate multiple lines on the same plot\n",
        "for F in F_range:\n",
        "    plt.plot(Fi[F], Gi[F], label=f'Vi={F}')\n",
        "\n",
        "# Adding title and labels\n",
        "plt.xlabel(\"nhf\")\n",
        "plt.ylabel(\"γ\")\n",
        "\n",
        "# Adding a legend\n",
        "plt.legend()\n",
        "\n",
        "plt.savefig(\"n18.pdf\", format=\"pdf\", bbox_inches=\"tight\")"
      ],
      "metadata": {
        "id": "hbjQR2GgMRTl"
      },
      "execution_count": null,
      "outputs": []
    },
    {
      "cell_type": "code",
      "source": [
        "from collections import defaultdict\n",
        "import matplotlib.pyplot as plt\n",
        "\n",
        "Fi = defaultdict(list)\n",
        "Ei = defaultdict(list)\n",
        "Ti = defaultdict(list)\n",
        "\n",
        "# Attacker utils eval for F and Chp\n",
        "F_range = range(600,1600,200)\n",
        "R_range = range(0,100,10)\n",
        "\n",
        "for F in F_range:\n",
        "    for R in R_range:\n",
        "        p = sample.clone()\n",
        "        p.V_i=F\n",
        "        p.C_hp=R\n",
        "        p=p.clone()\n",
        "        Ti[F].append(p.tau)\n",
        "        e_a_b_1 = u_3_1(p)\n",
        "\n",
        "        Fi[F].append(R)\n",
        "        Ei[F].append(e_a_b_1)\n",
        "\n",
        "# Generate multiple lines on the same plot\n",
        "for F in F_range:\n",
        "    plt.plot(Fi[F], Ei[F], label=f'Vi={F}')\n",
        "\n",
        "# Adding title and labels\n",
        "plt.xlabel(\"Chp\")\n",
        "plt.ylabel(\"Defender Utility\")\n",
        "\n",
        "# Adding a legend\n",
        "plt.legend()\n",
        "\n",
        "plt.savefig(\"n19.pdf\", format=\"pdf\", bbox_inches=\"tight\")\n",
        "\n",
        "\n",
        "# Displaying the plot\n",
        "plt.show()\n",
        "\n"
      ],
      "metadata": {
        "id": "pORtn8E9M5lC"
      },
      "execution_count": null,
      "outputs": []
    },
    {
      "cell_type": "code",
      "source": [
        "# Generate multiple lines on the same plot\n",
        "for F in F_range:\n",
        "    plt.plot(Fi[F], Ti[F], label=f'Vi={F}')\n",
        "\n",
        "# Adding title and labels\n",
        "plt.xlabel(\"Chp\")\n",
        "plt.ylabel(\"τ\")\n",
        "\n",
        "# Adding a legend\n",
        "plt.legend()\n",
        "\n",
        "plt.savefig(\"n20.pdf\", format=\"pdf\", bbox_inches=\"tight\")"
      ],
      "metadata": {
        "id": "goSY1ZP0Ncf6"
      },
      "execution_count": null,
      "outputs": []
    },
    {
      "cell_type": "code",
      "source": [
        "from collections import defaultdict\n",
        "import matplotlib.pyplot as plt\n",
        "\n",
        "Fi = defaultdict(list)\n",
        "Ei = defaultdict(list)\n",
        "Ri = defaultdict(list)\n",
        "\n",
        "# Attacker utils eval for F and Cht\n",
        "F_range = range(600,1600,200)\n",
        "R_range = range(0,2000,200)\n",
        "\n",
        "for F in F_range:\n",
        "    for R in R_range:\n",
        "        p = sample.clone()\n",
        "        p.V_i=F\n",
        "        p.n_ht=R\n",
        "        p=p.clone()\n",
        "        Ri[F].append(p.rho)\n",
        "        e_a_b_1 = t_u_3_1(p)\n",
        "\n",
        "        Fi[F].append(R)\n",
        "        Ei[F].append(e_a_b_1)\n",
        "\n",
        "# Generate multiple lines on the same plot\n",
        "for F in F_range:\n",
        "    plt.plot(Fi[F], Ei[F], label=f'Vi={F}')\n",
        "\n",
        "# Adding title and labels\n",
        "plt.xlabel(\"nht\")\n",
        "plt.ylabel(\"Defender Utility\")\n",
        "\n",
        "# Adding a legend\n",
        "plt.legend()\n",
        "\n",
        "plt.savefig(\"n21.pdf\", format=\"pdf\", bbox_inches=\"tight\")\n",
        "\n",
        "\n",
        "# Displaying the plot\n",
        "plt.show()\n",
        "\n"
      ],
      "metadata": {
        "id": "AzzWBF0GN9PC"
      },
      "execution_count": null,
      "outputs": []
    },
    {
      "cell_type": "code",
      "source": [
        "# Generate multiple lines on the same plot\n",
        "for F in F_range:\n",
        "    plt.plot(Fi[F], Ri[F], label=f'Vi={F}')\n",
        "\n",
        "# Adding title and labels\n",
        "plt.xlabel(\"nht\")\n",
        "plt.ylabel(\"ρ\")\n",
        "\n",
        "# Adding a legend\n",
        "plt.legend()\n",
        "\n",
        "plt.savefig(\"n22.pdf\", format=\"pdf\", bbox_inches=\"tight\")"
      ],
      "metadata": {
        "id": "cwBaFOQgOwsd"
      },
      "execution_count": null,
      "outputs": []
    }
  ],
  "metadata": {
    "colab": {
      "provenance": []
    },
    "kernelspec": {
      "display_name": "Python 3",
      "language": "python",
      "name": "python3"
    },
    "language_info": {
      "codemirror_mode": {
        "name": "ipython",
        "version": 3
      },
      "file_extension": ".py",
      "mimetype": "text/x-python",
      "name": "python",
      "nbconvert_exporter": "python",
      "pygments_lexer": "ipython3",
      "version": "3.8.5"
    }
  },
  "nbformat": 4,
  "nbformat_minor": 0
}